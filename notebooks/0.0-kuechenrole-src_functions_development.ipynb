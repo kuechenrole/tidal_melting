{
 "cells": [
  {
   "cell_type": "markdown",
   "metadata": {},
   "source": [
    "# Development of several src functions\n",
    "\n",
    "## make_roms_ds"
   ]
  },
  {
   "cell_type": "code",
   "execution_count": 11,
   "metadata": {
    "scrolled": true
   },
   "outputs": [
    {
     "name": "stdout",
     "output_type": "stream",
     "text": [
      "Overwriting ../src/features/roms_ds.py\n"
     ]
    }
   ],
   "source": [
    "%%writefile ../src/features/roms_ds.py\n",
    "#read in raw data as xr.dataset\n",
    "import xarray as xr\n",
    "import numpy as np\n",
    "from .calc_z import calc_z\n",
    "\n",
    "def make_roms_ds(file_paths):\n",
    "    \n",
    "    print('set up multifile dataset')\n",
    "    ds_tmp = xr.open_mfdataset(file_paths)\n",
    "    \n",
    "    \n",
    "    print('set up 4D mask and add as variable to dataset')\n",
    "    mask_4d = np.swapaxes(np.tile(ds_tmp.mask_rho,(ds_tmp.s_rho.size,1,1,1)),0,1)\n",
    "    mask_4d_da = xr.DataArray(mask_4d,dims=['ocean_time','s_rho','eta_rho','xi_rho'])\n",
    "    ds_tmp['mask_4d'] = mask_4d_da\n",
    "    ds_tmp.mask_4d.attrs = ds_tmp.mask_rho.attrs\n",
    "    \n",
    "    \n",
    "    print('set up 3D xi and eta arrays, mask them and apply as coordinates')\n",
    "    xi_3d = np.tile(ds_tmp.xi_rho,(ds_tmp.s_rho.size,ds_tmp.eta_rho.size,1))\n",
    "    eta_3d = np.swapaxes(np.tile(ds_tmp.eta_rho,(ds_tmp.s_rho.size,ds_tmp.xi_rho.size,1)),1,2)\n",
    "    \n",
    "    xi_3d_ma = np.ma.masked_where(mask_4d[0]==0,xi_3d)\n",
    "    eta_3d_ma = np.ma.masked_where(mask_4d[0]==0,eta_3d)\n",
    "    \n",
    "    xi_3d_da = xr.DataArray(xi_3d_ma,dims=['s_rho','eta_rho','xi_rho'])\n",
    "    eta_3d_da = xr.DataArray(eta_3d_ma,dims=['s_rho','eta_rho','xi_rho'])\n",
    "    \n",
    "    ds_tmp = ds_tmp.assign_coords(xi_3d=xi_3d_da)\n",
    "    ds_tmp = ds_tmp.assign_coords(eta_3d=eta_3d_da)\n",
    "    \n",
    "    ds_tmp.xi_3d.attrs = ds_tmp.xi_rho.attrs\n",
    "    ds_tmp.eta_3d.attrs = ds_tmp.eta_rho.attrs\n",
    "    \n",
    "    \n",
    "    print('calculate 4D depth array')\n",
    "    depths = np.empty((ds_tmp.ocean_time.size,ds_tmp.s_rho.size,ds_tmp.eta_rho.size,ds_tmp.xi_rho.size))\n",
    "    \n",
    "    for tstep in np.arange(ds_tmp.ocean_time.size):\n",
    "\n",
    "        h = ds_tmp.h[tstep].values\n",
    "        zice = ds_tmp.zice[tstep].values\n",
    "        theta_s = ds_tmp.theta_s[tstep].values\n",
    "        theta_b = ds_tmp.theta_b[tstep].values\n",
    "        hc = ds_tmp.hc[tstep].values\n",
    "        N = ds_tmp.s_rho.size\n",
    "        zeta = ds_tmp.zeta[tstep].values\n",
    "        Vstretching = ds_tmp.Vstretching[tstep].values\n",
    "        depths[tstep],s,C = calc_z(h,zice,theta_s,theta_b,hc,N,zeta,Vstretching)\n",
    "        \n",
    "    print('apply mask to depths')\n",
    "    depths_ma = np.ma.masked_where(ds_tmp.mask_4d==0,depths)\n",
    "        \n",
    "    print('assign depth as new coordinate to the data set')\n",
    "    depth_da = xr.DataArray(depths_ma,dims=['ocean_time','s_rho','eta_rho','xi_rho'])\n",
    "    ds = ds_tmp.assign_coords(depth=depth_da)\n",
    "    \n",
    "    return ds"
   ]
  },
  {
   "cell_type": "markdown",
   "metadata": {},
   "source": [
    "### Build a test for make_roms_ds"
   ]
  },
  {
   "cell_type": "code",
   "execution_count": 22,
   "metadata": {},
   "outputs": [
    {
     "name": "stdout",
     "output_type": "stream",
     "text": [
      "Overwriting ../src/features/test_features.py\n"
     ]
    }
   ],
   "source": [
    "%%writefile ../src/features/test_features.py\n",
    "\n",
    "import os\n",
    "import sys\n",
    "\n",
    "# add the 'src/' directory as one where we can import modules\n",
    "src_dir = os.path.join('src')\n",
    "sys.path.append(src_dir)\n",
    "\n",
    "def test_make_roms_ds():\n",
    "    \n",
    "    from features.roms_ds import make_roms_ds\n",
    "    import os\n",
    "    \n",
    "    file_path = os.path.join(os.pardir,'data','raw','waom10_full_forcing','ocean_avg_000[4,5].nc')\n",
    "    ds = make_roms_ds(file_path)\n",
    "    \n",
    "    assert ds.depth.isnull().any() == True, 'depth has no NaN'"
   ]
  },
  {
   "cell_type": "code",
   "execution_count": 15,
   "metadata": {},
   "outputs": [
    {
     "name": "stdout",
     "output_type": "stream",
     "text": [
      "set up multifile dataset\n",
      "set up 4D mask and add as variable to dataset\n",
      "set up 3D xi and eta arrays, mask them and apply as coordinates\n",
      "calculate 4D depth array\n",
      "apply mask to depths\n",
      "assign depth as new coordinate to the data set\n"
     ]
    }
   ],
   "source": [
    "test_make_roms_ds()"
   ]
  },
  {
   "cell_type": "markdown",
   "metadata": {},
   "source": [
    "### Mask variables"
   ]
  },
  {
   "cell_type": "markdown",
   "metadata": {},
   "source": [
    "It is not possible to store masked arrays in xarrays. workable solutions are to use da.to_masked_array(), da.isnull(), da.notnull(), ma.mask_invalid(ds.values) \n",
    "### Plotting examples"
   ]
  },
  {
   "cell_type": "code",
   "execution_count": 9,
   "metadata": {},
   "outputs": [
    {
     "name": "stdout",
     "output_type": "stream",
     "text": [
      "The autoreload extension is already loaded. To reload it, use:\n",
      "  %reload_ext autoreload\n",
      "set up multifile dataset\n",
      "set up 4D mask and add as variable to dataset\n",
      "set up 3D xi and eta arrays, mask them and apply as coordinates\n",
      "calculate 4D depth array\n",
      "apply mask to depths\n",
      "assign depth as new coordinate to the data set\n"
     ]
    }
   ],
   "source": [
    "import sys\n",
    "import os\n",
    "\n",
    "# Load the \"autoreload\" extension\n",
    "%load_ext autoreload\n",
    "# always reload modules marked with \"%aimport\"\n",
    "%autoreload 1\n",
    "\n",
    "# add the 'src/visualization/' directory as one where we can import modules\n",
    "src_dir = os.path.join(os.pardir,'src')\n",
    "sys.path.append(src_dir)\n",
    "\n",
    "# import my methods, make sure they get reloded by each call\n",
    "%aimport features.build_roms_ds\n",
    "\n",
    "from features.roms_ds import make_roms_ds\n",
    "\n",
    "file_path = os.path.join(os.pardir,'data','raw','waom10_full_forcing','ocean_avg_000[4,5].nc')\n",
    "\n",
    "ds_tmp = make_roms_ds(file_path)"
   ]
  },
  {
   "cell_type": "code",
   "execution_count": 173,
   "metadata": {
    "scrolled": true
   },
   "outputs": [
    {
     "data": {
      "image/png": "[encoded data removed]",
      "text/plain": [
       "<matplotlib.figure.Figure at 0x7fd670fa1080>"
      ]
     },
     "metadata": {},
     "output_type": "display_data"
    }
   ],
   "source": [
    "plt.clf()\n",
    "#ds_tmp.temp[0,:,300,:].plot.pcolormesh(x='xi_3d',y='depth')\n",
    "da = ds_tmp.temp[0,:,300]\n",
    "val = da.to_masked_array()\n",
    "x = da.xi_3d.to_masked_array()\n",
    "y = da.depth.to_masked_array()\n",
    "plt.pcolormesh(x,y,val)\n",
    "plt.show()"
   ]
  },
  {
   "cell_type": "markdown",
   "metadata": {},
   "source": [
    "## make_sose_ds"
   ]
  },
  {
   "cell_type": "code",
   "execution_count": 62,
   "metadata": {},
   "outputs": [],
   "source": [
    "#import sose module and define sose_data path \n",
    "import os\n",
    "import sys\n",
    "import xarray as xr\n",
    "# add the 'src/' directory as one where we can import modules\n",
    "src_dir = os.path.join(os.pardir,'src')\n",
    "sys.path.append(src_dir)\n",
    "\n",
    "import features.mds as mds\n",
    "import scipy.io as sio\n",
    "import numpy as np\n",
    "\n",
    "# add the 'src/visualization/' directory as one where we can import modules\n",
    "sose_dir = os.path.join(os.pardir,'data','external','sose')"
   ]
  },
  {
   "cell_type": "code",
   "execution_count": 57,
   "metadata": {},
   "outputs": [],
   "source": [
    "mds.rdmds?"
   ]
  },
  {
   "cell_type": "code",
   "execution_count": 58,
   "metadata": {},
   "outputs": [
    {
     "name": "stderr",
     "output_type": "stream",
     "text": [
      "/home/ubuntu/bigStick/anaconda3/lib/python3.6/re.py:212: FutureWarning: split() requires a non-empty pattern match.\n",
      "  return _compile(pattern, flags).split(string, maxsplit)\n"
     ]
    }
   ],
   "source": [
    "sose_grid_path = os.path.join(sose_dir,'grid.mat')\n",
    "sose_grid = sio.loadmat(sose_grid_path)\n",
    "\n",
    "sose_temp_path = os.path.join(sose_dir,'THETA_mnthlyBar')\n",
    "sose_temp_raw,itr,sose_temp_raw_meta = mds.rdmds(sose_temp_path,100,returnmeta=True,rec=0,fill_value=np.NaN)"
   ]
  },
  {
   "cell_type": "code",
   "execution_count": 78,
   "metadata": {},
   "outputs": [
    {
     "ename": "MissingDimensionsError",
     "evalue": "'latitude' has more than 1-dimension and the same name as one of its dimensions ('longitude', 'latitude'). xarray disallows such variables because they conflict with the coordinates used to label dimensions.",
     "output_type": "error",
     "traceback": [
      "\u001b[0;31m---------------------------------------------------------------------------\u001b[0m",
      "\u001b[0;31mMissingDimensionsError\u001b[0m                    Traceback (most recent call last)",
      "\u001b[0;32m<ipython-input-78-e257390816c6>\u001b[0m in \u001b[0;36m<module>\u001b[0;34m()\u001b[0m\n\u001b[1;32m      2\u001b[0m \u001b[0mlons\u001b[0m\u001b[0;34m=\u001b[0m\u001b[0msose_grid\u001b[0m\u001b[0;34m[\u001b[0m\u001b[0;34m\"YC\"\u001b[0m\u001b[0;34m]\u001b[0m\u001b[0;34m\u001b[0m\u001b[0m\n\u001b[1;32m      3\u001b[0m \u001b[0mdepths\u001b[0m\u001b[0;34m=\u001b[0m\u001b[0msose_grid\u001b[0m\u001b[0;34m[\u001b[0m\u001b[0;34m\"Depth\"\u001b[0m\u001b[0;34m]\u001b[0m\u001b[0;34m\u001b[0m\u001b[0m\n\u001b[0;32m----> 4\u001b[0;31m \u001b[0msose_temp_da\u001b[0m \u001b[0;34m=\u001b[0m \u001b[0mxr\u001b[0m\u001b[0;34m.\u001b[0m\u001b[0mDataArray\u001b[0m\u001b[0;34m(\u001b[0m\u001b[0msose_temp_raw\u001b[0m\u001b[0;34m,\u001b[0m\u001b[0mcoords\u001b[0m\u001b[0;34m=\u001b[0m\u001b[0;34m{\u001b[0m\u001b[0;34m'latitude'\u001b[0m\u001b[0;34m:\u001b[0m\u001b[0mlats\u001b[0m\u001b[0;34m}\u001b[0m\u001b[0;34m)\u001b[0m\u001b[0;34m\u001b[0m\u001b[0m\n\u001b[0m",
      "\u001b[0;32m/home/ubuntu/bigStick/anaconda3/lib/python3.6/site-packages/xarray/core/dataarray.py\u001b[0m in \u001b[0;36m__init__\u001b[0;34m(self, data, coords, dims, name, attrs, encoding, fastpath)\u001b[0m\n\u001b[1;32m    233\u001b[0m \u001b[0;34m\u001b[0m\u001b[0m\n\u001b[1;32m    234\u001b[0m             \u001b[0mdata\u001b[0m \u001b[0;34m=\u001b[0m \u001b[0mas_compatible_data\u001b[0m\u001b[0;34m(\u001b[0m\u001b[0mdata\u001b[0m\u001b[0;34m)\u001b[0m\u001b[0;34m\u001b[0m\u001b[0m\n\u001b[0;32m--> 235\u001b[0;31m             \u001b[0mcoords\u001b[0m\u001b[0;34m,\u001b[0m \u001b[0mdims\u001b[0m \u001b[0;34m=\u001b[0m \u001b[0m_infer_coords_and_dims\u001b[0m\u001b[0;34m(\u001b[0m\u001b[0mdata\u001b[0m\u001b[0;34m.\u001b[0m\u001b[0mshape\u001b[0m\u001b[0;34m,\u001b[0m \u001b[0mcoords\u001b[0m\u001b[0;34m,\u001b[0m \u001b[0mdims\u001b[0m\u001b[0;34m)\u001b[0m\u001b[0;34m\u001b[0m\u001b[0m\n\u001b[0m\u001b[1;32m    236\u001b[0m             \u001b[0mvariable\u001b[0m \u001b[0;34m=\u001b[0m \u001b[0mVariable\u001b[0m\u001b[0;34m(\u001b[0m\u001b[0mdims\u001b[0m\u001b[0;34m,\u001b[0m \u001b[0mdata\u001b[0m\u001b[0;34m,\u001b[0m \u001b[0mattrs\u001b[0m\u001b[0;34m,\u001b[0m \u001b[0mencoding\u001b[0m\u001b[0;34m,\u001b[0m \u001b[0mfastpath\u001b[0m\u001b[0;34m=\u001b[0m\u001b[0;32mTrue\u001b[0m\u001b[0;34m)\u001b[0m\u001b[0;34m\u001b[0m\u001b[0m\n\u001b[1;32m    237\u001b[0m \u001b[0;34m\u001b[0m\u001b[0m\n",
      "\u001b[0;32m/home/ubuntu/bigStick/anaconda3/lib/python3.6/site-packages/xarray/core/dataarray.py\u001b[0m in \u001b[0;36m_infer_coords_and_dims\u001b[0;34m(shape, coords, dims)\u001b[0m\n\u001b[1;32m     68\u001b[0m     \u001b[0;32mif\u001b[0m \u001b[0mutils\u001b[0m\u001b[0;34m.\u001b[0m\u001b[0mis_dict_like\u001b[0m\u001b[0;34m(\u001b[0m\u001b[0mcoords\u001b[0m\u001b[0;34m)\u001b[0m\u001b[0;34m:\u001b[0m\u001b[0;34m\u001b[0m\u001b[0m\n\u001b[1;32m     69\u001b[0m         \u001b[0;32mfor\u001b[0m \u001b[0mk\u001b[0m\u001b[0;34m,\u001b[0m \u001b[0mv\u001b[0m \u001b[0;32min\u001b[0m \u001b[0mcoords\u001b[0m\u001b[0;34m.\u001b[0m\u001b[0mitems\u001b[0m\u001b[0;34m(\u001b[0m\u001b[0;34m)\u001b[0m\u001b[0;34m:\u001b[0m\u001b[0;34m\u001b[0m\u001b[0m\n\u001b[0;32m---> 70\u001b[0;31m             \u001b[0mnew_coords\u001b[0m\u001b[0;34m[\u001b[0m\u001b[0mk\u001b[0m\u001b[0;34m]\u001b[0m \u001b[0;34m=\u001b[0m \u001b[0mas_variable\u001b[0m\u001b[0;34m(\u001b[0m\u001b[0mv\u001b[0m\u001b[0;34m,\u001b[0m \u001b[0mname\u001b[0m\u001b[0;34m=\u001b[0m\u001b[0mk\u001b[0m\u001b[0;34m)\u001b[0m\u001b[0;34m\u001b[0m\u001b[0m\n\u001b[0m\u001b[1;32m     71\u001b[0m     \u001b[0;32melif\u001b[0m \u001b[0mcoords\u001b[0m \u001b[0;32mis\u001b[0m \u001b[0;32mnot\u001b[0m \u001b[0;32mNone\u001b[0m\u001b[0;34m:\u001b[0m\u001b[0;34m\u001b[0m\u001b[0m\n\u001b[1;32m     72\u001b[0m         \u001b[0;32mfor\u001b[0m \u001b[0mdim\u001b[0m\u001b[0;34m,\u001b[0m \u001b[0mcoord\u001b[0m \u001b[0;32min\u001b[0m \u001b[0mzip\u001b[0m\u001b[0;34m(\u001b[0m\u001b[0mdims\u001b[0m\u001b[0;34m,\u001b[0m \u001b[0mcoords\u001b[0m\u001b[0;34m)\u001b[0m\u001b[0;34m:\u001b[0m\u001b[0;34m\u001b[0m\u001b[0m\n",
      "\u001b[0;32m/home/ubuntu/bigStick/anaconda3/lib/python3.6/site-packages/xarray/core/variable.py\u001b[0m in \u001b[0;36mas_variable\u001b[0;34m(obj, name)\u001b[0m\n\u001b[1;32m    118\u001b[0m                 \u001b[0;34m'dimensions %r. xarray disallows such variables because they '\u001b[0m\u001b[0;34m\u001b[0m\u001b[0m\n\u001b[1;32m    119\u001b[0m                 \u001b[0;34m'conflict with the coordinates used to label '\u001b[0m\u001b[0;34m\u001b[0m\u001b[0m\n\u001b[0;32m--> 120\u001b[0;31m                 'dimensions.' % (name, obj.dims))\n\u001b[0m\u001b[1;32m    121\u001b[0m         \u001b[0mobj\u001b[0m \u001b[0;34m=\u001b[0m \u001b[0mobj\u001b[0m\u001b[0;34m.\u001b[0m\u001b[0mto_index_variable\u001b[0m\u001b[0;34m(\u001b[0m\u001b[0;34m)\u001b[0m\u001b[0;34m\u001b[0m\u001b[0m\n\u001b[1;32m    122\u001b[0m \u001b[0;34m\u001b[0m\u001b[0m\n",
      "\u001b[0;31mMissingDimensionsError\u001b[0m: 'latitude' has more than 1-dimension and the same name as one of its dimensions ('longitude', 'latitude'). xarray disallows such variables because they conflict with the coordinates used to label dimensions."
     ]
    }
   ],
   "source": [
    "lats=(('longitude','latitude'),sose_grid[\"XC\"])\n",
    "lons=sose_grid[\"YC\"]\n",
    "depths=sose_grid[\"Depth\"]\n",
    "sose_temp_da = xr.DataArray(sose_temp_raw,coords={'latitude':lats})"
   ]
  },
  {
   "cell_type": "code",
   "execution_count": 74,
   "metadata": {},
   "outputs": [
    {
     "data": {
      "text/plain": [
       "dict_keys(['__header__', '__version__', '__globals__', 'Depth', 'DXC', 'DXG', 'DYC', 'DYG', 'hFacC', 'hFacS', 'hFacW', 'maskCtrlC', 'maskCtrlS', 'maskCtrlW', 'XC', 'XG', 'YC', 'YG', 'RAC', 'RAS', 'RAW', 'RAZ', 'RC', 'RF', 'DRC', 'DRF'])"
      ]
     },
     "execution_count": 74,
     "metadata": {},
     "output_type": "execute_result"
    }
   ],
   "source": [
    "sose_grid.keys()"
   ]
  },
  {
   "cell_type": "code",
   "execution_count": 70,
   "metadata": {},
   "outputs": [
    {
     "data": {
      "text/plain": [
       "<xarray.DataArray (depth: 42, latitude: 320, longitude: 2160)>\n",
       "array([[[  0.000000e+00,   0.000000e+00, ...,   0.000000e+00,   0.000000e+00],\n",
       "        [  0.000000e+00,   0.000000e+00, ...,   0.000000e+00,   0.000000e+00],\n",
       "        ..., \n",
       "        [  2.264508e+01,   2.263531e+01, ...,   2.266486e+01,   2.265486e+01],\n",
       "        [  2.261070e+01,   2.260002e+01, ...,   2.263203e+01,   2.262136e+01]],\n",
       "\n",
       "       [[  0.000000e+00,   0.000000e+00, ...,   0.000000e+00,   0.000000e+00],\n",
       "        [  0.000000e+00,   0.000000e+00, ...,   0.000000e+00,   0.000000e+00],\n",
       "        ..., \n",
       "        [  2.258324e+01,   2.257294e+01, ...,   2.260341e+01,   2.259324e+01],\n",
       "        [  2.253064e+01,   2.251884e+01, ...,   2.255422e+01,   2.254243e+01]],\n",
       "\n",
       "       ..., \n",
       "       [[  0.000000e+00,   0.000000e+00, ...,   0.000000e+00,   0.000000e+00],\n",
       "        [  0.000000e+00,   0.000000e+00, ...,   0.000000e+00,   0.000000e+00],\n",
       "        ..., \n",
       "        [  1.961878e+00,   1.962632e+00, ...,   2.259535e-07,   0.000000e+00],\n",
       "        [  1.971120e+00,   1.971128e+00, ...,   0.000000e+00,   0.000000e+00]],\n",
       "\n",
       "       [[  0.000000e+00,   0.000000e+00, ...,   0.000000e+00,   0.000000e+00],\n",
       "        [  0.000000e+00,   0.000000e+00, ...,   0.000000e+00,   0.000000e+00],\n",
       "        ..., \n",
       "        [  0.000000e+00,   0.000000e+00, ...,   0.000000e+00,   0.000000e+00],\n",
       "        [  0.000000e+00,   0.000000e+00, ...,   0.000000e+00,   0.000000e+00]]])\n",
       "Dimensions without coordinates: depth, latitude, longitude"
      ]
     },
     "execution_count": 70,
     "metadata": {},
     "output_type": "execute_result"
    }
   ],
   "source": [
    "sose_temp_da"
   ]
  },
  {
   "cell_type": "code",
   "execution_count": null,
   "metadata": {
    "collapsed": true
   },
   "outputs": [],
   "source": []
  }
 ],
 "metadata": {
  "kernelspec": {
   "display_name": "Python 3",
   "language": "python",
   "name": "python3"
  },
  "language_info": {
   "codemirror_mode": {
    "name": "ipython",
    "version": 3
   },
   "file_extension": ".py",
   "mimetype": "text/x-python",
   "name": "python",
   "nbconvert_exporter": "python",
   "pygments_lexer": "ipython3",
   "version": "3.6.1"
  }
 },
 "nbformat": 4,
 "nbformat_minor": 2
}

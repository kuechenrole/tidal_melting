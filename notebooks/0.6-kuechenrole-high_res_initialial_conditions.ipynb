{
 "cells": [
  {
   "cell_type": "markdown",
   "metadata": {},
   "source": [
    "# Generate initial conditions file for high resolution experiment\n",
    "We want to initialize the high res run with the solution of the 10km rum. Therefore we have to map 2D velocities, ssh, salinity and temperature fields on the new grid.\n",
    "## Prepare empty ini file\n",
    "Since the grid is evenly spaced, we can simply interpolate on the grid coordinates (xi,eta)."
   ]
  },
  {
   "cell_type": "code",
   "execution_count": 21,
   "metadata": {
    "scrolled": true
   },
   "outputs": [],
   "source": [
    "import xarray as xr\n",
    "import matplotlib.pyplot as plt\n",
    "import numpy as np\n",
    "import os\n",
    "\n",
    "hr_grid_path = os.path.join(os.pardir,'data','preprocessing','interim','waom5_MinDepth20_grd.nc')\n",
    "hr_grid = xr.open_dataset(hr_grid_path)\n",
    "\n",
    "lr_rst_path =  os.path.join(os.pardir,'data','raw','waom10_full_forcing','ocean_rst.nc')\n",
    "lr_rst = xr.open_dataset(lr_rst_path).isel(ocean_time=0)\n",
    "\n",
    "lr_ini_path = os.path.join(os.pardir,'data','raw','waom10_small_domain','Data','waom10','waom10_ini.nc')\n",
    "lr_ini = xr.open_dataset(lr_ini_path)\n",
    "\n",
    "hr_ini = lr_ini.drop(['u','v','ubar','vbar','salt','temp','zeta'])"
   ]
  },
  {
   "cell_type": "code",
   "execution_count": 33,
   "metadata": {},
   "outputs": [
    {
     "data": {
      "text/plain": [
       "(1460, 1719)"
      ]
     },
     "execution_count": 33,
     "metadata": {},
     "output_type": "execute_result"
    }
   ],
   "source": [
    "data = np.empty(hr_grid.mask_u.shape)\n",
    "\n",
    "lr_rst.ocean_time.expand_dims?\n",
    "hr_grid.mask_u.shape"
   ]
  },
  {
   "cell_type": "code",
   "execution_count": 36,
   "metadata": {
    "scrolled": true
   },
   "outputs": [],
   "source": [
    "ubar = xr.DataArray(np.empty(hr_grid.mask_u.shape),dims=['eta_u','xi_u'],coords=[hr_grid.eta_u,hr_grid.xi_u])\n",
    "ubar.expand_dims('ocean_time',0)\n",
    "ubar['ocean_time']=lr_rst.ocean_time"
   ]
  },
  {
   "cell_type": "code",
   "execution_count": 37,
   "metadata": {},
   "outputs": [
    {
     "data": {
      "text/plain": [
       "<xarray.DataArray (eta_u: 1460, xi_u: 1719)>\n",
       "array([[  1.635084e-316,   6.924499e-310,   1.635084e-316, ...,   0.000000e+000,\n",
       "          0.000000e+000,   0.000000e+000],\n",
       "       [  0.000000e+000,   0.000000e+000,   0.000000e+000, ...,   0.000000e+000,\n",
       "          0.000000e+000,   0.000000e+000],\n",
       "       [  0.000000e+000,   0.000000e+000,   0.000000e+000, ...,   0.000000e+000,\n",
       "          0.000000e+000,   0.000000e+000],\n",
       "       ..., \n",
       "       [  0.000000e+000,   0.000000e+000,   0.000000e+000, ...,   0.000000e+000,\n",
       "          0.000000e+000,   0.000000e+000],\n",
       "       [  0.000000e+000,   0.000000e+000,   0.000000e+000, ...,   0.000000e+000,\n",
       "          0.000000e+000,   0.000000e+000],\n",
       "       [  0.000000e+000,   0.000000e+000,   0.000000e+000, ...,   0.000000e+000,\n",
       "          0.000000e+000,   0.000000e+000]])\n",
       "Coordinates:\n",
       "  * eta_u       (eta_u) int64 0 1 2 3 4 5 6 7 8 9 10 11 12 13 14 15 16 17 18 ...\n",
       "  * xi_u        (xi_u) int64 0 1 2 3 4 5 6 7 8 9 10 11 12 13 14 15 16 17 18 ...\n",
       "    ocean_time  datetime64[ns] 1999-12-31"
      ]
     },
     "execution_count": 37,
     "metadata": {},
     "output_type": "execute_result"
    }
   ],
   "source": [
    "ubar"
   ]
  },
  {
   "cell_type": "code",
   "execution_count": null,
   "metadata": {
    "collapsed": true
   },
   "outputs": [],
   "source": []
  }
 ],
 "metadata": {
  "kernelspec": {
   "display_name": "Python 3",
   "language": "python",
   "name": "python3"
  },
  "language_info": {
   "codemirror_mode": {
    "name": "ipython",
    "version": 3
   },
   "file_extension": ".py",
   "mimetype": "text/x-python",
   "name": "python",
   "nbconvert_exporter": "python",
   "pygments_lexer": "ipython3",
   "version": "3.6.1"
  }
 },
 "nbformat": 4,
 "nbformat_minor": 2
}

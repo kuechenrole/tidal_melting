{
 "cells": [
  {
   "cell_type": "code",
   "execution_count": 2,
   "metadata": {},
   "outputs": [],
   "source": [
    "import matplotlib.pyplot as plt\n",
    "import xarray as xr\n",
    "import numpy as np\n",
    "import os\n",
    "import sys"
   ]
  },
  {
   "cell_type": "code",
   "execution_count": 259,
   "metadata": {},
   "outputs": [],
   "source": [
    "g=xr.open_dataset(os.path.join(os.environ.get('rawdir'),'trunk','test_grd.nc'))\n",
    "b=xr.open_dataset(os.path.join(os.environ.get('rawdir'),'trunk','waom10_grd.nc'))"
   ]
  },
  {
   "cell_type": "code",
   "execution_count": 260,
   "metadata": {},
   "outputs": [
    {
     "name": "stderr",
     "output_type": "stream",
     "text": [
      "/home/ubuntu/bigStick/anaconda3/envs/tidal_melting/lib/python3.6/_collections_abc.py:743: FutureWarning: iteration over an xarray.Dataset will change in xarray v0.11 to only include data variables, not coordinates. Iterate over the Dataset.variables property instead to preserve existing behavior in a forwards compatible manner.\n",
      "  for key in self._mapping:\n"
     ]
    }
   ],
   "source": [
    "for key,value in g.items():\n",
    "    if key not in n:\n",
    "        g = g.drop(key)"
   ]
  },
  {
   "cell_type": "code",
   "execution_count": 261,
   "metadata": {},
   "outputs": [
    {
     "data": {
      "text/plain": [
       "<xarray.Dataset>\n",
       "Dimensions:    (eta_psi: 71, eta_rho: 72, eta_u: 72, eta_v: 71, one: 1, xi_psi: 76, xi_rho: 77, xi_u: 76, xi_v: 77)\n",
       "Dimensions without coordinates: eta_psi, eta_rho, eta_u, eta_v, one, xi_psi, xi_rho, xi_u, xi_v\n",
       "Data variables:\n",
       "    spherical  |S1 ...\n",
       "    xl         (one) float64 ...\n",
       "    el         (one) float64 ...\n",
       "    h          (eta_rho, xi_rho) float64 ...\n",
       "    f          (eta_rho, xi_rho) float64 ...\n",
       "    pm         (eta_rho, xi_rho) float64 ...\n",
       "    pn         (eta_rho, xi_rho) float64 ...\n",
       "    dndx       (eta_rho, xi_rho) float64 ...\n",
       "    dmde       (eta_rho, xi_rho) float64 ...\n",
       "    lat_rho    (eta_rho, xi_rho) float64 ...\n",
       "    lon_rho    (eta_rho, xi_rho) float64 ...\n",
       "    lat_psi    (eta_psi, xi_psi) float64 ...\n",
       "    lon_psi    (eta_psi, xi_psi) float64 ...\n",
       "    lat_u      (eta_u, xi_u) float64 ...\n",
       "    lon_u      (eta_u, xi_u) float64 ...\n",
       "    lat_v      (eta_v, xi_v) float64 ...\n",
       "    lon_v      (eta_v, xi_v) float64 ...\n",
       "    mask_rho   (eta_rho, xi_rho) float64 ...\n",
       "    mask_u     (eta_u, xi_u) float64 ...\n",
       "    mask_v     (eta_v, xi_v) float64 ...\n",
       "    mask_psi   (eta_psi, xi_psi) float64 ...\n",
       "    angle      (eta_rho, xi_rho) float64 ...\n",
       "Attributes:\n",
       "    type:                      ROMS GRID file\n",
       "    title:                     Inlet Test Case\n",
       "    history:                   Sun Jul 29 17:44:58 2018: ncap2 -s spherical=\"...\n",
       "    CPP-options:               DCOMPLEX, DBLEPREC, NCARG_32, PLOTS,\n",
       "    NCO:                       \"4.6.4\"\n",
       "    nco_openmp_thread_number:  1"
      ]
     },
     "execution_count": 261,
     "metadata": {},
     "output_type": "execute_result"
    }
   ],
   "source": [
    "g"
   ]
  },
  {
   "cell_type": "code",
   "execution_count": 277,
   "metadata": {},
   "outputs": [
    {
     "data": {
      "text/plain": [
       "<xarray.Dataset>\n",
       "Dimensions:    (eta_psi: 71, eta_rho: 72, eta_u: 72, eta_v: 71, one: 1, xi_psi: 76, xi_rho: 77, xi_u: 76, xi_v: 77)\n",
       "Dimensions without coordinates: eta_psi, eta_rho, eta_u, eta_v, one, xi_psi, xi_rho, xi_u, xi_v\n",
       "Data variables:\n",
       "    xl         (one) float64 ...\n",
       "    el         (one) float64 ...\n",
       "    h          (eta_rho, xi_rho) float64 ...\n",
       "    f          (eta_rho, xi_rho) float64 ...\n",
       "    pm         (eta_rho, xi_rho) float64 ...\n",
       "    pn         (eta_rho, xi_rho) float64 ...\n",
       "    dndx       (eta_rho, xi_rho) float64 ...\n",
       "    dmde       (eta_rho, xi_rho) float64 ...\n",
       "    lat_rho    (eta_rho, xi_rho) float64 ...\n",
       "    lon_rho    (eta_rho, xi_rho) float64 ...\n",
       "    lat_psi    (eta_psi, xi_psi) float64 ...\n",
       "    lon_psi    (eta_psi, xi_psi) float64 ...\n",
       "    lat_u      (eta_u, xi_u) float64 ...\n",
       "    lon_u      (eta_u, xi_u) float64 ...\n",
       "    lat_v      (eta_v, xi_v) float64 ...\n",
       "    lon_v      (eta_v, xi_v) float64 ...\n",
       "    mask_rho   (eta_rho, xi_rho) float64 0.0 0.0 0.0 0.0 0.0 0.0 0.0 0.0 0.0 ...\n",
       "    mask_u     (eta_u, xi_u) float64 ...\n",
       "    mask_v     (eta_v, xi_v) float64 ...\n",
       "    mask_psi   (eta_psi, xi_psi) float64 ...\n",
       "    angle      (eta_rho, xi_rho) float64 ...\n",
       "    spherical  |S1 b'1'"
      ]
     },
     "execution_count": 277,
     "metadata": {},
     "output_type": "execute_result"
    }
   ],
   "source": [
    "g['spherical']=n.spherical\n",
    "g"
   ]
  },
  {
   "cell_type": "code",
   "execution_count": 266,
   "metadata": {},
   "outputs": [
    {
     "data": {
      "text/plain": [
       "<xarray.Dataset>\n",
       "Dimensions:    (eta_psi: 529, eta_rho: 530, eta_u: 530, eta_v: 529, one: 1, xi_psi: 629, xi_rho: 630, xi_u: 629, xi_v: 630)\n",
       "Dimensions without coordinates: eta_psi, eta_rho, eta_u, eta_v, one, xi_psi, xi_rho, xi_u, xi_v\n",
       "Data variables:\n",
       "    h          (eta_rho, xi_rho) float64 3.532e+03 3.615e+03 2.78e+03 ...\n",
       "    spherical  |S1 b'1'\n",
       "    angle      (eta_rho, xi_rho) float64 -2.304 -2.305 -2.307 -2.309 -2.31 ...\n",
       "    pm         (eta_rho, xi_rho) float64 0.0001077 0.0001077 0.0001076 ...\n",
       "    pn         (eta_rho, xi_rho) float64 0.0001077 0.0001077 0.0001076 ...\n",
       "    dndx       (eta_rho, xi_rho) float64 -3.747e-08 -3.734e-08 -3.722e-08 ...\n",
       "    dmde       (eta_rho, xi_rho) float64 -3.372e-08 -3.372e-08 -3.372e-08 ...\n",
       "    f          (eta_rho, xi_rho) float64 -0.0001181 -0.0001182 -0.0001183 ...\n",
       "    lon_rho    (eta_rho, xi_rho) float64 -132.0 -132.1 -132.2 -132.3 -132.4 ...\n",
       "    lat_rho    (eta_rho, xi_rho) float64 -54.09 -54.16 -54.22 -54.28 -54.34 ...\n",
       "    lon_psi    (eta_psi, xi_psi) float64 -132.0 -132.1 -132.2 -132.3 -132.4 ...\n",
       "    lat_psi    (eta_psi, xi_psi) float64 -54.15 -54.22 -54.28 -54.34 -54.4 ...\n",
       "    lon_u      (eta_u, xi_u) float64 -132.0 -132.1 -132.2 -132.3 -132.4 ...\n",
       "    lat_u      (eta_u, xi_u) float64 -54.12 -54.19 -54.25 -54.31 -54.37 ...\n",
       "    lon_v      (eta_v, xi_v) float64 -131.9 -132.0 -132.1 -132.2 -132.3 ...\n",
       "    lat_v      (eta_v, xi_v) float64 -54.12 -54.18 -54.25 -54.31 -54.37 ...\n",
       "    mask_rho   (eta_rho, xi_rho) float64 1.0 1.0 1.0 1.0 1.0 1.0 1.0 1.0 1.0 ...\n",
       "    mask_psi   (eta_psi, xi_psi) float64 1.0 1.0 1.0 1.0 1.0 1.0 1.0 1.0 1.0 ...\n",
       "    mask_u     (eta_u, xi_u) float64 1.0 1.0 1.0 1.0 1.0 1.0 1.0 1.0 1.0 1.0 ...\n",
       "    mask_v     (eta_v, xi_v) float64 1.0 1.0 1.0 1.0 1.0 1.0 1.0 1.0 1.0 1.0 ...\n",
       "    xl         (one) float64 6.3e+06\n",
       "    el         (one) float64 6.3e+06\n",
       "Attributes:\n",
       "    type:                      ROMS GRID file\n",
       "    title:                     Inlet Test Case\n",
       "    history:                   Sun Jul 29 17:44:58 2018: ncap2 -s spherical=\"...\n",
       "    CPP-options:               DCOMPLEX, DBLEPREC, NCARG_32, PLOTS,\n",
       "    NCO:                       \"4.6.4\"\n",
       "    nco_openmp_thread_number:  1"
      ]
     },
     "execution_count": 266,
     "metadata": {},
     "output_type": "execute_result"
    }
   ],
   "source": [
    "n"
   ]
  },
  {
   "cell_type": "code",
   "execution_count": 276,
   "metadata": {
    "scrolled": true
   },
   "outputs": [
    {
     "name": "stderr",
     "output_type": "stream",
     "text": [
      "/home/ubuntu/bigStick/anaconda3/envs/tidal_melting/lib/python3.6/_collections_abc.py:743: FutureWarning: iteration over an xarray.Dataset will change in xarray v0.11 to only include data variables, not coordinates. Iterate over the Dataset.variables property instead to preserve existing behavior in a forwards compatible manner.\n",
      "  for key in self._mapping:\n"
     ]
    }
   ],
   "source": [
    "for key,val in b.items():\n",
    "    if key not in ['xl',\"el\",'hraw',\"zice\"]:\n",
    "        n[key] = (g[key].dims,np.array(b[key].values,dtype=g[key].dtype))\n",
    "        n[key].attrs = g[key].attrs"
   ]
  },
  {
   "cell_type": "code",
   "execution_count": 279,
   "metadata": {},
   "outputs": [],
   "source": [
    "g['xl']=n.xl\n",
    "g['el']=n.el"
   ]
  },
  {
   "cell_type": "code",
   "execution_count": 292,
   "metadata": {
    "scrolled": true
   },
   "outputs": [
    {
     "name": "stdout",
     "output_type": "stream",
     "text": [
      "lat_psi\n",
      "lon_psi\n",
      "mask_psi\n"
     ]
    },
    {
     "name": "stderr",
     "output_type": "stream",
     "text": [
      "/home/ubuntu/bigStick/anaconda3/envs/tidal_melting/lib/python3.6/_collections_abc.py:743: FutureWarning: iteration over an xarray.Dataset will change in xarray v0.11 to only include data variables, not coordinates. Iterate over the Dataset.variables property instead to preserve existing behavior in a forwards compatible manner.\n",
      "  for key in self._mapping:\n"
     ]
    }
   ],
   "source": [
    "keys=[]\n",
    "for key,val in g.items():\n",
    "    if val.dims == ('eta_psi','xi_psi'):\n",
    "        print(key)\n",
    "        g= g.drop(key)\n",
    "        keys.append(key)"
   ]
  },
  {
   "cell_type": "code",
   "execution_count": 293,
   "metadata": {},
   "outputs": [],
   "source": [
    "for key in keys:\n",
    "    g[key]=n[key]"
   ]
  },
  {
   "cell_type": "code",
   "execution_count": 294,
   "metadata": {},
   "outputs": [
    {
     "data": {
      "text/plain": [
       "<xarray.Dataset>\n",
       "Dimensions:    (eta_psi: 529, eta_rho: 530, eta_u: 530, eta_v: 529, one: 1, xi_psi: 629, xi_rho: 630, xi_u: 629, xi_v: 630)\n",
       "Dimensions without coordinates: eta_psi, eta_rho, eta_u, eta_v, one, xi_psi, xi_rho, xi_u, xi_v\n",
       "Data variables:\n",
       "    xl         (one) float64 6.3e+06\n",
       "    el         (one) float64 6.3e+06\n",
       "    spherical  |S1 b'1'\n",
       "    f          (eta_rho, xi_rho) float64 -0.0001181 -0.0001182 -0.0001183 ...\n",
       "    pm         (eta_rho, xi_rho) float64 0.0001077 0.0001077 0.0001076 ...\n",
       "    pn         (eta_rho, xi_rho) float64 0.0001077 0.0001077 0.0001076 ...\n",
       "    dndx       (eta_rho, xi_rho) float64 -3.747e-08 -3.734e-08 -3.722e-08 ...\n",
       "    dmde       (eta_rho, xi_rho) float64 -3.372e-08 -3.372e-08 -3.372e-08 ...\n",
       "    lat_rho    (eta_rho, xi_rho) float64 -54.09 -54.16 -54.22 -54.28 -54.34 ...\n",
       "    lon_rho    (eta_rho, xi_rho) float64 -132.0 -132.1 -132.2 -132.3 -132.4 ...\n",
       "    mask_rho   (eta_rho, xi_rho) float64 1.0 1.0 1.0 1.0 1.0 1.0 1.0 1.0 1.0 ...\n",
       "    angle      (eta_rho, xi_rho) float64 -2.304 -2.305 -2.307 -2.309 -2.31 ...\n",
       "    h          (eta_rho, xi_rho) float64 3.532e+03 3.615e+03 2.78e+03 ...\n",
       "    lat_u      (eta_u, xi_u) float64 -54.12 -54.19 -54.25 -54.31 -54.37 ...\n",
       "    lon_u      (eta_u, xi_u) float64 -132.0 -132.1 -132.2 -132.3 -132.4 ...\n",
       "    mask_u     (eta_u, xi_u) float64 1.0 1.0 1.0 1.0 1.0 1.0 1.0 1.0 1.0 1.0 ...\n",
       "    lat_v      (eta_v, xi_v) float64 -54.12 -54.18 -54.25 -54.31 -54.37 ...\n",
       "    lon_v      (eta_v, xi_v) float64 -131.9 -132.0 -132.1 -132.2 -132.3 ...\n",
       "    mask_v     (eta_v, xi_v) float64 1.0 1.0 1.0 1.0 1.0 1.0 1.0 1.0 1.0 1.0 ...\n",
       "    lat_psi    (eta_psi, xi_psi) float64 -54.15 -54.22 -54.28 -54.34 -54.4 ...\n",
       "    lon_psi    (eta_psi, xi_psi) float64 -132.0 -132.1 -132.2 -132.3 -132.4 ...\n",
       "    mask_psi   (eta_psi, xi_psi) float64 1.0 1.0 1.0 1.0 1.0 1.0 1.0 1.0 1.0 ..."
      ]
     },
     "execution_count": 294,
     "metadata": {},
     "output_type": "execute_result"
    }
   ],
   "source": [
    "g"
   ]
  },
  {
   "cell_type": "code",
   "execution_count": 257,
   "metadata": {
    "scrolled": true
   },
   "outputs": [
    {
     "data": {
      "text/plain": [
       "<xarray.DataArray 'xl' (one: 1)>\n",
       "array([6300000.])\n",
       "Dimensions without coordinates: one\n",
       "Attributes:\n",
       "    long_name:  domain length in the XI-direction\n",
       "    units:      meter"
      ]
     },
     "execution_count": 257,
     "metadata": {},
     "output_type": "execute_result"
    }
   ],
   "source": [
    "key = 'el'\n",
    "n[key] = ((g[key].dims[0]),np.array([b.xl.values],dtype=g[key].dtype))\n",
    "n[key].attrs = g[key].attrs\n",
    "n.xl"
   ]
  },
  {
   "cell_type": "code",
   "execution_count": 295,
   "metadata": {
    "scrolled": true
   },
   "outputs": [],
   "source": [
    "out_path=os.path.join('~/raijin/short/m68/oxr581/trunk','test_grd.nc3')\n",
    "g.to_netcdf(out_path,'w',unlimited_dims='bath')"
   ]
  },
  {
   "cell_type": "code",
   "execution_count": 273,
   "metadata": {},
   "outputs": [],
   "source": [
    "g = g.drop('spherical')"
   ]
  },
  {
   "cell_type": "code",
   "execution_count": 163,
   "metadata": {},
   "outputs": [],
   "source": [
    "for key in ['rho','u','v','psi']:\n",
    "    x,y = np.meshgrid(b['xi_'+key]*10000,b['eta_'+key]*10000)\n",
    "    b[\"x_\"+key] = (('eta_'+key,'xi_'+key),x)\n",
    "    b['x_'+key].attrs = g['x_'+key].attrs\n",
    "    b[\"y_\"+key] = (('eta_'+key,'xi_'+key),y)\n",
    "    b['y_'+key].attrs = g['y_'+key].attrs"
   ]
  },
  {
   "cell_type": "code",
   "execution_count": 168,
   "metadata": {},
   "outputs": [
    {
     "data": {
      "text/plain": [
       "<xarray.DataArray 'y_psi' (eta_psi: 529, xi_psi: 629)>\n",
       "array([[      0,       0,       0, ...,       0,       0,       0],\n",
       "       [  10000,   10000,   10000, ...,   10000,   10000,   10000],\n",
       "       [  20000,   20000,   20000, ...,   20000,   20000,   20000],\n",
       "       ...,\n",
       "       [5260000, 5260000, 5260000, ..., 5260000, 5260000, 5260000],\n",
       "       [5270000, 5270000, 5270000, ..., 5270000, 5270000, 5270000],\n",
       "       [5280000, 5280000, 5280000, ..., 5280000, 5280000, 5280000]])\n",
       "Dimensions without coordinates: eta_psi, xi_psi\n",
       "Attributes:\n",
       "    long_name:  y location of PSI-points\n",
       "    units:      meter"
      ]
     },
     "execution_count": 168,
     "metadata": {},
     "output_type": "execute_result"
    }
   ],
   "source": []
  },
  {
   "cell_type": "code",
   "execution_count": 161,
   "metadata": {},
   "outputs": [
    {
     "data": {
      "text/plain": [
       "<xarray.DataArray 'x_u' (eta_u: 72, xi_u: 76)>\n",
       "array([[    0.,   200.,   400., ..., 14600., 14800., 15000.],\n",
       "       [    0.,   200.,   400., ..., 14600., 14800., 15000.],\n",
       "       [    0.,   200.,   400., ..., 14600., 14800., 15000.],\n",
       "       ...,\n",
       "       [    0.,   200.,   400., ..., 14600., 14800., 15000.],\n",
       "       [    0.,   200.,   400., ..., 14600., 14800., 15000.],\n",
       "       [    0.,   200.,   400., ..., 14600., 14800., 15000.]])\n",
       "Dimensions without coordinates: eta_u, xi_u\n",
       "Attributes:\n",
       "    long_name:  x location of U-points\n",
       "    units:      meter"
      ]
     },
     "execution_count": 161,
     "metadata": {},
     "output_type": "execute_result"
    }
   ],
   "source": [
    "g.x_u"
   ]
  },
  {
   "cell_type": "code",
   "execution_count": 142,
   "metadata": {},
   "outputs": [
    {
     "name": "stdout",
     "output_type": "stream",
     "text": [
      "JPRJ\n",
      "PLAT\n",
      "PLONG\n",
      "ROTA\n",
      "JLTS\n",
      "P1\n",
      "P2\n",
      "P3\n",
      "P4\n",
      "XOFF\n",
      "YOFF\n",
      "depthmin\n",
      "depthmax\n",
      "x_rho\n",
      "y_rho\n",
      "x_psi\n",
      "y_psi\n",
      "x_u\n",
      "y_u\n",
      "x_v\n",
      "y_v\n"
     ]
    },
    {
     "name": "stderr",
     "output_type": "stream",
     "text": [
      "/home/ubuntu/bigStick/anaconda3/envs/tidal_melting/lib/python3.6/_collections_abc.py:743: FutureWarning: iteration over an xarray.Dataset will change in xarray v0.11 to only include data variables, not coordinates. Iterate over the Dataset.variables property instead to preserve existing behavior in a forwards compatible manner.\n",
      "  for key in self._mapping:\n"
     ]
    }
   ],
   "source": [
    "for key,value in g.items():\n",
    "    if key not in b:\n",
    "        print(key)\n",
    "        b[key]=((value.dims"
   ]
  }
 ],
 "metadata": {
  "kernelspec": {
   "display_name": "Python 3",
   "language": "python",
   "name": "python3"
  },
  "language_info": {
   "codemirror_mode": {
    "name": "ipython",
    "version": 3
   },
   "file_extension": ".py",
   "mimetype": "text/x-python",
   "name": "python",
   "nbconvert_exporter": "python",
   "pygments_lexer": "ipython3",
   "version": "3.6.3"
  }
 },
 "nbformat": 4,
 "nbformat_minor": 2
}

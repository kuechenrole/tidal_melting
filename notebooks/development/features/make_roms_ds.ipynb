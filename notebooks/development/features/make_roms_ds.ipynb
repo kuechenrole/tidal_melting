{
 "cells": [
  {
   "cell_type": "code",
   "execution_count": 1,
   "metadata": {
    "scrolled": true
   },
   "outputs": [
    {
     "name": "stdout",
     "output_type": "stream",
     "text": [
      "Overwriting ../../src/features/roms_ds.py\n"
     ]
    }
   ],
   "source": [
    "%%writefile ../../src/features/roms_ds.py\n",
    "#read in raw data as xr.dataset\n",
    "import xarray as xr\n",
    "import numpy as np\n",
    "from .calc_z import calc_z\n",
    "from .cartesian_grid_3d import cartesian_grid_3d\n",
    "from .rotate_vector_roms import rotate_vector_roms\n",
    "\n",
    "def make_4D_mask(ds):\n",
    "\n",
    "    \n",
    "    mask_4d = np.tile(ds.mask_rho,(ds.ocean_time.size,ds.s_rho.size,1,1))\n",
    "    ds['mask_4d'] = xr.DataArray(mask_4d,dims=['ocean_time','s_rho','eta_rho','xi_rho'])\n",
    "    ds.mask_4d.attrs = ds.mask_rho.attrs\n",
    "    \n",
    "    return ds\n",
    "\n",
    "\n",
    "\n",
    "def make_3D_XiEta(ds):\n",
    "    \n",
    "    xi_3d = np.tile(ds.xi_rho,(ds.s_rho.size,ds.eta_rho.size,1))\n",
    "    eta_3d = np.swapaxes(np.tile(ds.eta_rho,(ds.s_rho.size,ds.xi_rho.size,1)),1,2)\n",
    "    \n",
    "    xi_3d_da = xr.DataArray(xi_3d,dims=['s_rho','eta_rho','xi_rho'])\n",
    "    eta_3d_da = xr.DataArray(eta_3d,dims=['s_rho','eta_rho','xi_rho'])\n",
    "    \n",
    "    ds = ds.assign_coords(xi_3d=xi_3d_da)\n",
    "    ds = ds.assign_coords(eta_3d=eta_3d_da)\n",
    "    \n",
    "    #ds['xi_3d'] = ds.xi_3d.where(ds.mask_rho == 1)\n",
    "    #ds['eta_3d'] = ds.eta_3d.where(ds.mask_rho ==1)\n",
    "    \n",
    "    ds.xi_3d.attrs = ds.xi_rho.attrs\n",
    "    ds.eta_3d.attrs = ds.eta_rho.attrs\n",
    "    \n",
    "    return ds\n",
    "\n",
    "\n",
    "\n",
    "def make_4D_depth(ds):\n",
    "    \n",
    "    depths = np.empty((ds.ocean_time.size,ds.s_rho.size,ds.eta_rho.size,ds.xi_rho.size))\n",
    "    \n",
    "    for tstep in np.arange(ds.ocean_time.size):\n",
    "\n",
    "        h = ds.h.values\n",
    "        zice = ds.zice.values\n",
    "        theta_s = ds.theta_s.values\n",
    "        theta_b = ds.theta_b.values\n",
    "        hc = ds.hc.values\n",
    "        N = ds.s_rho.size\n",
    "        zeta = ds.zeta[tstep].values\n",
    "        Vstretching = ds.Vstretching.values\n",
    "        \n",
    "        depths[tstep],s,C = calc_z(h,zice,theta_s,theta_b,hc,N,zeta,Vstretching)\n",
    "        \n",
    "    ds = ds.assign_coords(depth = xr.DataArray(depths,dims=['ocean_time','s_rho','eta_rho','xi_rho']))\n",
    "    \n",
    "    #ds['depth'] = ds.depth.where(ds.mask_rho == 1)\n",
    "    \n",
    "    return ds\n",
    "\n",
    "def make_cartesian_grid_3D(ds):\n",
    "    \n",
    "    lon_u = ds.lon_u.values\n",
    "    lat_u = ds.lat_u.values\n",
    "    lon_v = ds.lon_v.values\n",
    "    lat_v = ds.lat_v.values\n",
    "    h = ds.h.values\n",
    "    zice = ds.zice.values\n",
    "    theta_s = ds.theta_s.values\n",
    "    theta_b = ds.theta_b.values\n",
    "    hc = ds.hc.values\n",
    "    N = ds.s_rho.size\n",
    "    \n",
    "    z = np.empty((ds.ocean_time.size,ds.s_rho.size,ds.eta_rho.size,ds.xi_rho.size))\n",
    "    dz = np.empty(np.shape(z))\n",
    "    \n",
    "    for tstep in np.arange(ds.ocean_time.size):\n",
    "        \n",
    "        zeta = ds.zeta[tstep].values\n",
    "        \n",
    "        dx,dy,dz[tstep],z[tstep] = cartesian_grid_3d(lon_u, lat_u, lon_v, lat_v, h, zice, theta_s, theta_b, hc, N, zeta)\n",
    "        \n",
    "    ds['dx'] = xr.DataArray(dx,dims=['s_rho','eta_rho','xi_rho'])\n",
    "    ds['dx'] = ds.dx.where(ds.mask_rho == 1)\n",
    "    \n",
    "    ds['dy'] = xr.DataArray(dy,dims=['s_rho','eta_rho','xi_rho'])\n",
    "    ds['dy'] = ds.dy.where(ds.mask_rho == 1)\n",
    "    \n",
    "    ds['dz'] = xr.DataArray(dz,dims=['ocean_time','s_rho','eta_rho','xi_rho'])\n",
    "    ds['dz'] = ds.dz.where(ds.mask_rho == 1)\n",
    "    \n",
    "    ds['z'] = xr.DataArray(z,dims=['ocean_time','s_rho','eta_rho','xi_rho'])\n",
    "    ds['z'] = ds.z.where(ds.mask_rho == 1)\n",
    "    \n",
    "    dV = ds.dx * ds.dy * ds.dz\n",
    "    ds['dV'] = dV\n",
    "    \n",
    "    return ds\n",
    "\n",
    "def make_uvbar_lonlat(ds):\n",
    "    \n",
    "    angle = ds.angle.values\n",
    "    \n",
    "    ubar_lonlat = np.empty((ds.ocean_time.size,ds.eta_rho.size,ds.xi_rho.size))\n",
    "    vbar_lonlat = np.empty((ds.ocean_time.size,ds.eta_rho.size,ds.xi_rho.size))\n",
    "    \n",
    "    for tstep in np.arange(ds.ocean_time.size):\n",
    "        ubar=ds.ubar[tstep].values\n",
    "        vbar=ds.vbar[tstep].values\n",
    "        \n",
    "        ubar_lonlat[tstep],vbar_lonlat[tstep] = rotate_vector_roms(ubar,vbar,angle)\n",
    "        \n",
    "    ds['ubar_lonlat'] = xr.DataArray(ubar_lonlat,dims=['ocean_time','eta_rho','xi_rho'])\n",
    "    ds['ubar_lonlat'] = ds.ubar_lonlat.where(ds.mask_rho == 1) \n",
    "    ds.ubar_lonlat.attrs = ds.u_bar.attrs\n",
    "    \n",
    "    ds['vbar_lonlat'] = xr.DataArray(vbar_lonlat,dims=['ocean_time','eta_rho','xi_rho'])\n",
    "    ds['vbar_lonlat'] = ds.vbar_lonlat.where(ds.mask_rho == 1)\n",
    "    ds.vbar_lonlat.attrs = ds.vbar.attrs\n",
    "    \n",
    "    return ds\n",
    "\n",
    "def make_uv_lonlat(ds):\n",
    "    \n",
    "    angle = ds.angle.values\n",
    "    \n",
    "    u_lonlat = np.empty((ds.ocean_time.size,ds.s_rho.size,ds.eta_rho.size,ds.xi_rho.size))\n",
    "    v_lonlat = np.empty((ds.ocean_time.size,ds.s_rho.size,ds.eta_rho.size,ds.xi_rho.size))\n",
    "    \n",
    "    for tstep in np.arange(ds.ocean_time.size):\n",
    "        for level in np.arange(ds.s_rho.size):\n",
    "            u=ds.u[tstep,level].values\n",
    "            v=ds.v[tstep,level].values\n",
    "        \n",
    "            u_lonlat[tstep,level],v_lonlat[tstep,level] = rotate_vector_roms(u,v,angle)\n",
    "        \n",
    "    ds['u_lonlat'] = xr.DataArray(u_lonlat,dims=['ocean_time','s_rho','eta_rho','xi_rho'])\n",
    "    ds['u_lonlat'] = ds.u_lonlat.where(ds.mask_rho == 1) \n",
    "    ds.u_lonlat.attrs = ds.u.attrs\n",
    "    \n",
    "    ds['v_lonlat'] = xr.DataArray(v_lonlat,dims=['ocean_time','s_rho','eta_rho','xi_rho'])\n",
    "    ds['v_lonlat'] = ds.v_lonlat.where(ds.mask_rho == 1)\n",
    "    ds.v_lonlat.attrs = ds.v.attrs\n",
    "    \n",
    "    return ds\n",
    "    \n",
    "\n",
    "def make_roms_ds(file_paths):\n",
    "    '''Takes a roms history or averages file (wildcards are possible) and returns a Xarray dataset including 4D mask, 3D grid coordinates and 4D depths'''\n",
    "    \n",
    "    print('set up multifile dataset')\n",
    "    ds_tmp = xr.open_mfdataset(file_paths,data_vars='minimal')\n",
    "    \n",
    "    #print('set up 4D mask and add as variable to dataset')\n",
    "    #ds_tmp = make_4D_mask(ds_tmp)\n",
    "    \n",
    "    print('set up 3D xi and eta arrays, fill with NaNs where invalid and apply as coordinates')\n",
    "    ds_tmp = make_3D_XiEta(ds_tmp)\n",
    "    \n",
    "    print('calculate 4D depth array, fill with NaNs where invalid and apply as coordinate')\n",
    "    ds = make_4D_depth(ds_tmp)\n",
    "    \n",
    "    return ds"
   ]
  },
  {
   "cell_type": "code",
   "execution_count": 74,
   "metadata": {},
   "outputs": [],
   "source": [
    "import os\n",
    "import sys\n",
    "import xarray as xr\n",
    "\n",
    "# add the 'src/' directory as one where we can import modules\n",
    "src_dir = os.path.join(os.pardir,'src')\n",
    "sys.path.append(src_dir)\n",
    "\n",
    "from features.roms_ds import make_roms_ds\n",
    "    \n",
    "file_path = os.path.join(os.pardir,'data','raw','waom10_full_forcing','ocean_avg_000[4,5].nc')\n",
    "ds = make_roms_ds(file_path)\n",
    "ds = xr.open_mfdataset(file_path,data_vars='minimal')"
   ]
  },
  {
   "cell_type": "code",
   "execution_count": 78,
   "metadata": {
    "scrolled": true
   },
   "outputs": [
    {
     "name": "stdout",
     "output_type": "stream",
     "text": [
      "set up multifile dataset\n",
      "set up 4D mask and add as variable to dataset\n",
      "set up 3D xi and eta arrays, mask them and apply as coordinates\n",
      "calculate 4D depth array\n"
     ]
    }
   ],
   "source": [
    "ds = make_roms_ds(file_path)"
   ]
  },
  {
   "cell_type": "markdown",
   "metadata": {},
   "source": [
    "catch exception that mask is not time dependent in avg file"
   ]
  },
  {
   "cell_type": "markdown",
   "metadata": {},
   "source": [
    "### Transect Plotting example"
   ]
  },
  {
   "cell_type": "code",
   "execution_count": 69,
   "metadata": {},
   "outputs": [
    {
     "name": "stdout",
     "output_type": "stream",
     "text": [
      "The autoreload extension is already loaded. To reload it, use:\n",
      "  %reload_ext autoreload\n",
      "set up multifile dataset\n",
      "set up 4D mask and add as variable to dataset\n",
      "set up 3D xi and eta arrays, fill with NaNs where invalid and apply as coordinates\n",
      "calculate 4D depth array, fill with NaNs where invalid and apply as coordinate\n"
     ]
    }
   ],
   "source": [
    "import sys\n",
    "import os\n",
    "\n",
    "# Load the \"autoreload\" extension\n",
    "%load_ext autoreload\n",
    "# always reload modules marked with \"%aimport\"\n",
    "%autoreload 1\n",
    "\n",
    "# add the 'src/visualization/' directory as one where we can import modules\n",
    "src_dir = os.path.join(os.pardir,'src')\n",
    "sys.path.append(src_dir)\n",
    "\n",
    "# import my methods, make sure they get reloded by each call\n",
    "%aimport features.roms_ds\n",
    "\n",
    "from features.roms_ds import make_roms_ds\n",
    "\n",
    "file_path = os.path.join(os.pardir,'data','raw','waom10_full_forcing','ocean_avg_0005.nc')\n",
    "\n",
    "rds = make_roms_ds(file_path)"
   ]
  },
  {
   "cell_type": "code",
   "execution_count": 70,
   "metadata": {
    "scrolled": true
   },
   "outputs": [
    {
     "data": {
      "image/png": "[encoded data removed]",
      "text/plain": [
       "<matplotlib.figure.Figure at 0x7f912caeb908>"
      ]
     },
     "metadata": {},
     "output_type": "display_data"
    }
   ],
   "source": [
    "plt.clf()\n",
    "da = rds.temp[0,:,300]\n",
    "val = da.to_masked_array()\n",
    "x = da.lat_rho.to_masked_array()\n",
    "y = da.depth.to_masked_array()\n",
    "plt.pcolormesh(x,y,val)\n",
    "plt.colorbar()\n",
    "plt.xlable('')\n",
    "plt.show()"
   ]
  },
  {
   "cell_type": "code",
   "execution_count": null,
   "metadata": {
    "collapsed": true
   },
   "outputs": [],
   "source": []
  }
 ],
 "metadata": {
  "kernelspec": {
   "display_name": "Python 3",
   "language": "python",
   "name": "python3"
  },
  "language_info": {
   "codemirror_mode": {
    "name": "ipython",
    "version": 3
   },
   "file_extension": ".py",
   "mimetype": "text/x-python",
   "name": "python",
   "nbconvert_exporter": "python",
   "pygments_lexer": "ipython3",
   "version": "3.6.3"
  }
 },
 "nbformat": 4,
 "nbformat_minor": 2
}

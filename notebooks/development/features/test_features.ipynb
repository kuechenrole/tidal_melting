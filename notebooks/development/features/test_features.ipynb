{
 "cells": [
  {
   "cell_type": "code",
   "execution_count": null,
   "metadata": {},
   "outputs": [],
   "source": [
    "%%writefile ../src/features/test_features.py\n",
    "\n",
    "import os\n",
    "import sys\n",
    "\n",
    "# add the 'src/' directory as one where we can import modules\n",
    "src_dir = os.path.join('src')\n",
    "sys.path.append(src_dir)\n",
    "\n",
    "def test_make_roms_ds():\n",
    "    \n",
    "    from features.roms_ds import make_roms_ds\n",
    "    import os\n",
    "    \n",
    "    file_path = os.path.join(os.pardir,'data','raw','waom10_full_forcing','ocean_avg_000[4,5].nc')\n",
    "    ds = make_roms_ds(file_path)\n",
    "    \n",
    "    assert ds.depth.isnull().any() == True, 'depth has no NaN'"
   ]
  },
  {
   "cell_type": "code",
   "execution_count": null,
   "metadata": {},
   "outputs": [],
   "source": [
    "test_make_roms_ds()"
   ]
  }
 ],
 "metadata": {
  "kernelspec": {
   "display_name": "Python 3",
   "language": "python",
   "name": "python3"
  },
  "language_info": {
   "codemirror_mode": {
    "name": "ipython",
    "version": 3
   },
   "file_extension": ".py",
   "mimetype": "text/x-python",
   "name": "python",
   "nbconvert_exporter": "python",
   "pygments_lexer": "ipython3",
   "version": "3.6.3"
  }
 },
 "nbformat": 4,
 "nbformat_minor": 2
}

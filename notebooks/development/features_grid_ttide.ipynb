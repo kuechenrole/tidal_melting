{
 "cells": [
  {
   "cell_type": "code",
   "execution_count": 5,
   "metadata": {},
   "outputs": [
    {
     "name": "stdout",
     "output_type": "stream",
     "text": [
      "Overwriting ../src/features/grid_ttide.py\n"
     ]
    }
   ],
   "source": [
    "%%writefile ../src/features/grid_ttide.py\n",
    "import ttide as tt\n",
    "import datetime\n",
    "from scipy.interpolate import NearestNDInterpolator\n",
    "import xarray as xr\n",
    "import numpy as np\n",
    "from .log_progress import log_progress\n",
    "\n",
    "def NDinterp(data):\n",
    "\n",
    "    valid_mask = ~np.isnan(data)\n",
    "    coords = np.array(np.nonzero(valid_mask)).T\n",
    "    values = data[valid_mask]\n",
    "\n",
    "    it = NearestNDInterpolator(coords,values)\n",
    "\n",
    "    filled = it(list(np.ndindex(data.shape))).reshape(data.shape)\n",
    "\n",
    "    return filled    \n",
    "\n",
    "\n",
    "def grid_ttide(ds,grid_ds,stime=datetime.datetime(2012,1,1),constit_list=['O1','M2'],res=50):\n",
    "    \n",
    "    ana_list = ['amp','amp_err','phase','phase_err']\n",
    "    \n",
    "    print('setting up the new fields ',ana_list,' for ',constit_list)\n",
    "    dummy = np.empty((ds.eta_rho.size,ds.xi_rho.size))\n",
    "    dummy[:,:] = np.nan\n",
    "    \n",
    "    for const in constit_list:\n",
    "        for ana in ana_list:\n",
    "            #print(const+'_'+ana)\n",
    "            ds[const+'_'+ana]=(('eta_rho','xi_rho'),dummy.copy())\n",
    "     \n",
    "    print(\"applying t_tide to every \",res,\"th cell\")\n",
    "    xi_values = np.linspace(0,ds.xi_rho.size-1,res,dtype=int,endpoint=True)\n",
    "    eta_values = np.linspace(0,ds.eta_rho.size-1,res,dtype=int,endpoint=True)\n",
    "    \n",
    "    for xi in log_progress(xi_values,name='xi'):\n",
    "        \n",
    "        for eta in eta_values:\n",
    "            ds_sl = ds.isel(eta_rho=eta,xi_rho=xi)\n",
    "\n",
    "            if ds_sl.zeta.isnull().values.any():\n",
    "                for const in constit_list:\n",
    "                    for ana in ana_list:\n",
    "                        ds[const+'_'+ana][eta,xi]=np.NaN\n",
    "                \n",
    "                \n",
    "            else:\n",
    "                signal = ds_sl.zeta.values\n",
    "                latitude = ds_sl.lat_rho.values\n",
    "                try:\n",
    "                    ttide_out = tt.t_tide(signal,stime=stime,lat=latitude,out_style=None)\n",
    "\n",
    "                    tt_ind_O1 = list(ttide_out['nameu']).index(b'O1  ')\n",
    "                    tt_ind_M2 = list(ttide_out['nameu']).index(b'M2  ')\n",
    "                    \n",
    "                    tt_ind_list = [tt_ind_O1,tt_ind_M2]\n",
    "                    \n",
    "                    for const,tt_ind in zip(constit_list,tt_ind_list):\n",
    "                        for ana,tt_ana in zip(ana_list,ttide_out['tidecon'][tt_ind]):\n",
    "                            ds[const+'_'+ana][eta,xi] = tt_ana\n",
    "\n",
    "                except TypeError:\n",
    "                    for const in constit_list:\n",
    "                        for ana in ana_list:\n",
    "                            ds[const+'_'+ana][eta,xi]=np.NaN\n",
    "                    \n",
    "    print('interpolating intermediate cells and mask land')\n",
    "    for con in constit_list:\n",
    "        for ana in ana_list:\n",
    "            ds[con+'_'+ana].values = NDinterp(ds[con+'_'+ana].values)\n",
    "            ds[con+'_'+ana] = ds[con+'_'+ana].where(grid_ds.mask_rho,0.0) \n",
    "      \n",
    "        \n",
    "    return ds\n"
   ]
  },
  {
   "cell_type": "code",
   "execution_count": 7,
   "metadata": {},
   "outputs": [
    {
     "name": "stdout",
     "output_type": "stream",
     "text": [
      "Appending to ../src/features/grid_ttide.py\n"
     ]
    }
   ],
   "source": [
    "%%writefile -a ../src/features/grid_ttide.py\n",
    "import matplotlib.pyplot as plt\n",
    "\n",
    "def plot_M2O1_diff(case_ds,case_str,ref_ds,ref_str,vmin=-0.10,vmax=0.10):\n",
    "    \n",
    "    plt.close('all')\n",
    "    fig,axes = plt.subplots(ncols=2,nrows=2,figsize=(15,10))\n",
    "    ax1,ax2,ax3,ax4 = axes.flatten()\n",
    "    \n",
    "    fig.suptitle('M2 and O1 height amplitude difference\\n'+case_str+' - '+ref_str,fontsize=16)\n",
    "     \n",
    "    M2_diff = case_ds.M2_amp-ref_ds.tide_Eamp[0]\n",
    "    O1_diff = case_ds.O1_amp-ref_ds.tide_Eamp[5]\n",
    "    \n",
    "    M2_diff_rel = abs(case_ds.M2_amp-ref_ds.tide_Eamp[0])/ref_ds.tide_Eamp[0]\n",
    "    O1_diff_rel = abs(case_ds.O1_amp-ref_ds.tide_Eamp[5])/ref_ds.tide_Eamp[5]\n",
    "    \n",
    "    M2_diff.plot(ax=ax1,cmap=plt.cm.bwr,vmin=vmin,vmax=vmax)\n",
    "    ax1.set_title('M2 ampl diff [m]')\n",
    "    \n",
    "    O1_diff.plot(ax=ax2,cmap=plt.cm.bwr,vmin=vmin,vmax=vmax)\n",
    "    ax2.set_title('O1 ampl diff [m]')\n",
    "    \n",
    "    M2_diff_rel.fillna(0).plot(ax=ax3,vmin=0,vmax=1)\n",
    "    ax3.set_title('M2 ampl relative diff')\n",
    "    \n",
    "    O1_diff_rel.fillna(0).plot(ax=ax4,vmin=0,vmax=1)\n",
    "    ax4.set_title('O1 ampl relative diff')\n",
    "    \n",
    "    \n",
    "    for ax in axes.flatten():\n",
    "        ax.axis(\"off\")\n",
    "        ax.set_aspect('equal')\n",
    "    \n",
    "    plt.show()"
   ]
  },
  {
   "cell_type": "code",
   "execution_count": null,
   "metadata": {},
   "outputs": [],
   "source": []
  }
 ],
 "metadata": {
  "kernelspec": {
   "display_name": "Python 3",
   "language": "python",
   "name": "python3"
  },
  "language_info": {
   "codemirror_mode": {
    "name": "ipython",
    "version": 3
   },
   "file_extension": ".py",
   "mimetype": "text/x-python",
   "name": "python",
   "nbconvert_exporter": "python",
   "pygments_lexer": "ipython3",
   "version": "3.6.3"
  }
 },
 "nbformat": 4,
 "nbformat_minor": 2
}

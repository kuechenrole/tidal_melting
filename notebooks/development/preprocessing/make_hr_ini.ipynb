{
 "cells": [
  {
   "cell_type": "markdown",
   "metadata": {},
   "source": [
    "# Generate initial conditions file for high resolution experiment\n",
    "We want to initialize the high res run with the solution of the 10km rum. Therefore we have to map 2D and 3D velocities, SSH, salinity and temperature fields on the new grid.\n",
    "## Preparation of ini file\n",
    "Load high and low resolution grid, low resolution history and low resolution ini file. "
   ]
  },
  {
   "cell_type": "code",
   "execution_count": 35,
   "metadata": {
    "scrolled": true
   },
   "outputs": [
    {
     "name": "stdout",
     "output_type": "stream",
     "text": [
      "The autoreload extension is already loaded. To reload it, use:\n",
      "  %reload_ext autoreload\n"
     ]
    }
   ],
   "source": [
    "# get environment variables\n",
    "import os\n",
    "import sys\n",
    "from dotenv import load_dotenv, find_dotenv\n",
    "\n",
    "# find .env automagically by walking up directories until it's found\n",
    "dotenv_path = find_dotenv()\n",
    "\n",
    "# load up the entries as environment variables\n",
    "load_dotenv(dotenv_path)\n",
    "\n",
    "sys.path.append(os.environ.get('srcdir'))\n",
    "\n",
    "# always reload modules marked with \"%aimport\"\n",
    "%load_ext autoreload\n",
    "%autoreload 1\n",
    "\n",
    "from features.resample import low_to_high\n",
    "%aimport features.resample"
   ]
  },
  {
   "cell_type": "code",
   "execution_count": 36,
   "metadata": {
    "scrolled": true
   },
   "outputs": [],
   "source": [
    "import xarray as xr\n",
    "import matplotlib.pyplot as plt\n",
    "\n",
    "hr_grd_path = os.path.join(os.environ.get(\"prodir\"),'waom5_grd.nc')\n",
    "hr_grd = xr.open_dataset(hr_grd_path)\n",
    "\n",
    "lr_grd_path = os.path.join(os.environ.get(\"prodir\"),'waom10_grd.nc')\n",
    "lr_grd = xr.open_dataset(lr_grd_path)\n",
    "\n",
    "lr_his_path =  os.path.join(os.environ.get(\"rawdir\"),'waom10','ocean_his_ini_0007.nc')\n",
    "lr_his = xr.open_dataset(lr_his_path).isel(ocean_time=0)\n",
    "\n",
    "lr_ini_path = os.path.join(os.environ.get(\"prodir\"),'waom10_ini.nc')\n",
    "lr_ini = xr.open_dataset(lr_ini_path)"
   ]
  },
  {
   "cell_type": "markdown",
   "metadata": {},
   "source": [
    "Prepare high resolution ini file by dropping all horizontal grid dependent variables from the low resolution ini file. "
   ]
  },
  {
   "cell_type": "code",
   "execution_count": 37,
   "metadata": {},
   "outputs": [
    {
     "data": {
      "text/plain": [
       "<xarray.Dataset>\n",
       "Dimensions:  (one: 1, s_rho: 31)\n",
       "Dimensions without coordinates: one, s_rho\n",
       "Data variables:\n",
       "    tstart   (one) float64 ...\n",
       "    tend     (one) float64 ...\n",
       "    theta_s  (one) float64 ...\n",
       "    theta_b  (one) float64 ...\n",
       "    Tcline   (one) float64 ...\n",
       "    hc       (one) float64 ...\n",
       "    Cs_r     (s_rho) float64 ...\n",
       "    sc_r     (s_rho) float64 ..."
      ]
     },
     "execution_count": 37,
     "metadata": {},
     "output_type": "execute_result"
    }
   ],
   "source": [
    "hr_ini = lr_ini.drop(['u','v','ubar','vbar','salt','temp','zeta','ocean_time'])\n",
    "hr_ini"
   ]
  },
  {
   "cell_type": "markdown",
   "metadata": {},
   "source": [
    "## Interpolate low resolution variables on high resolution grid"
   ]
  },
  {
   "cell_type": "markdown",
   "metadata": {},
   "source": [
    "### Function call for: zeta, ubar, vbar and u, v, temp, salt \n",
    "Get 2D and 3D high resolution data and assign to prepared ini file."
   ]
  },
  {
   "cell_type": "code",
   "execution_count": 38,
   "metadata": {
    "scrolled": true
   },
   "outputs": [
    {
     "name": "stdout",
     "output_type": "stream",
     "text": [
      "set up empty hr data array\n",
      "Fill in the mask of lr data, resample to high resolution grid and fill hr mask with fill value:  0.0\n",
      "processing depth level:  0\n"
     ]
    },
    {
     "ename": "KeyboardInterrupt",
     "evalue": "",
     "output_type": "error",
     "traceback": [
      "\u001b[0;31m---------------------------------------------------------------------------\u001b[0m",
      "\u001b[0;31mKeyboardInterrupt\u001b[0m                         Traceback (most recent call last)",
      "\u001b[0;32m<ipython-input-38-51e314f01f25>\u001b[0m in \u001b[0;36m<module>\u001b[0;34m()\u001b[0m\n\u001b[1;32m      1\u001b[0m \u001b[0;31m# interpolate 3D variables\u001b[0m\u001b[0;34m\u001b[0m\u001b[0;34m\u001b[0m\u001b[0m\n\u001b[0;32m----> 2\u001b[0;31m \u001b[0mhr_ini\u001b[0m\u001b[0;34m[\u001b[0m\u001b[0;34m'u'\u001b[0m\u001b[0;34m]\u001b[0m \u001b[0;34m=\u001b[0m \u001b[0mlow_to_high\u001b[0m\u001b[0;34m(\u001b[0m\u001b[0mlr_his\u001b[0m\u001b[0;34m.\u001b[0m\u001b[0mu\u001b[0m\u001b[0;34m,\u001b[0m\u001b[0mlr_grd\u001b[0m\u001b[0;34m,\u001b[0m\u001b[0mhr_grd\u001b[0m\u001b[0;34m,\u001b[0m\u001b[0;34m'u'\u001b[0m\u001b[0;34m,\u001b[0m\u001b[0;36m3\u001b[0m\u001b[0;34m)\u001b[0m\u001b[0;34m;\u001b[0m\u001b[0;34m\u001b[0m\u001b[0m\n\u001b[0m\u001b[1;32m      3\u001b[0m \u001b[0mhr_ini\u001b[0m\u001b[0;34m[\u001b[0m\u001b[0;34m'v'\u001b[0m\u001b[0;34m]\u001b[0m \u001b[0;34m=\u001b[0m \u001b[0mlow_to_high\u001b[0m\u001b[0;34m(\u001b[0m\u001b[0mlr_his\u001b[0m\u001b[0;34m.\u001b[0m\u001b[0mv\u001b[0m\u001b[0;34m,\u001b[0m\u001b[0mlr_grd\u001b[0m\u001b[0;34m,\u001b[0m\u001b[0mhr_grd\u001b[0m\u001b[0;34m,\u001b[0m\u001b[0;34m'v'\u001b[0m\u001b[0;34m,\u001b[0m\u001b[0;36m3\u001b[0m\u001b[0;34m)\u001b[0m\u001b[0;34m;\u001b[0m\u001b[0;34m\u001b[0m\u001b[0m\n\u001b[1;32m      4\u001b[0m \u001b[0mhr_ini\u001b[0m\u001b[0;34m[\u001b[0m\u001b[0;34m'temp'\u001b[0m\u001b[0;34m]\u001b[0m \u001b[0;34m=\u001b[0m \u001b[0mlow_to_high\u001b[0m\u001b[0;34m(\u001b[0m\u001b[0mlr_his\u001b[0m\u001b[0;34m.\u001b[0m\u001b[0mtemp\u001b[0m\u001b[0;34m,\u001b[0m\u001b[0mlr_grd\u001b[0m\u001b[0;34m,\u001b[0m\u001b[0mhr_grd\u001b[0m\u001b[0;34m,\u001b[0m\u001b[0;34m'rho'\u001b[0m\u001b[0;34m,\u001b[0m\u001b[0;36m3\u001b[0m\u001b[0;34m)\u001b[0m\u001b[0;34m\u001b[0m\u001b[0m\n\u001b[1;32m      5\u001b[0m \u001b[0mhr_ini\u001b[0m\u001b[0;34m[\u001b[0m\u001b[0;34m'salt'\u001b[0m\u001b[0;34m]\u001b[0m \u001b[0;34m=\u001b[0m \u001b[0mlow_to_high\u001b[0m\u001b[0;34m(\u001b[0m\u001b[0mlr_his\u001b[0m\u001b[0;34m.\u001b[0m\u001b[0msalt\u001b[0m\u001b[0;34m,\u001b[0m\u001b[0mlr_grd\u001b[0m\u001b[0;34m,\u001b[0m\u001b[0mhr_grd\u001b[0m\u001b[0;34m,\u001b[0m\u001b[0;34m'rho'\u001b[0m\u001b[0;34m,\u001b[0m\u001b[0;36m3\u001b[0m\u001b[0;34m)\u001b[0m\u001b[0;34m\u001b[0m\u001b[0m\n",
      "\u001b[0;32m~/bigStick/tidal_melting/src/features/resample.py\u001b[0m in \u001b[0;36mlow_to_high\u001b[0;34m(lr_da, lr_grd, hr_grd, gt, dim, fill_value)\u001b[0m\n\u001b[1;32m     72\u001b[0m \u001b[0;34m\u001b[0m\u001b[0m\n\u001b[1;32m     73\u001b[0m             \u001b[0;31m# Fill in known values on high res grid\u001b[0m\u001b[0;34m\u001b[0m\u001b[0;34m\u001b[0m\u001b[0m\n\u001b[0;32m---> 74\u001b[0;31m             \u001b[0mhr_da\u001b[0m\u001b[0;34m[\u001b[0m\u001b[0mk\u001b[0m\u001b[0;34m]\u001b[0m \u001b[0;34m=\u001b[0m \u001b[0mresample\u001b[0m\u001b[0;34m(\u001b[0m\u001b[0mlr_grd\u001b[0m\u001b[0;34m[\u001b[0m\u001b[0;34m'lon_'\u001b[0m\u001b[0;34m+\u001b[0m\u001b[0mgt\u001b[0m\u001b[0;34m]\u001b[0m\u001b[0;34m.\u001b[0m\u001b[0mvalues\u001b[0m\u001b[0;34m,\u001b[0m\u001b[0mlr_grd\u001b[0m\u001b[0;34m[\u001b[0m\u001b[0;34m'lat_'\u001b[0m\u001b[0;34m+\u001b[0m\u001b[0mgt\u001b[0m\u001b[0;34m]\u001b[0m\u001b[0;34m.\u001b[0m\u001b[0mvalues\u001b[0m\u001b[0;34m,\u001b[0m\u001b[0mhr_grd\u001b[0m\u001b[0;34m[\u001b[0m\u001b[0;34m'lon_'\u001b[0m\u001b[0;34m+\u001b[0m\u001b[0mgt\u001b[0m\u001b[0;34m]\u001b[0m\u001b[0;34m.\u001b[0m\u001b[0mvalues\u001b[0m\u001b[0;34m,\u001b[0m\u001b[0mhr_grd\u001b[0m\u001b[0;34m[\u001b[0m\u001b[0;34m'lat_'\u001b[0m\u001b[0;34m+\u001b[0m\u001b[0mgt\u001b[0m\u001b[0;34m]\u001b[0m\u001b[0;34m.\u001b[0m\u001b[0mvalues\u001b[0m\u001b[0;34m,\u001b[0m\u001b[0mfilled\u001b[0m\u001b[0;34m)\u001b[0m\u001b[0;34m\u001b[0m\u001b[0m\n\u001b[0m\u001b[1;32m     75\u001b[0m \u001b[0;34m\u001b[0m\u001b[0m\n\u001b[1;32m     76\u001b[0m             \u001b[0;31m# Fill with zeros where mask is present\u001b[0m\u001b[0;34m\u001b[0m\u001b[0;34m\u001b[0m\u001b[0m\n",
      "\u001b[0;32m~/bigStick/tidal_melting/src/features/resample.py\u001b[0m in \u001b[0;36mresample\u001b[0;34m(lon_s, lat_s, lon_t, lat_t, values)\u001b[0m\n\u001b[1;32m     10\u001b[0m \u001b[0;34m\u001b[0m\u001b[0m\n\u001b[1;32m     11\u001b[0m     values_resampled = pyresample.kd_tree.resample_nearest(orig_def, values, \\\n\u001b[0;32m---> 12\u001b[0;31m         targ_def, radius_of_influence=500000, fill_value=None,nprocs=12)\n\u001b[0m\u001b[1;32m     13\u001b[0m \u001b[0;34m\u001b[0m\u001b[0m\n\u001b[1;32m     14\u001b[0m     \u001b[0;32mreturn\u001b[0m \u001b[0mvalues_resampled\u001b[0m\u001b[0;34m\u001b[0m\u001b[0m\n",
      "\u001b[0;32m~/bigStick/anaconda3/envs/tidal_melting/lib/python3.6/site-packages/pyresample/kd_tree.py\u001b[0m in \u001b[0;36mresample_nearest\u001b[0;34m(source_geo_def, data, target_geo_def, radius_of_influence, epsilon, fill_value, reduce_data, nprocs, segments)\u001b[0m\n\u001b[1;32m    114\u001b[0m                      \u001b[0mradius_of_influence\u001b[0m\u001b[0;34m,\u001b[0m \u001b[0mneighbours\u001b[0m\u001b[0;34m=\u001b[0m\u001b[0;36m1\u001b[0m\u001b[0;34m,\u001b[0m\u001b[0;34m\u001b[0m\u001b[0m\n\u001b[1;32m    115\u001b[0m                      \u001b[0mepsilon\u001b[0m\u001b[0;34m=\u001b[0m\u001b[0mepsilon\u001b[0m\u001b[0;34m,\u001b[0m \u001b[0mfill_value\u001b[0m\u001b[0;34m=\u001b[0m\u001b[0mfill_value\u001b[0m\u001b[0;34m,\u001b[0m\u001b[0;34m\u001b[0m\u001b[0m\n\u001b[0;32m--> 116\u001b[0;31m                      reduce_data=reduce_data, nprocs=nprocs, segments=segments)\n\u001b[0m\u001b[1;32m    117\u001b[0m \u001b[0;34m\u001b[0m\u001b[0m\n\u001b[1;32m    118\u001b[0m \u001b[0;34m\u001b[0m\u001b[0m\n",
      "\u001b[0;32m~/bigStick/anaconda3/envs/tidal_melting/lib/python3.6/site-packages/pyresample/kd_tree.py\u001b[0m in \u001b[0;36m_resample\u001b[0;34m(source_geo_def, data, target_geo_def, resample_type, radius_of_influence, neighbours, epsilon, weight_funcs, fill_value, reduce_data, nprocs, segments, with_uncert)\u001b[0m\n\u001b[1;32m    275\u001b[0m                            \u001b[0mreduce_data\u001b[0m\u001b[0;34m=\u001b[0m\u001b[0mreduce_data\u001b[0m\u001b[0;34m,\u001b[0m\u001b[0;34m\u001b[0m\u001b[0m\n\u001b[1;32m    276\u001b[0m                            \u001b[0mnprocs\u001b[0m\u001b[0;34m=\u001b[0m\u001b[0mnprocs\u001b[0m\u001b[0;34m,\u001b[0m\u001b[0;34m\u001b[0m\u001b[0m\n\u001b[0;32m--> 277\u001b[0;31m                            segments=segments)\n\u001b[0m\u001b[1;32m    278\u001b[0m \u001b[0;34m\u001b[0m\u001b[0m\n\u001b[1;32m    279\u001b[0m     return get_sample_from_neighbour_info(resample_type,\n",
      "\u001b[0;32m~/bigStick/anaconda3/envs/tidal_melting/lib/python3.6/site-packages/pyresample/kd_tree.py\u001b[0m in \u001b[0;36mget_neighbour_info\u001b[0;34m(source_geo_def, target_geo_def, radius_of_influence, neighbours, epsilon, reduce_data, nprocs, segments)\u001b[0m\n\u001b[1;32m    390\u001b[0m                                    \u001b[0mepsilon\u001b[0m\u001b[0;34m=\u001b[0m\u001b[0mepsilon\u001b[0m\u001b[0;34m,\u001b[0m\u001b[0;34m\u001b[0m\u001b[0m\n\u001b[1;32m    391\u001b[0m                                    \u001b[0mreduce_data\u001b[0m\u001b[0;34m=\u001b[0m\u001b[0mreduce_data\u001b[0m\u001b[0;34m,\u001b[0m\u001b[0;34m\u001b[0m\u001b[0m\n\u001b[0;32m--> 392\u001b[0;31m                                    nprocs=nprocs)\n\u001b[0m\u001b[1;32m    393\u001b[0m \u001b[0;34m\u001b[0m\u001b[0m\n\u001b[1;32m    394\u001b[0m     \u001b[0;31m# Check if number of neighbours is potentially too low\u001b[0m\u001b[0;34m\u001b[0m\u001b[0;34m\u001b[0m\u001b[0m\n",
      "\u001b[0;32m~/bigStick/anaconda3/envs/tidal_melting/lib/python3.6/site-packages/pyresample/kd_tree.py\u001b[0m in \u001b[0;36m_query_resample_kdtree\u001b[0;34m(resample_kdtree, source_geo_def, target_geo_def, radius_of_influence, data_slice, neighbours, epsilon, reduce_data, nprocs)\u001b[0m\n\u001b[1;32m    580\u001b[0m                                                         \u001b[0mk\u001b[0m\u001b[0;34m=\u001b[0m\u001b[0mneighbours\u001b[0m\u001b[0;34m,\u001b[0m\u001b[0;34m\u001b[0m\u001b[0m\n\u001b[1;32m    581\u001b[0m                                                         \u001b[0meps\u001b[0m\u001b[0;34m=\u001b[0m\u001b[0mepsilon\u001b[0m\u001b[0;34m,\u001b[0m\u001b[0;34m\u001b[0m\u001b[0m\n\u001b[0;32m--> 582\u001b[0;31m                                                         distance_upper_bound=radius_of_influence)\n\u001b[0m\u001b[1;32m    583\u001b[0m \u001b[0;34m\u001b[0m\u001b[0m\n\u001b[1;32m    584\u001b[0m     \u001b[0;32mreturn\u001b[0m \u001b[0mvalid_output_index\u001b[0m\u001b[0;34m,\u001b[0m \u001b[0mindex_array\u001b[0m\u001b[0;34m,\u001b[0m \u001b[0mdistance_array\u001b[0m\u001b[0;34m\u001b[0m\u001b[0m\n",
      "\u001b[0;31mKeyboardInterrupt\u001b[0m: "
     ]
    }
   ],
   "source": [
    "# interpolate 3D variables\n",
    "hr_ini['u'] = low_to_high(lr_his.u,lr_grd,hr_grd,'u',3);\n",
    "hr_ini['v'] = low_to_high(lr_his.v,lr_grd,hr_grd,'v',3);\n",
    "hr_ini['temp'] = low_to_high(lr_his.temp,lr_grd,hr_grd,'rho',3)\n",
    "hr_ini['salt'] = low_to_high(lr_his.salt,lr_grd,hr_grd,'rho',3)\n",
    "# interpolate 2D variables\n",
    "hr_ini['zeta'] = low_to_high(lr_his.zeta,lr_grd,hr_grd,'rho',2);\n",
    "hr_ini['ubar'] = low_to_high(lr_his.ubar,lr_grd,hr_grd,'u',2); \n",
    "hr_ini['vbar'] = low_to_high(lr_his.vbar,lr_grd,hr_grd,'v',2);"
   ]
  },
  {
   "cell_type": "markdown",
   "metadata": {},
   "source": [
    "Assign time dimension to new data arrays with the ocean_time set to the one from the low resolution solution."
   ]
  },
  {
   "cell_type": "code",
   "execution_count": 21,
   "metadata": {
    "collapsed": true
   },
   "outputs": [],
   "source": [
    "import pandas as pd\n",
    "hr_ini.coords['ocean_time'] = lr_his.ocean_time\n",
    "hr_ini['ocean_time'] = pd.datetime(2007,1,1)\n",
    "for var in ['zeta','ubar','vbar','u','v','temp','salt']:\n",
    "    hr_ini[var] = hr_ini[var].expand_dims('ocean_time',0)"
   ]
  },
  {
   "cell_type": "markdown",
   "metadata": {},
   "source": [
    "### Save new ini file\n",
    "Compare high resolution and low resolution ini file for consistency and save as netcdf file making sure that ocean_time is saved as unlimited dimension."
   ]
  },
  {
   "cell_type": "code",
   "execution_count": 22,
   "metadata": {
    "collapsed": true,
    "scrolled": true
   },
   "outputs": [],
   "source": [
    "hr_ini_path =  os.path.join(os.environ.get('prodir'),'waom5_ini.nc')\n",
    "hr_ini.to_netcdf(hr_ini_path,unlimited_dims='ocean_time')"
   ]
  }
 ],
 "metadata": {
  "kernelspec": {
   "display_name": "Python 3",
   "language": "python",
   "name": "python3"
  },
  "language_info": {
   "codemirror_mode": {
    "name": "ipython",
    "version": 3
   },
   "file_extension": ".py",
   "mimetype": "text/x-python",
   "name": "python",
   "nbconvert_exporter": "python",
   "pygments_lexer": "ipython3",
   "version": "3.6.3"
  }
 },
 "nbformat": 4,
 "nbformat_minor": 2
}

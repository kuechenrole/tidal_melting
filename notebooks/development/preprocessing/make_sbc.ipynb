{
 "cells": [
  {
   "cell_type": "code",
   "execution_count": 1,
   "metadata": {
    "scrolled": true
   },
   "outputs": [],
   "source": [
    "import numpy as np \n",
    "import os\n",
    "import sys\n",
    "import xarray as xr\n",
    "import scipy.io as sio\n",
    "import matplotlib.pyplot as plt\n",
    "import datetime\n",
    "\n",
    "from dotenv import load_dotenv, find_dotenv\n",
    "\n",
    "# find .env automagically by walking up directories until it's found\n",
    "dotenv_path = find_dotenv()\n",
    "load_dotenv(dotenv_path)\n",
    "src_dir = os.environ.get('srcdir')\n",
    "sys.path.append(src_dir)\n",
    "\n",
    "# always reload modules marked with \"%aimport\"\n",
    "%load_ext autoreload\n",
    "%autoreload 1\n",
    "\n",
    "from features.resample_roms import resample\n",
    "from features.grid_ttide import NDinterp\n",
    "from features.log_progress import log_progress\n",
    "\n",
    "#run = os.environ.get('run')\n",
    "run ='waom10_small'"
   ]
  },
  {
   "cell_type": "code",
   "execution_count": 2,
   "metadata": {},
   "outputs": [],
   "source": [
    "#read in tamura land mask\n",
    "T_mask_path = os.path.join(os.environ.get('extdir'),'tamura','EASE_landmask_H.data')\n",
    "with open(T_mask_path,'rb') as fid:\n",
    "    T_mask = np.fromfile(fid,count=(721*721),dtype='float32').reshape((721,721))\n",
    "    T_mask = np.flipud(T_mask)"
   ]
  },
  {
   "cell_type": "code",
   "execution_count": 3,
   "metadata": {},
   "outputs": [],
   "source": [
    "#get tamura lat lon coordinates\n",
    "T_lat_lon_path = os.path.join(os.environ.get('extdir'),'tamura','latlon.data')\n",
    "with open(T_lat_lon_path,'rb') as fid:\n",
    "    T_lat_lon = np.fromfile(fid,count=(721*721*2),dtype='float32').reshape((2,721,721))\n",
    "T_lat,T_lon = (T_lat_lon[0],T_lat_lon[1])\n",
    "T_lat = np.flipud(T_lat)\n",
    "T_lon = np.flipud(T_lon)"
   ]
  },
  {
   "cell_type": "code",
   "execution_count": 4,
   "metadata": {},
   "outputs": [
    {
     "name": "stderr",
     "output_type": "stream",
     "text": [
      "/home/ubuntu/bigStick/anaconda3/envs/tidal_melting/lib/python3.6/site-packages/xarray/core/common.py:594: FutureWarning: pd.TimeGrouper is deprecated and will be removed; Please use pd.Grouper(freq=...)\n",
      "  label=label, base=base)\n"
     ]
    }
   ],
   "source": [
    "#read in era interim winds and resample from twice daily to daily\n",
    "era_path = os.path.join(os.environ.get('extdir'),'era_interim','ERA_Interim_1992_2011.2daily.*winds.nc')\n",
    "era_ds = xr.open_mfdataset(era_path,data_vars='minimal').sel(time='2007',latitude=slice(-30,-90)).resample(time='D').mean()"
   ]
  },
  {
   "cell_type": "code",
   "execution_count": 5,
   "metadata": {},
   "outputs": [],
   "source": [
    "#get era coordinates\n",
    "era_lat = era_ds.latitude.values\n",
    "era_lon = era_ds.longitude.values\n",
    "era_lon[era_lon>180]-=360.0\n",
    "E_lon,E_lat = np.meshgrid(era_lon,era_lat)"
   ]
  },
  {
   "cell_type": "code",
   "execution_count": 8,
   "metadata": {},
   "outputs": [],
   "source": [
    "#get roms grid\n",
    "R_grid_path = os.path.join(os.environ.get('prodir'),run+'_grd.nc')\n",
    "R_grid = xr.open_dataset(R_grid_path)\n",
    "R_lon = R_grid.lon_rho.values\n",
    "R_lat = R_grid.lat_rho.values\n",
    "R_angle = R_grid.angle.values\n",
    "R_ulon = R_grid.lon_u.values\n",
    "R_vlon = R_grid.lon_v.values\n",
    "R_ulat = R_grid.lat_u.values\n",
    "R_vlat = R_grid.lat_v.values"
   ]
  },
  {
   "cell_type": "code",
   "execution_count": 10,
   "metadata": {
    "scrolled": true
   },
   "outputs": [
    {
     "name": "stdout",
     "output_type": "stream",
     "text": [
      "Processing month:  jan with days:  31\n",
      "Containing days of year:  [ 1  2  3  4  5  6  7  8  9 10 11 12 13 14 15 16 17 18 19 20 21 22 23 24 25\n",
      " 26 27 28 29 30 31]\n"
     ]
    },
    {
     "data": {
      "application/vnd.jupyter.widget-view+json": {
       "model_id": "ba6e43889ccd43e595e6ac1d688cd1cb",
       "version_major": 2,
       "version_minor": 0
      },
      "text/html": [
       "<p>Failed to display Jupyter Widget of type <code>VBox</code>.</p>\n",
       "<p>\n",
       "  If you're reading this message in the Jupyter Notebook or JupyterLab Notebook, it may mean\n",
       "  that the widgets JavaScript is still loading. If this message persists, it\n",
       "  likely means that the widgets JavaScript library is either not installed or\n",
       "  not enabled. See the <a href=\"https://ipywidgets.readthedocs.io/en/stable/user_install.html\">Jupyter\n",
       "  Widgets Documentation</a> for setup instructions.\n",
       "</p>\n",
       "<p>\n",
       "  If you're reading this message in another frontend (for example, a static\n",
       "  rendering on GitHub or <a href=\"https://nbviewer.jupyter.org/\">NBViewer</a>),\n",
       "  it may mean that your frontend doesn't currently support widgets.\n",
       "</p>\n"
      ],
      "text/plain": [
       "VBox(children=(HTML(value=''), IntProgress(value=0, max=31)))"
      ]
     },
     "metadata": {},
     "output_type": "display_data"
    },
    {
     "name": "stdout",
     "output_type": "stream",
     "text": [
      "Saving month to /home/ubuntu/bigStick/tidal_melting/data/preprocessing/interim/waom10_small_sbc_jan.nc\n",
      "Processing month:  feb with days:  28\n",
      "Containing days of year:  [32 33 34 35 36 37 38 39 40 41 42 43 44 45 46 47 48 49 50 51 52 53 54 55 56\n",
      " 57 58 59]\n"
     ]
    },
    {
     "data": {
      "application/vnd.jupyter.widget-view+json": {
       "model_id": "1cbd2111928b4342be2a272d6c8f956a",
       "version_major": 2,
       "version_minor": 0
      },
      "text/html": [
       "<p>Failed to display Jupyter Widget of type <code>VBox</code>.</p>\n",
       "<p>\n",
       "  If you're reading this message in the Jupyter Notebook or JupyterLab Notebook, it may mean\n",
       "  that the widgets JavaScript is still loading. If this message persists, it\n",
       "  likely means that the widgets JavaScript library is either not installed or\n",
       "  not enabled. See the <a href=\"https://ipywidgets.readthedocs.io/en/stable/user_install.html\">Jupyter\n",
       "  Widgets Documentation</a> for setup instructions.\n",
       "</p>\n",
       "<p>\n",
       "  If you're reading this message in another frontend (for example, a static\n",
       "  rendering on GitHub or <a href=\"https://nbviewer.jupyter.org/\">NBViewer</a>),\n",
       "  it may mean that your frontend doesn't currently support widgets.\n",
       "</p>\n"
      ],
      "text/plain": [
       "VBox(children=(HTML(value=''), IntProgress(value=0, max=28)))"
      ]
     },
     "metadata": {},
     "output_type": "display_data"
    },
    {
     "name": "stdout",
     "output_type": "stream",
     "text": [
      "Saving month to /home/ubuntu/bigStick/tidal_melting/data/preprocessing/interim/waom10_small_sbc_feb.nc\n",
      "Processing month:  mar with days:  31\n",
      "Containing days of year:  [60 61 62 63 64 65 66 67 68 69 70 71 72 73 74 75 76 77 78 79 80 81 82 83 84\n",
      " 85 86 87 88 89 90]\n"
     ]
    },
    {
     "data": {
      "application/vnd.jupyter.widget-view+json": {
       "model_id": "7464cd17538a4322a77044c6ac2bc84d",
       "version_major": 2,
       "version_minor": 0
      },
      "text/html": [
       "<p>Failed to display Jupyter Widget of type <code>VBox</code>.</p>\n",
       "<p>\n",
       "  If you're reading this message in the Jupyter Notebook or JupyterLab Notebook, it may mean\n",
       "  that the widgets JavaScript is still loading. If this message persists, it\n",
       "  likely means that the widgets JavaScript library is either not installed or\n",
       "  not enabled. See the <a href=\"https://ipywidgets.readthedocs.io/en/stable/user_install.html\">Jupyter\n",
       "  Widgets Documentation</a> for setup instructions.\n",
       "</p>\n",
       "<p>\n",
       "  If you're reading this message in another frontend (for example, a static\n",
       "  rendering on GitHub or <a href=\"https://nbviewer.jupyter.org/\">NBViewer</a>),\n",
       "  it may mean that your frontend doesn't currently support widgets.\n",
       "</p>\n"
      ],
      "text/plain": [
       "VBox(children=(HTML(value=''), IntProgress(value=0, max=31)))"
      ]
     },
     "metadata": {},
     "output_type": "display_data"
    },
    {
     "name": "stdout",
     "output_type": "stream",
     "text": [
      "Saving month to /home/ubuntu/bigStick/tidal_melting/data/preprocessing/interim/waom10_small_sbc_mar.nc\n",
      "Processing month:  apr with days:  30\n",
      "Containing days of year:  [ 91  92  93  94  95  96  97  98  99 100 101 102 103 104 105 106 107 108\n",
      " 109 110 111 112 113 114 115 116 117 118 119 120]\n"
     ]
    },
    {
     "data": {
      "application/vnd.jupyter.widget-view+json": {
       "model_id": "a2f563a5bb894ebba0e8491bad8a284e",
       "version_major": 2,
       "version_minor": 0
      },
      "text/html": [
       "<p>Failed to display Jupyter Widget of type <code>VBox</code>.</p>\n",
       "<p>\n",
       "  If you're reading this message in the Jupyter Notebook or JupyterLab Notebook, it may mean\n",
       "  that the widgets JavaScript is still loading. If this message persists, it\n",
       "  likely means that the widgets JavaScript library is either not installed or\n",
       "  not enabled. See the <a href=\"https://ipywidgets.readthedocs.io/en/stable/user_install.html\">Jupyter\n",
       "  Widgets Documentation</a> for setup instructions.\n",
       "</p>\n",
       "<p>\n",
       "  If you're reading this message in another frontend (for example, a static\n",
       "  rendering on GitHub or <a href=\"https://nbviewer.jupyter.org/\">NBViewer</a>),\n",
       "  it may mean that your frontend doesn't currently support widgets.\n",
       "</p>\n"
      ],
      "text/plain": [
       "VBox(children=(HTML(value=''), IntProgress(value=0, max=30)))"
      ]
     },
     "metadata": {},
     "output_type": "display_data"
    },
    {
     "name": "stdout",
     "output_type": "stream",
     "text": [
      "Saving month to /home/ubuntu/bigStick/tidal_melting/data/preprocessing/interim/waom10_small_sbc_apr.nc\n",
      "Processing month:  may with days:  31\n",
      "Containing days of year:  [121 122 123 124 125 126 127 128 129 130 131 132 133 134 135 136 137 138\n",
      " 139 140 141 142 143 144 145 146 147 148 149 150 151]\n"
     ]
    },
    {
     "data": {
      "application/vnd.jupyter.widget-view+json": {
       "model_id": "59ef4c8125d348919b9367a06ccb57cd",
       "version_major": 2,
       "version_minor": 0
      },
      "text/html": [
       "<p>Failed to display Jupyter Widget of type <code>VBox</code>.</p>\n",
       "<p>\n",
       "  If you're reading this message in the Jupyter Notebook or JupyterLab Notebook, it may mean\n",
       "  that the widgets JavaScript is still loading. If this message persists, it\n",
       "  likely means that the widgets JavaScript library is either not installed or\n",
       "  not enabled. See the <a href=\"https://ipywidgets.readthedocs.io/en/stable/user_install.html\">Jupyter\n",
       "  Widgets Documentation</a> for setup instructions.\n",
       "</p>\n",
       "<p>\n",
       "  If you're reading this message in another frontend (for example, a static\n",
       "  rendering on GitHub or <a href=\"https://nbviewer.jupyter.org/\">NBViewer</a>),\n",
       "  it may mean that your frontend doesn't currently support widgets.\n",
       "</p>\n"
      ],
      "text/plain": [
       "VBox(children=(HTML(value=''), IntProgress(value=0, max=31)))"
      ]
     },
     "metadata": {},
     "output_type": "display_data"
    },
    {
     "name": "stdout",
     "output_type": "stream",
     "text": [
      "Saving month to /home/ubuntu/bigStick/tidal_melting/data/preprocessing/interim/waom10_small_sbc_may.nc\n",
      "Processing month:  jun with days:  30\n",
      "Containing days of year:  [152 153 154 155 156 157 158 159 160 161 162 163 164 165 166 167 168 169\n",
      " 170 171 172 173 174 175 176 177 178 179 180 181]\n"
     ]
    },
    {
     "data": {
      "application/vnd.jupyter.widget-view+json": {
       "model_id": "24dba781427a4d2bafda941227fecce7",
       "version_major": 2,
       "version_minor": 0
      },
      "text/html": [
       "<p>Failed to display Jupyter Widget of type <code>VBox</code>.</p>\n",
       "<p>\n",
       "  If you're reading this message in the Jupyter Notebook or JupyterLab Notebook, it may mean\n",
       "  that the widgets JavaScript is still loading. If this message persists, it\n",
       "  likely means that the widgets JavaScript library is either not installed or\n",
       "  not enabled. See the <a href=\"https://ipywidgets.readthedocs.io/en/stable/user_install.html\">Jupyter\n",
       "  Widgets Documentation</a> for setup instructions.\n",
       "</p>\n",
       "<p>\n",
       "  If you're reading this message in another frontend (for example, a static\n",
       "  rendering on GitHub or <a href=\"https://nbviewer.jupyter.org/\">NBViewer</a>),\n",
       "  it may mean that your frontend doesn't currently support widgets.\n",
       "</p>\n"
      ],
      "text/plain": [
       "VBox(children=(HTML(value=''), IntProgress(value=0, max=30)))"
      ]
     },
     "metadata": {},
     "output_type": "display_data"
    },
    {
     "name": "stdout",
     "output_type": "stream",
     "text": [
      "Saving month to /home/ubuntu/bigStick/tidal_melting/data/preprocessing/interim/waom10_small_sbc_jun.nc\n",
      "Processing month:  jul with days:  31\n",
      "Containing days of year:  [182 183 184 185 186 187 188 189 190 191 192 193 194 195 196 197 198 199\n",
      " 200 201 202 203 204 205 206 207 208 209 210 211 212]\n"
     ]
    },
    {
     "data": {
      "application/vnd.jupyter.widget-view+json": {
       "model_id": "2706c12d8dbc4fa09bbb42c658bac2b5",
       "version_major": 2,
       "version_minor": 0
      },
      "text/html": [
       "<p>Failed to display Jupyter Widget of type <code>VBox</code>.</p>\n",
       "<p>\n",
       "  If you're reading this message in the Jupyter Notebook or JupyterLab Notebook, it may mean\n",
       "  that the widgets JavaScript is still loading. If this message persists, it\n",
       "  likely means that the widgets JavaScript library is either not installed or\n",
       "  not enabled. See the <a href=\"https://ipywidgets.readthedocs.io/en/stable/user_install.html\">Jupyter\n",
       "  Widgets Documentation</a> for setup instructions.\n",
       "</p>\n",
       "<p>\n",
       "  If you're reading this message in another frontend (for example, a static\n",
       "  rendering on GitHub or <a href=\"https://nbviewer.jupyter.org/\">NBViewer</a>),\n",
       "  it may mean that your frontend doesn't currently support widgets.\n",
       "</p>\n"
      ],
      "text/plain": [
       "VBox(children=(HTML(value=''), IntProgress(value=0, max=31)))"
      ]
     },
     "metadata": {},
     "output_type": "display_data"
    },
    {
     "name": "stdout",
     "output_type": "stream",
     "text": [
      "Saving month to /home/ubuntu/bigStick/tidal_melting/data/preprocessing/interim/waom10_small_sbc_jul.nc\n",
      "Processing month:  aug with days:  31\n",
      "Containing days of year:  [213 214 215 216 217 218 219 220 221 222 223 224 225 226 227 228 229 230\n",
      " 231 232 233 234 235 236 237 238 239 240 241 242 243]\n"
     ]
    },
    {
     "data": {
      "application/vnd.jupyter.widget-view+json": {
       "model_id": "3e603043d0984c53a3da14b06cdd125e",
       "version_major": 2,
       "version_minor": 0
      },
      "text/html": [
       "<p>Failed to display Jupyter Widget of type <code>VBox</code>.</p>\n",
       "<p>\n",
       "  If you're reading this message in the Jupyter Notebook or JupyterLab Notebook, it may mean\n",
       "  that the widgets JavaScript is still loading. If this message persists, it\n",
       "  likely means that the widgets JavaScript library is either not installed or\n",
       "  not enabled. See the <a href=\"https://ipywidgets.readthedocs.io/en/stable/user_install.html\">Jupyter\n",
       "  Widgets Documentation</a> for setup instructions.\n",
       "</p>\n",
       "<p>\n",
       "  If you're reading this message in another frontend (for example, a static\n",
       "  rendering on GitHub or <a href=\"https://nbviewer.jupyter.org/\">NBViewer</a>),\n",
       "  it may mean that your frontend doesn't currently support widgets.\n",
       "</p>\n"
      ],
      "text/plain": [
       "VBox(children=(HTML(value=''), IntProgress(value=0, max=31)))"
      ]
     },
     "metadata": {},
     "output_type": "display_data"
    },
    {
     "name": "stdout",
     "output_type": "stream",
     "text": [
      "Saving month to /home/ubuntu/bigStick/tidal_melting/data/preprocessing/interim/waom10_small_sbc_aug.nc\n",
      "Processing month:  sep with days:  30\n",
      "Containing days of year:  [244 245 246 247 248 249 250 251 252 253 254 255 256 257 258 259 260 261\n",
      " 262 263 264 265 266 267 268 269 270 271 272 273]\n"
     ]
    },
    {
     "data": {
      "application/vnd.jupyter.widget-view+json": {
       "model_id": "3e196ade05d545aca854bb0cf4a45279",
       "version_major": 2,
       "version_minor": 0
      },
      "text/html": [
       "<p>Failed to display Jupyter Widget of type <code>VBox</code>.</p>\n",
       "<p>\n",
       "  If you're reading this message in the Jupyter Notebook or JupyterLab Notebook, it may mean\n",
       "  that the widgets JavaScript is still loading. If this message persists, it\n",
       "  likely means that the widgets JavaScript library is either not installed or\n",
       "  not enabled. See the <a href=\"https://ipywidgets.readthedocs.io/en/stable/user_install.html\">Jupyter\n",
       "  Widgets Documentation</a> for setup instructions.\n",
       "</p>\n",
       "<p>\n",
       "  If you're reading this message in another frontend (for example, a static\n",
       "  rendering on GitHub or <a href=\"https://nbviewer.jupyter.org/\">NBViewer</a>),\n",
       "  it may mean that your frontend doesn't currently support widgets.\n",
       "</p>\n"
      ],
      "text/plain": [
       "VBox(children=(HTML(value=''), IntProgress(value=0, max=30)))"
      ]
     },
     "metadata": {},
     "output_type": "display_data"
    },
    {
     "name": "stdout",
     "output_type": "stream",
     "text": [
      "Saving month to /home/ubuntu/bigStick/tidal_melting/data/preprocessing/interim/waom10_small_sbc_sep.nc\n",
      "Processing month:  oct with days:  31\n",
      "Containing days of year:  [274 275 276 277 278 279 280 281 282 283 284 285 286 287 288 289 290 291\n",
      " 292 293 294 295 296 297 298 299 300 301 302 303 304]\n"
     ]
    },
    {
     "data": {
      "application/vnd.jupyter.widget-view+json": {
       "model_id": "030be7e1a70e4364be9087c2805199b5",
       "version_major": 2,
       "version_minor": 0
      },
      "text/html": [
       "<p>Failed to display Jupyter Widget of type <code>VBox</code>.</p>\n",
       "<p>\n",
       "  If you're reading this message in the Jupyter Notebook or JupyterLab Notebook, it may mean\n",
       "  that the widgets JavaScript is still loading. If this message persists, it\n",
       "  likely means that the widgets JavaScript library is either not installed or\n",
       "  not enabled. See the <a href=\"https://ipywidgets.readthedocs.io/en/stable/user_install.html\">Jupyter\n",
       "  Widgets Documentation</a> for setup instructions.\n",
       "</p>\n",
       "<p>\n",
       "  If you're reading this message in another frontend (for example, a static\n",
       "  rendering on GitHub or <a href=\"https://nbviewer.jupyter.org/\">NBViewer</a>),\n",
       "  it may mean that your frontend doesn't currently support widgets.\n",
       "</p>\n"
      ],
      "text/plain": [
       "VBox(children=(HTML(value=''), IntProgress(value=0, max=31)))"
      ]
     },
     "metadata": {},
     "output_type": "display_data"
    },
    {
     "name": "stdout",
     "output_type": "stream",
     "text": [
      "Saving month to /home/ubuntu/bigStick/tidal_melting/data/preprocessing/interim/waom10_small_sbc_oct.nc\n",
      "Processing month:  nov with days:  30\n",
      "Containing days of year:  [305 306 307 308 309 310 311 312 313 314 315 316 317 318 319 320 321 322\n",
      " 323 324 325 326 327 328 329 330 331 332 333 334]\n"
     ]
    },
    {
     "data": {
      "application/vnd.jupyter.widget-view+json": {
       "model_id": "2efb83bc9f834d2caaa0af3cdc18c391",
       "version_major": 2,
       "version_minor": 0
      },
      "text/html": [
       "<p>Failed to display Jupyter Widget of type <code>VBox</code>.</p>\n",
       "<p>\n",
       "  If you're reading this message in the Jupyter Notebook or JupyterLab Notebook, it may mean\n",
       "  that the widgets JavaScript is still loading. If this message persists, it\n",
       "  likely means that the widgets JavaScript library is either not installed or\n",
       "  not enabled. See the <a href=\"https://ipywidgets.readthedocs.io/en/stable/user_install.html\">Jupyter\n",
       "  Widgets Documentation</a> for setup instructions.\n",
       "</p>\n",
       "<p>\n",
       "  If you're reading this message in another frontend (for example, a static\n",
       "  rendering on GitHub or <a href=\"https://nbviewer.jupyter.org/\">NBViewer</a>),\n",
       "  it may mean that your frontend doesn't currently support widgets.\n",
       "</p>\n"
      ],
      "text/plain": [
       "VBox(children=(HTML(value=''), IntProgress(value=0, max=30)))"
      ]
     },
     "metadata": {},
     "output_type": "display_data"
    },
    {
     "name": "stdout",
     "output_type": "stream",
     "text": [
      "Saving month to /home/ubuntu/bigStick/tidal_melting/data/preprocessing/interim/waom10_small_sbc_nov.nc\n",
      "Processing month:  dec with days:  31\n",
      "Containing days of year:  [335 336 337 338 339 340 341 342 343 344 345 346 347 348 349 350 351 352\n",
      " 353 354 355 356 357 358 359 360 361 362 363 364 365]\n"
     ]
    },
    {
     "data": {
      "application/vnd.jupyter.widget-view+json": {
       "model_id": "7655f6f005f846a6b12c12f98d90c081",
       "version_major": 2,
       "version_minor": 0
      },
      "text/html": [
       "<p>Failed to display Jupyter Widget of type <code>VBox</code>.</p>\n",
       "<p>\n",
       "  If you're reading this message in the Jupyter Notebook or JupyterLab Notebook, it may mean\n",
       "  that the widgets JavaScript is still loading. If this message persists, it\n",
       "  likely means that the widgets JavaScript library is either not installed or\n",
       "  not enabled. See the <a href=\"https://ipywidgets.readthedocs.io/en/stable/user_install.html\">Jupyter\n",
       "  Widgets Documentation</a> for setup instructions.\n",
       "</p>\n",
       "<p>\n",
       "  If you're reading this message in another frontend (for example, a static\n",
       "  rendering on GitHub or <a href=\"https://nbviewer.jupyter.org/\">NBViewer</a>),\n",
       "  it may mean that your frontend doesn't currently support widgets.\n",
       "</p>\n"
      ],
      "text/plain": [
       "VBox(children=(HTML(value=''), IntProgress(value=0, max=31)))"
      ]
     },
     "metadata": {},
     "output_type": "display_data"
    },
    {
     "name": "stdout",
     "output_type": "stream",
     "text": [
      "Saving month to /home/ubuntu/bigStick/tidal_melting/data/preprocessing/interim/waom10_small_sbc_dec.nc\n"
     ]
    }
   ],
   "source": [
    "month = ['jan','feb','mar','apr','may','jun','jul','aug','sep','oct','nov','dec']\n",
    "#month = ['dec']\n",
    "daysPerMonth = [31,28,31,30,31,30,31,31,30,31,30,31]\n",
    "#x,y = np.meshgrid(np.arange(-4300,4300+mr/2,mr/2),np.arange(-3700,3600+mr/2,mr/2))daysPerMonth = [31]\n",
    "#month = ['jan','feb']\n",
    "#daysPerMonth = [1,2]\n",
    "\n",
    "dayOfYear = 1\n",
    "\n",
    "for month,days in zip(month,daysPerMonth):\n",
    "    \n",
    "    print('Processing month: ',month,'with days: ',days)\n",
    "    \n",
    "    daysOfYear = np.arange(dayOfYear,dayOfYear+days,dtype=int)\n",
    "    \n",
    "    print('Containing days of year: ',daysOfYear)\n",
    "\n",
    "    # preparing empty dataset\n",
    "    ds = xr.Dataset({'shflux':(['shf_time','eta_rho','xi_rho'], np.empty((days,R_grid.eta_rho.size,R_grid.xi_rho.size))),\n",
    "                     'swflux':(['swf_time','eta_rho','xi_rho'], np.empty((days,R_grid.eta_rho.size,R_grid.xi_rho.size))),\n",
    "                     'sustr':(['sms_time','eta_u','xi_u'], np.empty((days,R_grid.eta_u.size,R_grid.xi_u.size))),\n",
    "                     'svstr':(['sms_time','eta_v','xi_v'], np.empty((days,R_grid.eta_v.size,R_grid.xi_v.size)))},\n",
    "                   coords={'shf_time':(['shf_time'],daysOfYear),\n",
    "                           'swf_time':(['swf_time'],daysOfYear),\n",
    "                           'sms_time':(['sms_time'],daysOfYear)})\n",
    "   \n",
    "    #open Tamura month flux data \n",
    "    T_data_path = os.path.join(os.environ.get('extdir'),'tamura','TSDM2hb_2007_'+month+'.data')\n",
    "    with open(T_data_path,'rb') as fid:\n",
    "        T_data = np.swapaxes(np.fromfile(fid,count = days*6*721*721 ,dtype='float32').reshape(days,6,721,721),0,1)\n",
    "    \n",
    "    #looping over the days with running day-of-the-year and day-of-the-month index\n",
    "    for Eidx,Tidx in zip(log_progress(daysOfYear-1,name='days'),np.arange(days)):\n",
    "        \n",
    "        #read in Tamura heat and fresh water flux and turn in right position\n",
    "        shflux_tmp = np.flipud(T_data[0,Tidx])\n",
    "        ssflux_tmp = np.flipud(T_data[2,Tidx])\n",
    "        \n",
    "        #fill in tamuar mask for later resampling\n",
    "        shflux_tmp[T_mask==0] = np.nan\n",
    "        shflux_tmp = NDinterp(shflux_tmp)\n",
    "        \n",
    "        ssflux_tmp[T_mask==0] = np.nan\n",
    "        ssflux_tmp = NDinterp(ssflux_tmp)\n",
    "\n",
    "        #resample to roms grid points\n",
    "        shflux_tmp = resample(T_lon,T_lat,R_lon,R_lat,shflux_tmp)\n",
    "        ssflux_tmp = resample(T_lon,T_lat,R_lon,R_lat,ssflux_tmp)\n",
    "        \n",
    "        #correct large summer heat flux values and save to dataset\n",
    "        shflux_tmp[shflux_tmp > 0.0]*=0.5\n",
    "        \n",
    "        ds.shflux[Tidx] = shflux_tmp\n",
    "        \n",
    "        #convert to freshwater flux with convention positive up 'swf (E-P)',\n",
    "        #that means a positive freshwater flux value results in positive salt flux value\n",
    "        #and save to dataset\n",
    "        refSalt = 34.4\n",
    "\n",
    "        ds.swflux[Tidx] = ssflux_tmp/refSalt*100\n",
    "        \n",
    "        #resample era-interim winds to roms grid\n",
    "        uwnd = resample(E_lon,E_lat,R_lon,R_lat,era_ds.u10[Eidx].values)\n",
    "        vwnd = resample(E_lon,E_lat,R_lon,R_lat,era_ds.v10[Eidx].values)\n",
    "        \n",
    "        #rotate wind directions to roms grid\n",
    "        uv = (uwnd+1j*vwnd)*np.exp(1j*-R_angle)\n",
    "        uwnd = uv.real\n",
    "        vwnd = uv.imag\n",
    "        \n",
    "        #convert to stress\n",
    "        signu = np.sign(uwnd)\n",
    "        signv = np.sign(vwnd)\n",
    "\n",
    "        rhoAir = 1.3\n",
    "        Cd = 1.4e-3\n",
    "\n",
    "        taux = rhoAir*Cd*np.square(uwnd)*signu\n",
    "        tauy = rhoAir*Cd*np.square(vwnd)*signv\n",
    "        \n",
    "        #resample to roms u and v grid and save to dataset\n",
    "        taux = resample(R_lon,R_lat,R_ulon,R_ulat,taux)\n",
    "        tauy = resample(R_lon,R_lat,R_vlon,R_vlat,tauy)\n",
    "        \n",
    "        ds.sustr[Tidx]=taux\n",
    "        ds.svstr[Tidx]=tauy\n",
    "        \n",
    "    #add attributes to data set and data arrays\n",
    "    ds.attrs={'title':'waom surface heat/fresh water fluxes and wind stress',\n",
    "                          'date':str(datetime.date.today()),\n",
    "                          'tamura_file':T_data_path,\n",
    "                          'era-interim file':era_path,\n",
    "                          'grid file':R_grid_path,\n",
    "                          'type':'ROMS forcing file'}\n",
    "    ds.shflux.attrs = {'long_name': 'surface net heat flux', 'units': 'Watts meter-2'}\n",
    "    ds.swflux.attrs = {'long_name': 'surface freshwater flux (E-P)',\n",
    "                       'negative': 'net precipitation',\n",
    "                       'positive': 'net evaporation',\n",
    "                       'units': 'centimetre day-1'}\n",
    "    ds.sustr.attrs = {'long_name': 'surface u-momentum stress', 'units': 'Newton meter-2'}\n",
    "    ds.svstr.attrs = {'long_name': 'surface u-momentum stress', 'units': 'Newton meter-2'}\n",
    "    ds.sms_time.attrs = {'cycle_length': days,'long_name': 'surface momentum stress time','units': 'day'}\n",
    "    ds.shf_time.attrs = {'cycle_length': days, 'long_name': 'surface heat flux time', 'units': 'day'}\n",
    "    ds.swf_time.attrs = {'cycle_length': days,'long_name': 'surface freshwater flux time','units': 'day'}\n",
    "    \n",
    "    #save month as netcdf file\n",
    "    out_path = os.path.join(os.environ.get('intdir'),run+'_sbc_'+month+'.nc') \n",
    "    print(\"Saving month to \"+out_path)\n",
    "    ds.to_netcdf(out_path,'w')\n",
    "    \n",
    "    #update the day of the year value for next month\n",
    "    dayOfYear += days"
   ]
  },
  {
   "cell_type": "code",
   "execution_count": 11,
   "metadata": {
    "scrolled": true
   },
   "outputs": [
    {
     "name": "stdout",
     "output_type": "stream",
     "text": [
      "loading: /home/ubuntu/bigStick/tidal_melting/data/preprocessing/interim/waom10_small_sbc_mar.nc\n",
      "loading: /home/ubuntu/bigStick/tidal_melting/data/preprocessing/interim/waom10_small_sbc_jun.nc\n",
      "loading: /home/ubuntu/bigStick/tidal_melting/data/preprocessing/interim/waom10_small_sbc_nov.nc\n",
      "loading: /home/ubuntu/bigStick/tidal_melting/data/preprocessing/interim/waom10_small_sbc_may.nc\n",
      "loading: /home/ubuntu/bigStick/tidal_melting/data/preprocessing/interim/waom10_small_sbc_sep.nc\n",
      "loading: /home/ubuntu/bigStick/tidal_melting/data/preprocessing/interim/waom10_small_sbc_oct.nc\n",
      "loading: /home/ubuntu/bigStick/tidal_melting/data/preprocessing/interim/waom10_small_sbc_jul.nc\n",
      "loading: /home/ubuntu/bigStick/tidal_melting/data/preprocessing/interim/waom10_small_sbc_aug.nc\n",
      "loading: /home/ubuntu/bigStick/tidal_melting/data/preprocessing/interim/waom10_small_sbc_feb.nc\n",
      "loading: /home/ubuntu/bigStick/tidal_melting/data/preprocessing/interim/waom10_small_sbc_apr.nc\n",
      "loading: /home/ubuntu/bigStick/tidal_melting/data/preprocessing/interim/waom10_small_sbc_dec.nc\n",
      "loading: /home/ubuntu/bigStick/tidal_melting/data/preprocessing/interim/waom10_small_sbc_jan.nc\n",
      "and saving to /home/ubuntu/bigStick/tidal_melting/data/preprocessing/processed/waom10_small_sbc.nc\n"
     ]
    }
   ],
   "source": [
    "import os\n",
    "import xarray as xr\n",
    "import glob\n",
    "\n",
    "run_name = os.environ.get('run')\n",
    "\n",
    "\n",
    "# concatenate all monthly data into a single file\n",
    "monthly_data_paths = os.path.join(os.environ.get('intdir'),run+'_sbc_*.nc')\n",
    "for file in glob.glob(monthly_data_paths):\n",
    "    print('loading: '+file)\n",
    "\n",
    "ds = xr.open_mfdataset(monthly_data_paths,concat_dim=None)\n",
    "ds = ds.chunk(chunks={'shf_time':3,'swf_time':3,'sms_time':3})\n",
    "for time in ['shf_time','swf_time','sms_time']:\n",
    "    ds[time]['cycle_length'] = float(365) #ds[time].cycle_length.size  THIS NEEDS TO BE FLOAT NEXT TIME\n",
    "year_data_path = os.path.join(os.environ.get('prodir'),run+'_sbc.nc')\n",
    "\n",
    "print('and saving to '+year_data_path)\n",
    "ds.to_netcdf(year_data_path)"
   ]
  },
  {
   "cell_type": "code",
   "execution_count": null,
   "metadata": {},
   "outputs": [],
   "source": []
  }
 ],
 "metadata": {
  "kernelspec": {
   "display_name": "Python 3",
   "language": "python",
   "name": "python3"
  },
  "language_info": {
   "codemirror_mode": {
    "name": "ipython",
    "version": 3
   },
   "file_extension": ".py",
   "mimetype": "text/x-python",
   "name": "python",
   "nbconvert_exporter": "python",
   "pygments_lexer": "ipython3",
   "version": "3.6.3"
  }
 },
 "nbformat": 4,
 "nbformat_minor": 2
}

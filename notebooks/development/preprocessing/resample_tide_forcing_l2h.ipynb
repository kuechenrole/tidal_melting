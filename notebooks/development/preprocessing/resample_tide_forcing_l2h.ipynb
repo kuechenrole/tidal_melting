{
 "cells": [
  {
   "cell_type": "markdown",
   "metadata": {},
   "source": [
    "# Generate high resolution tidal forcing file by resampling"
   ]
  },
  {
   "cell_type": "code",
   "execution_count": 38,
   "metadata": {},
   "outputs": [
    {
     "name": "stdout",
     "output_type": "stream",
     "text": [
      "The autoreload extension is already loaded. To reload it, use:\n",
      "  %reload_ext autoreload\n"
     ]
    }
   ],
   "source": [
    "# get environment variables\n",
    "import os\n",
    "import sys\n",
    "from dotenv import load_dotenv, find_dotenv\n",
    "\n",
    "# find .env automagically by walking up directories until it's found\n",
    "dotenv_path = find_dotenv()\n",
    "\n",
    "# load up the entries as environment variables\n",
    "load_dotenv(dotenv_path)\n",
    "\n",
    "sys.path.append(os.environ.get('srcdir'))\n",
    "\n",
    "# always reload modules marked with \"%aimport\"\n",
    "%load_ext autoreload\n",
    "%autoreload 1\n",
    "\n",
    "from features.resample import low_to_high_frc\n",
    "%aimport features.resample"
   ]
  },
  {
   "cell_type": "markdown",
   "metadata": {},
   "source": [
    "## Load grids, low res tide file and set up output path"
   ]
  },
  {
   "cell_type": "code",
   "execution_count": 14,
   "metadata": {},
   "outputs": [],
   "source": [
    "import xarray as xr\n",
    "import matplotlib.pyplot as plt\n",
    "\n",
    "hr_grd_path = os.path.join(os.environ.get(\"prodir\"),'waom5_grd.nc')\n",
    "hr_grd = xr.open_dataset(hr_grd_path)\n",
    "\n",
    "lr_grd_path = os.path.join(os.environ.get(\"prodir\"),'waom10_grd.nc')\n",
    "lr_grd = xr.open_dataset(lr_grd_path)\n",
    "\n",
    "lr_frc_path =  os.path.join(os.environ.get(\"prodir\"),'waom10_tds.nc')\n",
    "lr_frc = xr.open_dataset(lr_frc_path)\n",
    "\n",
    "hr_frc_path = os.path.join(os.environ.get(\"prodir\"),'waom5_tds.nc')"
   ]
  },
  {
   "cell_type": "code",
   "execution_count": 31,
   "metadata": {
    "scrolled": true
   },
   "outputs": [
    {
     "data": {
      "text/plain": [
       "<xarray.Dataset>\n",
       "Dimensions:             (eta_rho: 730, string: 4, tide_period: 13, xi_rho: 860)\n",
       "Coordinates:\n",
       "  * tide_period         (tide_period) timedelta64[ns] 0 days 12:25:14.163600 ...\n",
       "Dimensions without coordinates: eta_rho, string, xi_rho\n",
       "Data variables:\n",
       "    lat_rho             (eta_rho, xi_rho) float64 ...\n",
       "    lon_rho             (eta_rho, xi_rho) float64 ...\n",
       "    mask_rho            (eta_rho, xi_rho) float64 ...\n",
       "    tide_Cphase         (tide_period, eta_rho, xi_rho) float64 ...\n",
       "    tide_Cangle         (tide_period, eta_rho, xi_rho) float64 ...\n",
       "    tide_Cmin           (tide_period, eta_rho, xi_rho) float64 ...\n",
       "    tide_Cmax           (tide_period, eta_rho, xi_rho) float64 ...\n",
       "    tidal_constituents  (string, tide_period) |S1 ...\n",
       "    tide_Pphase         (tide_period, eta_rho, xi_rho) float64 ...\n",
       "    tide_Pamp           (tide_period, eta_rho, xi_rho) float64 ...\n",
       "Attributes:\n",
       "    Type:       ROMS Tidal Forcing File\n",
       "    Title:      Forcing for WAOM10  domain\n",
       "    grid_file:  /home/ubuntu/bigStick/tidal_melting/data/preprocessing/proces...\n",
       "    Source:     OTPS-http://volkov.oce.orst.edu/tides/global.html\n",
       "    history:    Wed Feb 21 11:49:17 2018: ncrename -O -v tide_Eamp,tide_Pamp ..."
      ]
     },
     "execution_count": 31,
     "metadata": {},
     "output_type": "execute_result"
    }
   ],
   "source": [
    "lr_frc"
   ]
  },
  {
   "cell_type": "markdown",
   "metadata": {},
   "source": [
    "## Drop all varaibles, but include tide_period variable"
   ]
  },
  {
   "cell_type": "code",
   "execution_count": 39,
   "metadata": {},
   "outputs": [
    {
     "data": {
      "text/plain": [
       "<xarray.Dataset>\n",
       "Dimensions:      (tide_period: 13)\n",
       "Coordinates:\n",
       "  * tide_period  (tide_period) timedelta64[ns] 0 days 12:25:14.163600 ...\n",
       "Data variables:\n",
       "    *empty*\n",
       "Attributes:\n",
       "    Type:       ROMS Tidal Forcing File\n",
       "    Title:      Forcing for WAOM10  domain\n",
       "    grid_file:  /home/ubuntu/bigStick/tidal_melting/data/preprocessing/proces...\n",
       "    Source:     OTPS-http://volkov.oce.orst.edu/tides/global.html\n",
       "    history:    Wed Feb 21 11:49:17 2018: ncrename -O -v tide_Eamp,tide_Pamp ..."
      ]
     },
     "execution_count": 39,
     "metadata": {},
     "output_type": "execute_result"
    }
   ],
   "source": [
    "hr_frc = lr_frc.drop(lr_frc.variables)\n",
    "hr_frc.coords['tide_period'] = lr_frc.tide_period\n",
    "hr_frc"
   ]
  },
  {
   "cell_type": "markdown",
   "metadata": {},
   "source": [
    "## Resample phase and amplitude fields and add to high res tide file "
   ]
  },
  {
   "cell_type": "code",
   "execution_count": 40,
   "metadata": {},
   "outputs": [
    {
     "name": "stdout",
     "output_type": "stream",
     "text": [
      "set up empty hr data array\n",
      "Fill in the mask of lr data, resample to high resolution grid and fill hr mask with fill value:  0.0\n",
      "processing time:  0\n",
      "processing time:  1\n",
      "processing time:  2\n",
      "processing time:  3\n",
      "processing time:  4\n",
      "processing time:  5\n",
      "processing time:  6\n",
      "processing time:  7\n",
      "processing time:  8\n",
      "processing time:  9\n",
      "processing time:  10\n",
      "processing time:  11\n",
      "processing time:  12\n",
      "set up empty hr data array\n",
      "Fill in the mask of lr data, resample to high resolution grid and fill hr mask with fill value:  0.0\n",
      "processing time:  0\n",
      "processing time:  1\n",
      "processing time:  2\n",
      "processing time:  3\n",
      "processing time:  4\n",
      "processing time:  5\n",
      "processing time:  6\n",
      "processing time:  7\n",
      "processing time:  8\n",
      "processing time:  9\n",
      "processing time:  10\n",
      "processing time:  11\n",
      "processing time:  12\n"
     ]
    }
   ],
   "source": [
    "# interpolate 2D variables\n",
    "hr_frc['tide_Pamp'] = low_to_high_frc(lr_frc.tide_Pamp,lr_grd,hr_grd,'rho',lr_frc.tide_period);\n",
    "hr_frc['tide_Pphase'] = low_to_high_frc(lr_frc.tide_Pphase,lr_grd,hr_grd,'rho',lr_frc.tide_period);"
   ]
  },
  {
   "cell_type": "code",
   "execution_count": 43,
   "metadata": {},
   "outputs": [
    {
     "data": {
      "text/plain": [
       "<xarray.Dataset>\n",
       "Dimensions:      (eta_rho: 1460, tide_period: 13, xi_rho: 1720)\n",
       "Coordinates:\n",
       "  * tide_period  (tide_period) timedelta64[ns] 0 days 12:25:14.163600 ...\n",
       "  * eta_rho      (eta_rho) int64 0 1 2 3 4 5 6 7 8 9 10 11 12 13 14 15 16 17 ...\n",
       "  * xi_rho       (xi_rho) int64 0 1 2 3 4 5 6 7 8 9 10 11 12 13 14 15 16 17 ...\n",
       "Data variables:\n",
       "    tide_Pamp    (tide_period, eta_rho, xi_rho) float64 0.1337 0.1337 0.1337 ...\n",
       "    tide_Pphase  (tide_period, eta_rho, xi_rho) float64 190.2 190.2 190.2 ...\n",
       "Attributes:\n",
       "    Type:       ROMS Tidal Forcing File\n",
       "    Title:      Forcing for WAOM10  domain\n",
       "    grid_file:  /home/ubuntu/bigStick/tidal_melting/data/preprocessing/proces...\n",
       "    Source:     OTPS-http://volkov.oce.orst.edu/tides/global.html\n",
       "    history:    Wed Feb 21 11:49:17 2018: ncrename -O -v tide_Eamp,tide_Pamp ..."
      ]
     },
     "execution_count": 43,
     "metadata": {},
     "output_type": "execute_result"
    }
   ],
   "source": [
    "hr_frc"
   ]
  },
  {
   "cell_type": "markdown",
   "metadata": {},
   "source": [
    "## Write out high res tidal forcing file"
   ]
  },
  {
   "cell_type": "code",
   "execution_count": null,
   "metadata": {},
   "outputs": [],
   "source": [
    "hr_frc.to_netcdf(hr_frc_path,unlimited_dims='tide_period')"
   ]
  }
 ],
 "metadata": {
  "kernelspec": {
   "display_name": "Python 3",
   "language": "python",
   "name": "python3"
  },
  "language_info": {
   "codemirror_mode": {
    "name": "ipython",
    "version": 3
   },
   "file_extension": ".py",
   "mimetype": "text/x-python",
   "name": "python",
   "nbconvert_exporter": "python",
   "pygments_lexer": "ipython3",
   "version": "3.6.3"
  }
 },
 "nbformat": 4,
 "nbformat_minor": 2
}

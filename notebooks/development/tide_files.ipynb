{
 "cells": [
  {
   "cell_type": "code",
   "execution_count": 3,
   "metadata": {},
   "outputs": [],
   "source": [
    "# get environment variables\n",
    "import os\n",
    "from dotenv import load_dotenv, find_dotenv\n",
    "\n",
    "# find .env automagically by walking up directories until it's found\n",
    "dotenv_path = find_dotenv()\n",
    "\n",
    "# load up the entries as environment variables\n",
    "load_dotenv(dotenv_path)\n",
    "\n",
    "import sys\n",
    "sys.path.append(os.environ.get('srcdir'))\n",
    "\n",
    "import features.rotate_vector_roms"
   ]
  },
  {
   "cell_type": "code",
   "execution_count": 6,
   "metadata": {},
   "outputs": [
    {
     "data": {
      "text/plain": [
       "'/home/ubuntu/bigStick/tidal_melting/data/preprocessing/interim/waom10_tds.nc'"
      ]
     },
     "execution_count": 6,
     "metadata": {},
     "output_type": "execute_result"
    }
   ],
   "source": [
    "import xarray as xr\n",
    "tides_path = os.path.join(os.environ.get('intdir'),'waom10_tds.nc')\n",
    "tides_path"
   ]
  },
  {
   "cell_type": "code",
   "execution_count": 9,
   "metadata": {},
   "outputs": [
    {
     "data": {
      "text/plain": [
       "OrderedDict([('long_name', 'tidal current inclination angle'),\n",
       "             ('units', 'degrees between semi-major axis and East'),\n",
       "             ('field', 'tide_Cangle, scalar ')])"
      ]
     },
     "execution_count": 9,
     "metadata": {},
     "output_type": "execute_result"
    }
   ],
   "source": [
    "tides = xr.open_dataset(tides_path)\n",
    "tides.tide_Cangle.attrs"
   ]
  },
  {
   "cell_type": "code",
   "execution_count": null,
   "metadata": {},
   "outputs": [],
   "source": [
    "# %load ../../src/features/rotate_vector_roms.py\n",
    "from netCDF4 import Dataset\n",
    "from numpy import *\n",
    "\n",
    "# Given a 2D vector in x-y space on the ROMS grid (x component on the u-grid,\n",
    "# y component on the v-grid), interpolate them both to the rho-grid and rotate\n",
    "# the vector to lon-lat space.\n",
    "# Input:\n",
    "# u = x-component of vector on the ROMS u-grid\n",
    "# v = y-component of vector on the ROMS v-grid\n",
    "# angle = angle between the ROMS x-axis and east, at each point, in radians\n",
    "# Output:\n",
    "# u_lonlat, v_lonlat = components of the vector with respect to lon-lat space\n",
    "def rotate_vector_roms2NE (u, v, angle):\n",
    "\n",
    "    # Interpolate u to the rho-grid\n",
    "    w_bdry_u = u[:,0]\n",
    "    middle_u = 0.5*(u[:,0:-1] + u[:,1:])\n",
    "    e_bdry_u = u[:,-1]\n",
    "    u_rho = ma.concatenate((w_bdry_u[:,None], middle_u, e_bdry_u[:,None]), axis=1)\n",
    "    # Interplate v to the rho-grid\n",
    "    s_bdry_v = v[0,:]\n",
    "    middle_v = 0.5*(v[0:-1,:] + v[1:,:])\n",
    "    n_bdry_v = v[-1,:]\n",
    "    v_rho = ma.concatenate((s_bdry_v[None,:], middle_v, n_bdry_v[None,:]), axis=0)\n",
    "\n",
    "    # Rotate\n",
    "    uv = (u_rho+1j*v_rho)*exp(1j*angle)\n",
    "    u_lonlat = uv.real\n",
    "    v_lonlat = uv.imag\n",
    "\n",
    "    return u_lonlat, v_lonlat\n",
    "\n",
    "def rotate_vector_NE2roms (u, v, angle):\n",
    "\n",
    "    # Rotate\n",
    "    uv = (u_rho+1j*v_rho)*exp(1j*-angle)\n",
    "    u_lonlat = uv.real\n",
    "    v_lonlat = uv.imag\n",
    "\n",
    "    return u_roms, v_roms\n",
    "    \n"
   ]
  },
  {
   "cell_type": "code",
   "execution_count": null,
   "metadata": {},
   "outputs": [],
   "source": []
  }
 ],
 "metadata": {
  "kernelspec": {
   "display_name": "Python 3",
   "language": "python",
   "name": "python3"
  },
  "language_info": {
   "codemirror_mode": {
    "name": "ipython",
    "version": 3
   },
   "file_extension": ".py",
   "mimetype": "text/x-python",
   "name": "python",
   "nbconvert_exporter": "python",
   "pygments_lexer": "ipython3",
   "version": "3.6.3"
  }
 },
 "nbformat": 4,
 "nbformat_minor": 2
}

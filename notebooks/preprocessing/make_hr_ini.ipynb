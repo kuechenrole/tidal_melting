{
 "cells": [
  {
   "cell_type": "markdown",
   "metadata": {},
   "source": [
    "# Generate initial conditions file for high resolution experiment\n",
    "We want to initialize the high res run with the solution of the 10km rum. Therefore we have to map 2D and 3D velocities, SSH, salinity and temperature fields on the new grid.\n",
    "## Preparation of ini file\n",
    "Load high and low resolution grid, low resolution history and low resolution ini file. "
   ]
  },
  {
   "cell_type": "code",
   "execution_count": 2,
   "metadata": {
    "scrolled": true
   },
   "outputs": [],
   "source": [
    "# get environment variables\n",
    "import os\n",
    "import sys\n",
    "from pandas import datetime"
   ]
  },
  {
   "cell_type": "code",
   "execution_count": 7,
   "metadata": {
    "scrolled": true
   },
   "outputs": [],
   "source": [
    "import xarray as xr\n",
    "import matplotlib.pyplot as plt\n",
    "import numpy as np\n",
    "\n",
    "hr_grd_path = os.path.join(os.environ.get('rawdir'),'gdata','hr_exp','waom4_stable_grd.nc')\n",
    "hr_grd = xr.open_dataset(hr_grd_path)\n",
    "\n",
    "lr_grd_path = os.path.join(os.environ.get('rawdir'),'gdata','hr_exp','waom10_grd.nc')\n",
    "lr_grd = xr.open_dataset(lr_grd_path)\n",
    "\n",
    "lr_his_path =  os.path.join(os.environ.get(\"rawdir\"),'hre10','ocean_his_0004.nc')\n",
    "lr_his = xr.open_dataset(lr_his_path).isel(ocean_time=9)\n",
    "\n",
    "\n",
    "lr_ini_path = os.path.join(os.environ.get(\"prodir\"),'waom10_ini_dummy.nc')\n",
    "lr_ini = xr.open_dataset(lr_ini_path)\n",
    "\n",
    "out_path = os.path.join('/home/ubuntu/raijin/g/data2/gh9/oxr581/hr_exp','waom4_ini_stable.nc')\n",
    "#lr_ini"
   ]
  },
  {
   "cell_type": "code",
   "execution_count": 8,
   "metadata": {},
   "outputs": [
    {
     "name": "stderr",
     "output_type": "stream",
     "text": [
      "/home/ubuntu/bigStick/anaconda3/envs/tidal_melting/lib/python3.6/site-packages/pyresample/kd_tree.py:399: UserWarning: Possible more than 4 neighbours within 20000 m for some data points\n",
      "  (neighbours, radius_of_influence))\n"
     ]
    }
   ],
   "source": [
    "from pyresample import kd_tree, geometry, utils\n",
    "\n",
    "lr_def = {}\n",
    "hr_def= {}\n",
    "\n",
    "valid_input_index = {}\n",
    "valid_output_index = {}\n",
    "index_array = {}\n",
    "distance_array = {}\n",
    "\n",
    "for gt in ['rho','u','v']:\n",
    "\n",
    "    lr_def[gt] = geometry.SwathDefinition(lons=lr_grd['lon_'+gt].values,lats=lr_grd['lat_'+gt].values)\n",
    "    hr_def[gt] = geometry.SwathDefinition(lons=hr_grd['lon_'+gt].values,lats=hr_grd['lat_'+gt].values)\n",
    "\n",
    "    valid_input_index[gt], valid_output_index[gt], index_array[gt], distance_array[gt] = \\\n",
    "    kd_tree.get_neighbour_info(lr_def[gt],hr_def[gt], 20000,neighbours=4,nprocs=16)\n",
    "\n",
    "\n",
    "wf = lambda r: 1/r"
   ]
  },
  {
   "cell_type": "code",
   "execution_count": 9,
   "metadata": {},
   "outputs": [],
   "source": [
    "from scipy import interpolate\n",
    "import pyresample\n",
    "import xarray as xr\n",
    "import numpy as np\n",
    "\n",
    "\n",
    "def low_to_high(lr_da,lr_grd,hr_grd,gt,dim,fill_value=0.0):\n",
    "    \n",
    "    print('set up empty hr data array')\n",
    "    if dim == 2:\n",
    "    \n",
    "        dummy = np.zeros(hr_grd['lon_'+gt].shape)\n",
    "        x = hr_grd['xi_'+gt]\n",
    "        y = hr_grd['eta_'+gt]\n",
    "        hr_da = xr.DataArray(dummy,coords=[y,x],dims=['eta_'+gt,'xi_'+gt])\n",
    "        \n",
    "    elif dim == 3:\n",
    "        \n",
    "        N = lr_da.s_rho.size\n",
    "        dummy = np.tile(np.zeros(hr_grd['lon_'+gt].shape),(N,1,1))\n",
    "        x = hr_grd['xi_'+gt]\n",
    "        y = hr_grd['eta_'+gt]\n",
    "        z = lr_da['s_rho']\n",
    "        hr_da = xr.DataArray(dummy,coords=[z,y,x],dims=['s_rho','eta_'+gt,'xi_'+gt])\n",
    "    \n",
    "    \n",
    "    # Fill the mask of low resolution data with nearest neibghours and fill in known values on high res grid.\n",
    "    if dim == 2:\n",
    "        \n",
    "        print('Fill in the mask of lr data')\n",
    "        data = lr_da.values\n",
    "\n",
    "        valid_mask = ~np.isnan(data)\n",
    "        coords = np.array(np.nonzero(valid_mask)).T\n",
    "        values = data[valid_mask]\n",
    "\n",
    "        it = interpolate.NearestNDInterpolator(coords,values)\n",
    "\n",
    "        filled = it(list(np.ndindex(data.shape))).reshape(data.shape)\n",
    "        \n",
    "        print('Resample to high resolution grid')\n",
    "        hr_da[:,:] = kd_tree.get_sample_from_neighbour_info('custom', hr_def[gt].shape,filled,\\\n",
    "                                             valid_input_index[gt],\\\n",
    "                                             valid_output_index[gt],index_array[gt],distance_array[gt],wf)\n",
    "        \n",
    "        # Fill with zeros where mask is present\n",
    "        #print('fill hr mask areas with fill value: ',fill_value)\n",
    "        #hr_da.values[hr_grd['mask_'+gt].values == 0] = fill_value\n",
    "            \n",
    "    if dim == 3:\n",
    "        \n",
    "        print('Fill in the mask of lr data and resample to high resolution grid')\n",
    "        for k in np.arange(N):\n",
    "            \n",
    "            print('processing depth level: ',k)\n",
    "            data = lr_da[k].values\n",
    "\n",
    "            valid_mask = ~np.isnan(data)\n",
    "            coords = np.array(np.nonzero(valid_mask)).T\n",
    "            values = data[valid_mask]\n",
    "\n",
    "            it = interpolate.NearestNDInterpolator(coords,values)\n",
    "\n",
    "            filled = it(list(np.ndindex(data.shape))).reshape(data.shape)\n",
    "    \n",
    "            # Fill in known values on high res grid\n",
    "            hr_da[k] = kd_tree.get_sample_from_neighbour_info('custom', hr_def[gt].shape,filled,\\\n",
    "                                             valid_input_index[gt],\\\n",
    "                                             valid_output_index[gt],index_array[gt],distance_array[gt],wf)\n",
    "            \n",
    "            # Fill with zeros where mask is present\n",
    "            #print('fill hr mask areas with fill value: ',fill_value)\n",
    "            #hr_da[k].values[hr_grd['mask_'+gt].values == 0] = fill_value\n",
    "            \n",
    "    return hr_da"
   ]
  },
  {
   "cell_type": "code",
   "execution_count": 10,
   "metadata": {},
   "outputs": [],
   "source": [
    "hr_ini = lr_ini.drop(['u','v','ubar','vbar','salt','temp','zeta','ocean_time'])"
   ]
  },
  {
   "cell_type": "markdown",
   "metadata": {},
   "source": [
    "## Interpolate low resolution variables on high resolution grid"
   ]
  },
  {
   "cell_type": "markdown",
   "metadata": {},
   "source": [
    "### Function call for: zeta, ubar, vbar and u, v, temp, salt \n",
    "Get 2D and 3D high resolution data and assign to prepared ini file."
   ]
  },
  {
   "cell_type": "code",
   "execution_count": 11,
   "metadata": {
    "scrolled": true
   },
   "outputs": [
    {
     "name": "stdout",
     "output_type": "stream",
     "text": [
      "processing:  zeta\n",
      "set up empty hr data array\n",
      "Fill in the mask of lr data\n",
      "Resample to high resolution grid\n",
      "processing:  ubar\n",
      "set up empty hr data array\n",
      "Fill in the mask of lr data\n",
      "Resample to high resolution grid\n",
      "processing:  vbar\n",
      "set up empty hr data array\n",
      "Fill in the mask of lr data\n",
      "Resample to high resolution grid\n",
      "processing:  u\n",
      "set up empty hr data array\n",
      "Fill in the mask of lr data and resample to high resolution grid\n",
      "processing depth level:  0\n",
      "processing depth level:  1\n",
      "processing depth level:  2\n",
      "processing depth level:  3\n",
      "processing depth level:  4\n",
      "processing depth level:  5\n",
      "processing depth level:  6\n",
      "processing depth level:  7\n",
      "processing depth level:  8\n",
      "processing depth level:  9\n",
      "processing depth level:  10\n",
      "processing depth level:  11\n",
      "processing depth level:  12\n",
      "processing depth level:  13\n",
      "processing depth level:  14\n",
      "processing depth level:  15\n",
      "processing depth level:  16\n",
      "processing depth level:  17\n",
      "processing depth level:  18\n",
      "processing depth level:  19\n",
      "processing depth level:  20\n",
      "processing depth level:  21\n",
      "processing depth level:  22\n",
      "processing depth level:  23\n",
      "processing depth level:  24\n",
      "processing depth level:  25\n",
      "processing depth level:  26\n",
      "processing depth level:  27\n",
      "processing depth level:  28\n",
      "processing depth level:  29\n",
      "processing depth level:  30\n",
      "processing:  v\n",
      "set up empty hr data array\n",
      "Fill in the mask of lr data and resample to high resolution grid\n",
      "processing depth level:  0\n",
      "processing depth level:  1\n",
      "processing depth level:  2\n",
      "processing depth level:  3\n",
      "processing depth level:  4\n",
      "processing depth level:  5\n",
      "processing depth level:  6\n",
      "processing depth level:  7\n",
      "processing depth level:  8\n",
      "processing depth level:  9\n",
      "processing depth level:  10\n",
      "processing depth level:  11\n",
      "processing depth level:  12\n",
      "processing depth level:  13\n",
      "processing depth level:  14\n",
      "processing depth level:  15\n",
      "processing depth level:  16\n",
      "processing depth level:  17\n",
      "processing depth level:  18\n",
      "processing depth level:  19\n",
      "processing depth level:  20\n",
      "processing depth level:  21\n",
      "processing depth level:  22\n",
      "processing depth level:  23\n",
      "processing depth level:  24\n",
      "processing depth level:  25\n",
      "processing depth level:  26\n",
      "processing depth level:  27\n",
      "processing depth level:  28\n",
      "processing depth level:  29\n",
      "processing depth level:  30\n",
      "processing:  temp\n",
      "set up empty hr data array\n",
      "Fill in the mask of lr data and resample to high resolution grid\n",
      "processing depth level:  0\n",
      "processing depth level:  1\n",
      "processing depth level:  2\n",
      "processing depth level:  3\n",
      "processing depth level:  4\n",
      "processing depth level:  5\n",
      "processing depth level:  6\n",
      "processing depth level:  7\n",
      "processing depth level:  8\n",
      "processing depth level:  9\n",
      "processing depth level:  10\n",
      "processing depth level:  11\n",
      "processing depth level:  12\n",
      "processing depth level:  13\n",
      "processing depth level:  14\n",
      "processing depth level:  15\n",
      "processing depth level:  16\n",
      "processing depth level:  17\n",
      "processing depth level:  18\n",
      "processing depth level:  19\n",
      "processing depth level:  20\n",
      "processing depth level:  21\n",
      "processing depth level:  22\n",
      "processing depth level:  23\n",
      "processing depth level:  24\n",
      "processing depth level:  25\n",
      "processing depth level:  26\n",
      "processing depth level:  27\n",
      "processing depth level:  28\n",
      "processing depth level:  29\n",
      "processing depth level:  30\n",
      "processing:  salt\n",
      "set up empty hr data array\n",
      "Fill in the mask of lr data and resample to high resolution grid\n",
      "processing depth level:  0\n",
      "processing depth level:  1\n",
      "processing depth level:  2\n",
      "processing depth level:  3\n",
      "processing depth level:  4\n",
      "processing depth level:  5\n",
      "processing depth level:  6\n",
      "processing depth level:  7\n",
      "processing depth level:  8\n",
      "processing depth level:  9\n",
      "processing depth level:  10\n",
      "processing depth level:  11\n",
      "processing depth level:  12\n",
      "processing depth level:  13\n",
      "processing depth level:  14\n",
      "processing depth level:  15\n",
      "processing depth level:  16\n",
      "processing depth level:  17\n",
      "processing depth level:  18\n",
      "processing depth level:  19\n",
      "processing depth level:  20\n",
      "processing depth level:  21\n",
      "processing depth level:  22\n",
      "processing depth level:  23\n",
      "processing depth level:  24\n",
      "processing depth level:  25\n",
      "processing depth level:  26\n",
      "processing depth level:  27\n",
      "processing depth level:  28\n",
      "processing depth level:  29\n",
      "processing depth level:  30\n"
     ]
    }
   ],
   "source": [
    "for var,gt,dim in zip(['zeta','ubar','vbar','u','v','temp','salt'],\n",
    "                       ['rho','u','v','u','v','rho','rho'],\n",
    "                       [2,2,2,3,3,3,3]):\n",
    "    print('processing: ',var)\n",
    "    hr_ini[var] = low_to_high(lr_his[var],lr_grd,hr_grd,gt,dim)"
   ]
  },
  {
   "cell_type": "markdown",
   "metadata": {},
   "source": [
    "Assign time dimension to new data arrays with the ocean_time set to the one from the low resolution solution."
   ]
  },
  {
   "cell_type": "code",
   "execution_count": 12,
   "metadata": {
    "scrolled": true
   },
   "outputs": [],
   "source": [
    "#hr_ini = hr_ini.squeeze(dim='ocean_time',drop=True)\n",
    "#hr_ini = hr_ini.squeeze(dim='ocean_time',drop=True)\n",
    "#hr_ini.coords['ocean_time']=lr_his['ocean_time'].squeeze()\n",
    "hr_ini.coords['ocean_time'] = 252288000#157680000\n",
    "#hr_ini['ocean_time'] = pd.datetime(2010,12,31)\n",
    "for var in ['zeta','ubar','vbar','u','v','temp','salt']:\n",
    "    hr_ini[var] = hr_ini[var].expand_dims('ocean_time')\n",
    "    #hr_ini[var] = hr_ini[var].squeeze()\n",
    "#hr_ini['ocean_time']=lr_his.ocean_time"
   ]
  },
  {
   "cell_type": "markdown",
   "metadata": {},
   "source": [
    "### Save new ini file\n",
    "Compare high resolution and low resolution ini file for consistency and save as netcdf file making sure that ocean_time is saved as unlimited dimension."
   ]
  },
  {
   "cell_type": "code",
   "execution_count": 13,
   "metadata": {
    "scrolled": true
   },
   "outputs": [],
   "source": [
    "hr_ini.to_netcdf(out_path,unlimited_dims='ocean_time')"
   ]
  },
  {
   "cell_type": "raw",
   "metadata": {},
   "source": [
    "for var in ['zeta','ubar','vbar','u','v','temp','salt']:\n",
    "    print(hr_ini[var].isnull().any())"
   ]
  },
  {
   "cell_type": "raw",
   "metadata": {},
   "source": [
    "lr_his.ocean_time"
   ]
  },
  {
   "cell_type": "raw",
   "metadata": {},
   "source": [
    "## Big file approach"
   ]
  },
  {
   "cell_type": "raw",
   "metadata": {
    "scrolled": true
   },
   "source": [
    "import pandas as pd\n",
    "for var,grd,dim in zip(['zeta','ubar','vbar','u','v','temp','salt'],['rho','u','v','u','v','rho','rho'],[2,2,2,3,3,3,3]):\n",
    "    print(var,grd,dim)\n",
    "    hr_ini = lr_ini.drop(['u','v','ubar','vbar','salt','temp','zeta','ocean_time'])\n",
    "    hr_ini[var] = low_to_high(lr_his[var],lr_grd,hr_grd,grd,dim);\n",
    "    \n",
    "    hr_ini.coords['ocean_time'] = lr_his.ocean_time\n",
    "    hr_ini['ocean_time'] = pd.datetime(2015,12,30)\n",
    "    hr_ini[var] = hr_ini[var].expand_dims('ocean_time',0)\n",
    "    \n",
    "    hr_ini_path =  os.path.join('/home/ubuntu/raijin/g/data2/gh9/oxr581/waom1_v2.0_frc','waom1_ini_'+var+'.nc')\n",
    "    hr_ini.to_netcdf(hr_ini_path,unlimited_dims='ocean_time')"
   ]
  },
  {
   "cell_type": "raw",
   "metadata": {
    "scrolled": true
   },
   "source": [
    "import os\n",
    "import xarray as xr\n",
    "import glob\n",
    "\n",
    "# concatenate all monthly data into a single file\n",
    "file_paths = os.path.join(os.path.join(os.environ.get('rawdir'),'gdata','waom1_v2.0_frc','waom1_ini_*.nc'))\n",
    "for file in glob.glob(file_paths):\n",
    "    print('loading: '+file)\n",
    "\n",
    "ds = xr.open_mfdataset(file_paths)\n",
    "ds = ds.chunk({'eta_rho':100,'xi_rho':100,'xi_u':100,'eta_u':100,'xi_v':100,'eta_v':100})\n",
    "print(ds)\n",
    "out_path = os.path.join(os.environ.get('rawdir'),'gdata','waom1_v2.0_frc','waom1_ini.nc')\n",
    "\n",
    "print('and saving to '+out_path)\n",
    "ds.to_netcdf(out_path,unlimited_dims='ocean_time')"
   ]
  },
  {
   "cell_type": "raw",
   "metadata": {},
   "source": [
    "out_path = os.path.join('/home/ubuntu/raijin/g/data2/gh9/oxr581/waom4_frc','waom4_grd_test.nc')\n",
    "grd = xr.open_dataset(out_path)"
   ]
  },
  {
   "cell_type": "raw",
   "metadata": {},
   "source": [
    "plt.close()\n",
    "(grd.h+grd.zice).plot(size=10,vmin=0,vmax=0.2)\n",
    "plt.show()"
   ]
  },
  {
   "cell_type": "raw",
   "metadata": {
    "scrolled": false
   },
   "source": [
    "%matplotlib notebook\n",
    "bed = grd.h.values.copy()\n",
    "ice = grd.zice.values.copy()\n",
    "\n",
    "#set bed minimum depth to 10 cm\n",
    "bed[bed<0.1]= 0.1\n",
    "#set ice draft at these places to zero \n",
    "ice[bed<0.1] = 0.0\n",
    "\n",
    "#set water column thickness to a small positive value (ROMS don't like when bed = ice draft)\n",
    "wct = (bed+ice).copy()\n",
    "ice[wct<=0] = -bed[wct<=0] + 0.1\n",
    "\n",
    "plt.close()\n",
    "plt.pcolormesh(bed+ice,vmin=0,vmax=0.2)\n",
    "plt.colorbar()\n",
    "plt.show()\n",
    "#grd.h.values = bed\n",
    "#grd.zice.values = ice"
   ]
  },
  {
   "cell_type": "raw",
   "metadata": {},
   "source": [
    "mask = np.ones_like(bed) \n",
    "mask[(wct<20.0)]=0\n",
    "mask[grd.mask_rho==0]=0\n",
    "\n",
    "def uvp_masks(rmask):\n",
    "    '''\n",
    "    return u-, v-, and psi-masks based on input rho-mask\n",
    "    \n",
    "    Parameters\n",
    "    ----------\n",
    "    \n",
    "    rmask : ndarray\n",
    "        mask at CGrid rho-points\n",
    "    \n",
    "    Returns\n",
    "    -------\n",
    "    (umask, vmask, pmask) : ndarrays\n",
    "        masks at u-, v-, and psi-points\n",
    "    '''\n",
    "    rmask = np.asarray(rmask)\n",
    "    assert rmask.ndim == 2, 'rmask must be a 2D array'\n",
    "    assert np.all((rmask==0)|(rmask==1)), 'rmask array must contain only ones and zeros.'\n",
    "\n",
    "    umask = rmask[:, :-1] * rmask[:, 1:]\n",
    "    vmask = rmask[:-1, :] * rmask[1:, :]\n",
    "    pmask = rmask[:-1, :-1] * rmask[:-1, 1:] * rmask[1:, :-1] * rmask[1:, 1:]\n",
    "\n",
    "    return umask, vmask, pmask\n",
    "\n",
    "umask,vmask,pmask = uvp_masks(mask)"
   ]
  },
  {
   "cell_type": "raw",
   "metadata": {},
   "source": []
  },
  {
   "cell_type": "raw",
   "metadata": {},
   "source": [
    "grd['h'].values = bed.copy()\n",
    "grd['zice'].values = ice.copy()\n",
    "grd.mask_rho.values = mask\n",
    "grd.mask_u.values = umask\n",
    "grd.mask_v.values = vmask\n",
    "grd.mask_psi.values = pmask"
   ]
  },
  {
   "cell_type": "raw",
   "metadata": {},
   "source": [
    "plt.close()\n",
    "(grd.h+grd.zice).where(grd.mask_rho).plot(size=10,vmin=0,vmax=100)\n",
    "plt.show()"
   ]
  },
  {
   "cell_type": "raw",
   "metadata": {},
   "source": [
    "grd.to_netcdf(os.path.join(os.environ.get('prodir'),'waom4_grd_test.nc'))"
   ]
  },
  {
   "cell_type": "raw",
   "metadata": {},
   "source": [
    "grd = xr.open_dataset(out_path)\n",
    "plt.close()\n",
    "(grd.mask_rho).plot()\n",
    "plt.show()"
   ]
  },
  {
   "cell_type": "raw",
   "metadata": {
    "scrolled": true
   },
   "source": [
    "grd_smooth.to_netcdf(out_path,unlimited_dims='bathy')"
   ]
  }
 ],
 "metadata": {
  "kernelspec": {
   "display_name": "Python 3",
   "language": "python",
   "name": "python3"
  },
  "language_info": {
   "codemirror_mode": {
    "name": "ipython",
    "version": 3
   },
   "file_extension": ".py",
   "mimetype": "text/x-python",
   "name": "python",
   "nbconvert_exporter": "python",
   "pygments_lexer": "ipython3",
   "version": "3.6.3"
  }
 },
 "nbformat": 4,
 "nbformat_minor": 2
}

{
 "cells": [
  {
   "cell_type": "code",
   "execution_count": 112,
   "metadata": {},
   "outputs": [],
   "source": [
    "#run = os.environ.get('run')\n",
    "run ='waom2'\n",
    "\n",
    "#gauss_smooth = 10\n",
    "\n",
    "T_mask_path = os.path.join(os.environ.get('extdir'),'tamura','EASE_landmask_H.data')\n",
    "T_lat_lon_path = os.path.join(os.environ.get('extdir'),'tamura','latlon.data')\n",
    "era_path = os.path.join(os.environ.get('extdir'),'era_interim','ERA_Interim_1992_2011.2daily.*winds.nc')\n",
    "\n",
    "#out_dir = os.path('/home/ubuntu/raijin/g/data2/gh9/oxr581/waom1_frc')\n",
    "out_dir = os.environ.get('intdir')"
   ]
  },
  {
   "cell_type": "code",
   "execution_count": 113,
   "metadata": {
    "scrolled": true
   },
   "outputs": [
    {
     "name": "stdout",
     "output_type": "stream",
     "text": [
      "The autoreload extension is already loaded. To reload it, use:\n",
      "  %reload_ext autoreload\n"
     ]
    }
   ],
   "source": [
    "import numpy as np \n",
    "import os\n",
    "import sys\n",
    "import xarray as xr\n",
    "import scipy.io as sio\n",
    "import matplotlib.pyplot as plt\n",
    "import datetime\n",
    "\n",
    "from dotenv import load_dotenv, find_dotenv\n",
    "\n",
    "# find .env automagically by walking up directories until it's found\n",
    "dotenv_path = find_dotenv()\n",
    "load_dotenv(dotenv_path)\n",
    "src_dir = os.environ.get('srcdir')\n",
    "sys.path.append(src_dir)\n",
    "\n",
    "# always reload modules marked with \"%aimport\"\n",
    "%load_ext autoreload\n",
    "%autoreload 1\n",
    "\n",
    "from features.grid_ttide import NDinterp\n",
    "from features.log_progress import log_progress\n",
    "from scipy.ndimage.filters import gaussian_filter"
   ]
  },
  {
   "cell_type": "code",
   "execution_count": 114,
   "metadata": {},
   "outputs": [],
   "source": [
    "#read in tamura land mask\n",
    "\n",
    "with open(T_mask_path,'rb') as fid:\n",
    "    T_mask = np.fromfile(fid,count=(721*721),dtype='float32').reshape((721,721))\n",
    "    T_mask = np.flipud(T_mask)"
   ]
  },
  {
   "cell_type": "code",
   "execution_count": 115,
   "metadata": {},
   "outputs": [],
   "source": [
    "#get tamura lat lon coordinates\n",
    "\n",
    "with open(T_lat_lon_path,'rb') as fid:\n",
    "    T_lat_lon = np.fromfile(fid,count=(721*721*2),dtype='float32').reshape((2,721,721))\n",
    "T_lat,T_lon = (T_lat_lon[0],T_lat_lon[1])\n",
    "T_lat = np.flipud(T_lat)\n",
    "T_lon = np.flipud(T_lon)"
   ]
  },
  {
   "cell_type": "code",
   "execution_count": 116,
   "metadata": {},
   "outputs": [
    {
     "name": "stderr",
     "output_type": "stream",
     "text": [
      "/home/ubuntu/bigStick/anaconda3/envs/tidal_melting/lib/python3.6/site-packages/xarray/core/common.py:594: FutureWarning: pd.TimeGrouper is deprecated and will be removed; Please use pd.Grouper(freq=...)\n",
      "  label=label, base=base)\n"
     ]
    }
   ],
   "source": [
    "#read in era interim winds and resample from twice daily to daily\n",
    "\n",
    "era_ds = xr.open_mfdataset(era_path,data_vars='minimal').sel(time='2007',latitude=slice(-30,-90)).resample(time='D').mean()"
   ]
  },
  {
   "cell_type": "code",
   "execution_count": 117,
   "metadata": {},
   "outputs": [],
   "source": [
    "#get era coordinates\n",
    "era_lat = era_ds.latitude.values\n",
    "era_lon = era_ds.longitude.values\n",
    "era_lon[era_lon>180]-=360.0\n",
    "E_lon,E_lat = np.meshgrid(era_lon,era_lat)"
   ]
  },
  {
   "cell_type": "code",
   "execution_count": 118,
   "metadata": {},
   "outputs": [],
   "source": [
    "#get roms grid\n",
    "R_grid_path = os.path.join(os.environ.get('prodir'),run+'_grd.nc')\n",
    "R_grid = xr.open_dataset(R_grid_path)\n",
    "R_lon = R_grid.lon_rho.values\n",
    "R_lat = R_grid.lat_rho.values\n",
    "R_angle = R_grid.angle.values\n",
    "R_ulon = R_grid.lon_u.values\n",
    "R_vlon = R_grid.lon_v.values\n",
    "R_ulat = R_grid.lat_u.values\n",
    "R_vlat = R_grid.lat_v.values"
   ]
  },
  {
   "cell_type": "code",
   "execution_count": 119,
   "metadata": {},
   "outputs": [],
   "source": [
    "from scipy.interpolate import NearestNDInterpolator\n",
    "\n",
    "def NDinterp(data):\n",
    "\n",
    "    valid_mask = ~np.isnan(data)\n",
    "    coords = np.array(np.nonzero(valid_mask)).T\n",
    "    values = data[valid_mask]\n",
    "\n",
    "    it = NearestNDInterpolator(coords,values)\n",
    "\n",
    "    filled = it(list(np.ndindex(data.shape))).reshape(data.shape)\n",
    "\n",
    "    return filled"
   ]
  },
  {
   "cell_type": "code",
   "execution_count": 120,
   "metadata": {},
   "outputs": [
    {
     "name": "stderr",
     "output_type": "stream",
     "text": [
      "/home/ubuntu/bigStick/anaconda3/envs/tidal_melting/lib/python3.6/site-packages/pyresample/kd_tree.py:399: UserWarning: Possible more than 4 neighbours within 10000 m for some data points\n",
      "  (neighbours, radius_of_influence))\n",
      "/home/ubuntu/bigStick/anaconda3/envs/tidal_melting/lib/python3.6/site-packages/pyresample/kd_tree.py:399: UserWarning: Possible more than 32 neighbours within 500000 m for some data points\n",
      "  (neighbours, radius_of_influence))\n"
     ]
    }
   ],
   "source": [
    "from pyresample import kd_tree, geometry, utils\n",
    "\n",
    "E_lon, E_lat = utils.check_and_wrap(E_lon,E_lat)\n",
    "T_lon, T_lat = utils.check_and_wrap(T_lon,T_lat)\n",
    "\n",
    "T_def = geometry.SwathDefinition(lons=T_lon,lats=T_lat)\n",
    "E_def = geometry.SwathDefinition(lons=E_lon,lats=E_lat)\n",
    "R_def = geometry.SwathDefinition(lons=R_lon,lats=R_lat)\n",
    "RV_def = geometry.SwathDefinition(lons=R_vlon,lats=R_vlat)\n",
    "RU_def = geometry.SwathDefinition(lons=R_ulon,lats=R_ulat)\n",
    "\n",
    "valid_input_index_T2R, valid_output_index_T2R, index_array_T2R, distance_array_T2R = \\\n",
    "kd_tree.get_neighbour_info(T_def,R_def, 10000,neighbours=4,nprocs=16)\n",
    "\n",
    "wf_T2R = lambda r: 1/r\n",
    "\n",
    "valid_input_index_E2RU, valid_output_index_E2RU, index_array_E2RU, distance_array_E2RU = \\\n",
    "kd_tree.get_neighbour_info(E_def,RU_def, 500000,neighbours=32,nprocs=16)\n",
    "\n",
    "valid_input_index_E2RV, valid_output_index_E2RV, index_array_E2RV, distance_array_E2RV = \\\n",
    "kd_tree.get_neighbour_info(E_def,RV_def, 500000,neighbours=32,nprocs=16)\n",
    "\n",
    "sigma = 250000\n",
    "#wf_E2R = lambda r: 1/r\n",
    "wf_E2R = lambda r: np.exp(-r**2/sigma**2)"
   ]
  },
  {
   "cell_type": "code",
   "execution_count": 123,
   "metadata": {
    "scrolled": true
   },
   "outputs": [
    {
     "name": "stdout",
     "output_type": "stream",
     "text": [
      "Processing month:  jan with days:  31\n",
      "Containing days of year:  [ 1  2  3  4  5  6  7  8  9 10 11 12 13 14 15 16 17 18 19 20 21 22 23 24 25\n",
      " 26 27 28 29 30 31]\n"
     ]
    },
    {
     "data": {
      "application/vnd.jupyter.widget-view+json": {
       "model_id": "15e61e32b7254520a1e18f06ca8d3133",
       "version_major": 2,
       "version_minor": 0
      },
      "text/html": [
       "<p>Failed to display Jupyter Widget of type <code>VBox</code>.</p>\n",
       "<p>\n",
       "  If you're reading this message in the Jupyter Notebook or JupyterLab Notebook, it may mean\n",
       "  that the widgets JavaScript is still loading. If this message persists, it\n",
       "  likely means that the widgets JavaScript library is either not installed or\n",
       "  not enabled. See the <a href=\"https://ipywidgets.readthedocs.io/en/stable/user_install.html\">Jupyter\n",
       "  Widgets Documentation</a> for setup instructions.\n",
       "</p>\n",
       "<p>\n",
       "  If you're reading this message in another frontend (for example, a static\n",
       "  rendering on GitHub or <a href=\"https://nbviewer.jupyter.org/\">NBViewer</a>),\n",
       "  it may mean that your frontend doesn't currently support widgets.\n",
       "</p>\n"
      ],
      "text/plain": [
       "VBox(children=(HTML(value=''), IntProgress(value=0, max=31)))"
      ]
     },
     "metadata": {},
     "output_type": "display_data"
    },
    {
     "name": "stdout",
     "output_type": "stream",
     "text": [
      "Saving month to /home/ubuntu/bigStick/tidal_melting/data/preprocessing/interim/waom2_shflux_01.nc\n",
      "Saving month to /home/ubuntu/bigStick/tidal_melting/data/preprocessing/interim/waom2_swflux_01.nc\n",
      "Saving month to /home/ubuntu/bigStick/tidal_melting/data/preprocessing/interim/waom2_sustr_01.nc\n",
      "Saving month to /home/ubuntu/bigStick/tidal_melting/data/preprocessing/interim/waom2_svstr_01.nc\n",
      "Processing month:  feb with days:  28\n",
      "Containing days of year:  [32 33 34 35 36 37 38 39 40 41 42 43 44 45 46 47 48 49 50 51 52 53 54 55 56\n",
      " 57 58 59]\n"
     ]
    },
    {
     "data": {
      "application/vnd.jupyter.widget-view+json": {
       "model_id": "eac27984437f4756b1fe5b99810b7c23",
       "version_major": 2,
       "version_minor": 0
      },
      "text/html": [
       "<p>Failed to display Jupyter Widget of type <code>VBox</code>.</p>\n",
       "<p>\n",
       "  If you're reading this message in the Jupyter Notebook or JupyterLab Notebook, it may mean\n",
       "  that the widgets JavaScript is still loading. If this message persists, it\n",
       "  likely means that the widgets JavaScript library is either not installed or\n",
       "  not enabled. See the <a href=\"https://ipywidgets.readthedocs.io/en/stable/user_install.html\">Jupyter\n",
       "  Widgets Documentation</a> for setup instructions.\n",
       "</p>\n",
       "<p>\n",
       "  If you're reading this message in another frontend (for example, a static\n",
       "  rendering on GitHub or <a href=\"https://nbviewer.jupyter.org/\">NBViewer</a>),\n",
       "  it may mean that your frontend doesn't currently support widgets.\n",
       "</p>\n"
      ],
      "text/plain": [
       "VBox(children=(HTML(value=''), IntProgress(value=0, max=28)))"
      ]
     },
     "metadata": {},
     "output_type": "display_data"
    },
    {
     "name": "stdout",
     "output_type": "stream",
     "text": [
      "Saving month to /home/ubuntu/bigStick/tidal_melting/data/preprocessing/interim/waom2_shflux_02.nc\n",
      "Saving month to /home/ubuntu/bigStick/tidal_melting/data/preprocessing/interim/waom2_swflux_02.nc\n",
      "Saving month to /home/ubuntu/bigStick/tidal_melting/data/preprocessing/interim/waom2_sustr_02.nc\n",
      "Saving month to /home/ubuntu/bigStick/tidal_melting/data/preprocessing/interim/waom2_svstr_02.nc\n",
      "Processing month:  mar with days:  31\n",
      "Containing days of year:  [60 61 62 63 64 65 66 67 68 69 70 71 72 73 74 75 76 77 78 79 80 81 82 83 84\n",
      " 85 86 87 88 89 90]\n"
     ]
    },
    {
     "data": {
      "application/vnd.jupyter.widget-view+json": {
       "model_id": "e9b21f7918ba4087a72598828bed3fbe",
       "version_major": 2,
       "version_minor": 0
      },
      "text/html": [
       "<p>Failed to display Jupyter Widget of type <code>VBox</code>.</p>\n",
       "<p>\n",
       "  If you're reading this message in the Jupyter Notebook or JupyterLab Notebook, it may mean\n",
       "  that the widgets JavaScript is still loading. If this message persists, it\n",
       "  likely means that the widgets JavaScript library is either not installed or\n",
       "  not enabled. See the <a href=\"https://ipywidgets.readthedocs.io/en/stable/user_install.html\">Jupyter\n",
       "  Widgets Documentation</a> for setup instructions.\n",
       "</p>\n",
       "<p>\n",
       "  If you're reading this message in another frontend (for example, a static\n",
       "  rendering on GitHub or <a href=\"https://nbviewer.jupyter.org/\">NBViewer</a>),\n",
       "  it may mean that your frontend doesn't currently support widgets.\n",
       "</p>\n"
      ],
      "text/plain": [
       "VBox(children=(HTML(value=''), IntProgress(value=0, max=31)))"
      ]
     },
     "metadata": {},
     "output_type": "display_data"
    },
    {
     "name": "stdout",
     "output_type": "stream",
     "text": [
      "Saving month to /home/ubuntu/bigStick/tidal_melting/data/preprocessing/interim/waom2_shflux_03.nc\n",
      "Saving month to /home/ubuntu/bigStick/tidal_melting/data/preprocessing/interim/waom2_swflux_03.nc\n",
      "Saving month to /home/ubuntu/bigStick/tidal_melting/data/preprocessing/interim/waom2_sustr_03.nc\n",
      "Saving month to /home/ubuntu/bigStick/tidal_melting/data/preprocessing/interim/waom2_svstr_03.nc\n",
      "Processing month:  apr with days:  30\n",
      "Containing days of year:  [ 91  92  93  94  95  96  97  98  99 100 101 102 103 104 105 106 107 108\n",
      " 109 110 111 112 113 114 115 116 117 118 119 120]\n"
     ]
    },
    {
     "data": {
      "application/vnd.jupyter.widget-view+json": {
       "model_id": "4cc864630d234f50a25d372aa406b0db",
       "version_major": 2,
       "version_minor": 0
      },
      "text/html": [
       "<p>Failed to display Jupyter Widget of type <code>VBox</code>.</p>\n",
       "<p>\n",
       "  If you're reading this message in the Jupyter Notebook or JupyterLab Notebook, it may mean\n",
       "  that the widgets JavaScript is still loading. If this message persists, it\n",
       "  likely means that the widgets JavaScript library is either not installed or\n",
       "  not enabled. See the <a href=\"https://ipywidgets.readthedocs.io/en/stable/user_install.html\">Jupyter\n",
       "  Widgets Documentation</a> for setup instructions.\n",
       "</p>\n",
       "<p>\n",
       "  If you're reading this message in another frontend (for example, a static\n",
       "  rendering on GitHub or <a href=\"https://nbviewer.jupyter.org/\">NBViewer</a>),\n",
       "  it may mean that your frontend doesn't currently support widgets.\n",
       "</p>\n"
      ],
      "text/plain": [
       "VBox(children=(HTML(value=''), IntProgress(value=0, max=30)))"
      ]
     },
     "metadata": {},
     "output_type": "display_data"
    },
    {
     "name": "stdout",
     "output_type": "stream",
     "text": [
      "Saving month to /home/ubuntu/bigStick/tidal_melting/data/preprocessing/interim/waom2_shflux_04.nc\n",
      "Saving month to /home/ubuntu/bigStick/tidal_melting/data/preprocessing/interim/waom2_swflux_04.nc\n",
      "Saving month to /home/ubuntu/bigStick/tidal_melting/data/preprocessing/interim/waom2_sustr_04.nc\n",
      "Saving month to /home/ubuntu/bigStick/tidal_melting/data/preprocessing/interim/waom2_svstr_04.nc\n",
      "Processing month:  may with days:  31\n",
      "Containing days of year:  [121 122 123 124 125 126 127 128 129 130 131 132 133 134 135 136 137 138\n",
      " 139 140 141 142 143 144 145 146 147 148 149 150 151]\n"
     ]
    },
    {
     "data": {
      "application/vnd.jupyter.widget-view+json": {
       "model_id": "ac645f9aa9eb412ca0d7832c69c7e593",
       "version_major": 2,
       "version_minor": 0
      },
      "text/html": [
       "<p>Failed to display Jupyter Widget of type <code>VBox</code>.</p>\n",
       "<p>\n",
       "  If you're reading this message in the Jupyter Notebook or JupyterLab Notebook, it may mean\n",
       "  that the widgets JavaScript is still loading. If this message persists, it\n",
       "  likely means that the widgets JavaScript library is either not installed or\n",
       "  not enabled. See the <a href=\"https://ipywidgets.readthedocs.io/en/stable/user_install.html\">Jupyter\n",
       "  Widgets Documentation</a> for setup instructions.\n",
       "</p>\n",
       "<p>\n",
       "  If you're reading this message in another frontend (for example, a static\n",
       "  rendering on GitHub or <a href=\"https://nbviewer.jupyter.org/\">NBViewer</a>),\n",
       "  it may mean that your frontend doesn't currently support widgets.\n",
       "</p>\n"
      ],
      "text/plain": [
       "VBox(children=(HTML(value=''), IntProgress(value=0, max=31)))"
      ]
     },
     "metadata": {},
     "output_type": "display_data"
    },
    {
     "name": "stdout",
     "output_type": "stream",
     "text": [
      "Saving month to /home/ubuntu/bigStick/tidal_melting/data/preprocessing/interim/waom2_shflux_05.nc\n",
      "Saving month to /home/ubuntu/bigStick/tidal_melting/data/preprocessing/interim/waom2_swflux_05.nc\n",
      "Saving month to /home/ubuntu/bigStick/tidal_melting/data/preprocessing/interim/waom2_sustr_05.nc\n",
      "Saving month to /home/ubuntu/bigStick/tidal_melting/data/preprocessing/interim/waom2_svstr_05.nc\n",
      "Processing month:  jun with days:  30\n",
      "Containing days of year:  [152 153 154 155 156 157 158 159 160 161 162 163 164 165 166 167 168 169\n",
      " 170 171 172 173 174 175 176 177 178 179 180 181]\n"
     ]
    },
    {
     "data": {
      "application/vnd.jupyter.widget-view+json": {
       "model_id": "38f76379662a4398a50da94809bd5c50",
       "version_major": 2,
       "version_minor": 0
      },
      "text/html": [
       "<p>Failed to display Jupyter Widget of type <code>VBox</code>.</p>\n",
       "<p>\n",
       "  If you're reading this message in the Jupyter Notebook or JupyterLab Notebook, it may mean\n",
       "  that the widgets JavaScript is still loading. If this message persists, it\n",
       "  likely means that the widgets JavaScript library is either not installed or\n",
       "  not enabled. See the <a href=\"https://ipywidgets.readthedocs.io/en/stable/user_install.html\">Jupyter\n",
       "  Widgets Documentation</a> for setup instructions.\n",
       "</p>\n",
       "<p>\n",
       "  If you're reading this message in another frontend (for example, a static\n",
       "  rendering on GitHub or <a href=\"https://nbviewer.jupyter.org/\">NBViewer</a>),\n",
       "  it may mean that your frontend doesn't currently support widgets.\n",
       "</p>\n"
      ],
      "text/plain": [
       "VBox(children=(HTML(value=''), IntProgress(value=0, max=30)))"
      ]
     },
     "metadata": {},
     "output_type": "display_data"
    },
    {
     "name": "stdout",
     "output_type": "stream",
     "text": [
      "Saving month to /home/ubuntu/bigStick/tidal_melting/data/preprocessing/interim/waom2_shflux_06.nc\n",
      "Saving month to /home/ubuntu/bigStick/tidal_melting/data/preprocessing/interim/waom2_swflux_06.nc\n",
      "Saving month to /home/ubuntu/bigStick/tidal_melting/data/preprocessing/interim/waom2_sustr_06.nc\n",
      "Saving month to /home/ubuntu/bigStick/tidal_melting/data/preprocessing/interim/waom2_svstr_06.nc\n",
      "Processing month:  jul with days:  31\n",
      "Containing days of year:  [182 183 184 185 186 187 188 189 190 191 192 193 194 195 196 197 198 199\n",
      " 200 201 202 203 204 205 206 207 208 209 210 211 212]\n"
     ]
    },
    {
     "data": {
      "application/vnd.jupyter.widget-view+json": {
       "model_id": "ee87284613704eb780e0c142f294f371",
       "version_major": 2,
       "version_minor": 0
      },
      "text/html": [
       "<p>Failed to display Jupyter Widget of type <code>VBox</code>.</p>\n",
       "<p>\n",
       "  If you're reading this message in the Jupyter Notebook or JupyterLab Notebook, it may mean\n",
       "  that the widgets JavaScript is still loading. If this message persists, it\n",
       "  likely means that the widgets JavaScript library is either not installed or\n",
       "  not enabled. See the <a href=\"https://ipywidgets.readthedocs.io/en/stable/user_install.html\">Jupyter\n",
       "  Widgets Documentation</a> for setup instructions.\n",
       "</p>\n",
       "<p>\n",
       "  If you're reading this message in another frontend (for example, a static\n",
       "  rendering on GitHub or <a href=\"https://nbviewer.jupyter.org/\">NBViewer</a>),\n",
       "  it may mean that your frontend doesn't currently support widgets.\n",
       "</p>\n"
      ],
      "text/plain": [
       "VBox(children=(HTML(value=''), IntProgress(value=0, max=31)))"
      ]
     },
     "metadata": {},
     "output_type": "display_data"
    },
    {
     "name": "stdout",
     "output_type": "stream",
     "text": [
      "Saving month to /home/ubuntu/bigStick/tidal_melting/data/preprocessing/interim/waom2_shflux_07.nc\n",
      "Saving month to /home/ubuntu/bigStick/tidal_melting/data/preprocessing/interim/waom2_swflux_07.nc\n",
      "Saving month to /home/ubuntu/bigStick/tidal_melting/data/preprocessing/interim/waom2_sustr_07.nc\n",
      "Saving month to /home/ubuntu/bigStick/tidal_melting/data/preprocessing/interim/waom2_svstr_07.nc\n",
      "Processing month:  aug with days:  31\n",
      "Containing days of year:  [213 214 215 216 217 218 219 220 221 222 223 224 225 226 227 228 229 230\n",
      " 231 232 233 234 235 236 237 238 239 240 241 242 243]\n"
     ]
    },
    {
     "data": {
      "application/vnd.jupyter.widget-view+json": {
       "model_id": "35853d019b6641078b50b0235c76e1f9",
       "version_major": 2,
       "version_minor": 0
      },
      "text/html": [
       "<p>Failed to display Jupyter Widget of type <code>VBox</code>.</p>\n",
       "<p>\n",
       "  If you're reading this message in the Jupyter Notebook or JupyterLab Notebook, it may mean\n",
       "  that the widgets JavaScript is still loading. If this message persists, it\n",
       "  likely means that the widgets JavaScript library is either not installed or\n",
       "  not enabled. See the <a href=\"https://ipywidgets.readthedocs.io/en/stable/user_install.html\">Jupyter\n",
       "  Widgets Documentation</a> for setup instructions.\n",
       "</p>\n",
       "<p>\n",
       "  If you're reading this message in another frontend (for example, a static\n",
       "  rendering on GitHub or <a href=\"https://nbviewer.jupyter.org/\">NBViewer</a>),\n",
       "  it may mean that your frontend doesn't currently support widgets.\n",
       "</p>\n"
      ],
      "text/plain": [
       "VBox(children=(HTML(value=''), IntProgress(value=0, max=31)))"
      ]
     },
     "metadata": {},
     "output_type": "display_data"
    },
    {
     "name": "stdout",
     "output_type": "stream",
     "text": [
      "Saving month to /home/ubuntu/bigStick/tidal_melting/data/preprocessing/interim/waom2_shflux_08.nc\n",
      "Saving month to /home/ubuntu/bigStick/tidal_melting/data/preprocessing/interim/waom2_swflux_08.nc\n",
      "Saving month to /home/ubuntu/bigStick/tidal_melting/data/preprocessing/interim/waom2_sustr_08.nc\n",
      "Saving month to /home/ubuntu/bigStick/tidal_melting/data/preprocessing/interim/waom2_svstr_08.nc\n",
      "Processing month:  sep with days:  30\n",
      "Containing days of year:  [244 245 246 247 248 249 250 251 252 253 254 255 256 257 258 259 260 261\n",
      " 262 263 264 265 266 267 268 269 270 271 272 273]\n"
     ]
    },
    {
     "data": {
      "application/vnd.jupyter.widget-view+json": {
       "model_id": "3d338e9e776144ff9ffe296bf359f609",
       "version_major": 2,
       "version_minor": 0
      },
      "text/html": [
       "<p>Failed to display Jupyter Widget of type <code>VBox</code>.</p>\n",
       "<p>\n",
       "  If you're reading this message in the Jupyter Notebook or JupyterLab Notebook, it may mean\n",
       "  that the widgets JavaScript is still loading. If this message persists, it\n",
       "  likely means that the widgets JavaScript library is either not installed or\n",
       "  not enabled. See the <a href=\"https://ipywidgets.readthedocs.io/en/stable/user_install.html\">Jupyter\n",
       "  Widgets Documentation</a> for setup instructions.\n",
       "</p>\n",
       "<p>\n",
       "  If you're reading this message in another frontend (for example, a static\n",
       "  rendering on GitHub or <a href=\"https://nbviewer.jupyter.org/\">NBViewer</a>),\n",
       "  it may mean that your frontend doesn't currently support widgets.\n",
       "</p>\n"
      ],
      "text/plain": [
       "VBox(children=(HTML(value=''), IntProgress(value=0, max=30)))"
      ]
     },
     "metadata": {},
     "output_type": "display_data"
    },
    {
     "name": "stdout",
     "output_type": "stream",
     "text": [
      "Saving month to /home/ubuntu/bigStick/tidal_melting/data/preprocessing/interim/waom2_shflux_09.nc\n",
      "Saving month to /home/ubuntu/bigStick/tidal_melting/data/preprocessing/interim/waom2_swflux_09.nc\n",
      "Saving month to /home/ubuntu/bigStick/tidal_melting/data/preprocessing/interim/waom2_sustr_09.nc\n",
      "Saving month to /home/ubuntu/bigStick/tidal_melting/data/preprocessing/interim/waom2_svstr_09.nc\n",
      "Processing month:  oct with days:  31\n",
      "Containing days of year:  [274 275 276 277 278 279 280 281 282 283 284 285 286 287 288 289 290 291\n",
      " 292 293 294 295 296 297 298 299 300 301 302 303 304]\n"
     ]
    },
    {
     "data": {
      "application/vnd.jupyter.widget-view+json": {
       "model_id": "0a506863ef8244ae8eef39d8f5a65f16",
       "version_major": 2,
       "version_minor": 0
      },
      "text/html": [
       "<p>Failed to display Jupyter Widget of type <code>VBox</code>.</p>\n",
       "<p>\n",
       "  If you're reading this message in the Jupyter Notebook or JupyterLab Notebook, it may mean\n",
       "  that the widgets JavaScript is still loading. If this message persists, it\n",
       "  likely means that the widgets JavaScript library is either not installed or\n",
       "  not enabled. See the <a href=\"https://ipywidgets.readthedocs.io/en/stable/user_install.html\">Jupyter\n",
       "  Widgets Documentation</a> for setup instructions.\n",
       "</p>\n",
       "<p>\n",
       "  If you're reading this message in another frontend (for example, a static\n",
       "  rendering on GitHub or <a href=\"https://nbviewer.jupyter.org/\">NBViewer</a>),\n",
       "  it may mean that your frontend doesn't currently support widgets.\n",
       "</p>\n"
      ],
      "text/plain": [
       "VBox(children=(HTML(value=''), IntProgress(value=0, max=31)))"
      ]
     },
     "metadata": {},
     "output_type": "display_data"
    },
    {
     "name": "stdout",
     "output_type": "stream",
     "text": [
      "Saving month to /home/ubuntu/bigStick/tidal_melting/data/preprocessing/interim/waom2_shflux_10.nc\n",
      "Saving month to /home/ubuntu/bigStick/tidal_melting/data/preprocessing/interim/waom2_swflux_10.nc\n",
      "Saving month to /home/ubuntu/bigStick/tidal_melting/data/preprocessing/interim/waom2_sustr_10.nc\n",
      "Saving month to /home/ubuntu/bigStick/tidal_melting/data/preprocessing/interim/waom2_svstr_10.nc\n",
      "Processing month:  nov with days:  30\n",
      "Containing days of year:  [305 306 307 308 309 310 311 312 313 314 315 316 317 318 319 320 321 322\n",
      " 323 324 325 326 327 328 329 330 331 332 333 334]\n"
     ]
    },
    {
     "data": {
      "application/vnd.jupyter.widget-view+json": {
       "model_id": "e3302d7ee5f54ce39bafd9beb3ff8d2a",
       "version_major": 2,
       "version_minor": 0
      },
      "text/html": [
       "<p>Failed to display Jupyter Widget of type <code>VBox</code>.</p>\n",
       "<p>\n",
       "  If you're reading this message in the Jupyter Notebook or JupyterLab Notebook, it may mean\n",
       "  that the widgets JavaScript is still loading. If this message persists, it\n",
       "  likely means that the widgets JavaScript library is either not installed or\n",
       "  not enabled. See the <a href=\"https://ipywidgets.readthedocs.io/en/stable/user_install.html\">Jupyter\n",
       "  Widgets Documentation</a> for setup instructions.\n",
       "</p>\n",
       "<p>\n",
       "  If you're reading this message in another frontend (for example, a static\n",
       "  rendering on GitHub or <a href=\"https://nbviewer.jupyter.org/\">NBViewer</a>),\n",
       "  it may mean that your frontend doesn't currently support widgets.\n",
       "</p>\n"
      ],
      "text/plain": [
       "VBox(children=(HTML(value=''), IntProgress(value=0, max=30)))"
      ]
     },
     "metadata": {},
     "output_type": "display_data"
    },
    {
     "name": "stdout",
     "output_type": "stream",
     "text": [
      "Saving month to /home/ubuntu/bigStick/tidal_melting/data/preprocessing/interim/waom2_shflux_11.nc\n",
      "Saving month to /home/ubuntu/bigStick/tidal_melting/data/preprocessing/interim/waom2_swflux_11.nc\n",
      "Saving month to /home/ubuntu/bigStick/tidal_melting/data/preprocessing/interim/waom2_sustr_11.nc\n",
      "Saving month to /home/ubuntu/bigStick/tidal_melting/data/preprocessing/interim/waom2_svstr_11.nc\n",
      "Processing month:  dec with days:  31\n",
      "Containing days of year:  [335 336 337 338 339 340 341 342 343 344 345 346 347 348 349 350 351 352\n",
      " 353 354 355 356 357 358 359 360 361 362 363 364 365]\n"
     ]
    },
    {
     "data": {
      "application/vnd.jupyter.widget-view+json": {
       "model_id": "d8f80caf5f6746f9b6e06a7130c73964",
       "version_major": 2,
       "version_minor": 0
      },
      "text/html": [
       "<p>Failed to display Jupyter Widget of type <code>VBox</code>.</p>\n",
       "<p>\n",
       "  If you're reading this message in the Jupyter Notebook or JupyterLab Notebook, it may mean\n",
       "  that the widgets JavaScript is still loading. If this message persists, it\n",
       "  likely means that the widgets JavaScript library is either not installed or\n",
       "  not enabled. See the <a href=\"https://ipywidgets.readthedocs.io/en/stable/user_install.html\">Jupyter\n",
       "  Widgets Documentation</a> for setup instructions.\n",
       "</p>\n",
       "<p>\n",
       "  If you're reading this message in another frontend (for example, a static\n",
       "  rendering on GitHub or <a href=\"https://nbviewer.jupyter.org/\">NBViewer</a>),\n",
       "  it may mean that your frontend doesn't currently support widgets.\n",
       "</p>\n"
      ],
      "text/plain": [
       "VBox(children=(HTML(value=''), IntProgress(value=0, max=31)))"
      ]
     },
     "metadata": {},
     "output_type": "display_data"
    },
    {
     "name": "stdout",
     "output_type": "stream",
     "text": [
      "Saving month to /home/ubuntu/bigStick/tidal_melting/data/preprocessing/interim/waom2_shflux_12.nc\n",
      "Saving month to /home/ubuntu/bigStick/tidal_melting/data/preprocessing/interim/waom2_swflux_12.nc\n",
      "Saving month to /home/ubuntu/bigStick/tidal_melting/data/preprocessing/interim/waom2_sustr_12.nc\n",
      "Saving month to /home/ubuntu/bigStick/tidal_melting/data/preprocessing/interim/waom2_svstr_12.nc\n"
     ]
    }
   ],
   "source": [
    "month = ['jan','feb','mar','apr','may','jun','jul','aug','sep','oct','nov','dec']\n",
    "month_nb = ['01','02','03','04','05','06','07','08','09','10','11','12']\n",
    "daysPerMonth = [31,28,31,30,31,30,31,31,30,31,30,31]\n",
    "\n",
    "#month = ['nov']\n",
    "#month_nb = ['11']\n",
    "#daysPerMonth = [30]\n",
    "\n",
    "#month = ['jan']\n",
    "#\n",
    "#daysPerMonth = [1]\n",
    "\n",
    "dayOfYear = 1\n",
    "\n",
    "for month,days,month_nb in zip(month,daysPerMonth,month_nb):\n",
    "    \n",
    "    print('Processing month: ',month,'with days: ',days)\n",
    "    \n",
    "    daysOfYear = np.arange(dayOfYear,dayOfYear+days,dtype=int)\n",
    "    \n",
    "    print('Containing days of year: ',daysOfYear)\n",
    "\n",
    "    # preparing empty dataset\n",
    "    ds = xr.Dataset({'shflux':(['shf_time','eta_rho','xi_rho'], np.empty((days,R_grid.eta_rho.size,R_grid.xi_rho.size))),\n",
    "                     'swflux':(['swf_time','eta_rho','xi_rho'], np.empty((days,R_grid.eta_rho.size,R_grid.xi_rho.size))),\n",
    "                     'sustr':(['sms_time','eta_u','xi_u'], np.empty((days,R_grid.eta_u.size,R_grid.xi_u.size))),\n",
    "                     'svstr':(['sms_time','eta_v','xi_v'], np.empty((days,R_grid.eta_v.size,R_grid.xi_v.size)))},\n",
    "                   coords={'shf_time':(['shf_time'],daysOfYear),\n",
    "                           'swf_time':(['swf_time'],daysOfYear),\n",
    "                           'sms_time':(['sms_time'],daysOfYear)})\n",
    "   \n",
    "    #open Tamura month flux data \n",
    "    T_data_path = os.path.join(os.environ.get('extdir'),'tamura','TSDM2hb_2007_'+month+'.data')\n",
    "    with open(T_data_path,'rb') as fid:\n",
    "        T_data = np.swapaxes(np.fromfile(fid,count = days*6*721*721 ,dtype='float32').reshape(days,6,721,721),0,1)\n",
    "    \n",
    "    #looping over the days with running day-of-the-year and day-of-the-month index\n",
    "    for Eidx,Tidx in zip(log_progress(daysOfYear-1,name='days'),np.arange(days)):\n",
    "        \n",
    "        #read in Tamura heat and fresh water flux and turn in right position\n",
    "        shflux_tmp = np.flipud(T_data[0,Tidx])\n",
    "        ssflux_tmp = np.flipud(T_data[2,Tidx])\n",
    "        \n",
    "        #fill in tamuar mask for later resampling\n",
    "        shflux_tmp[T_mask==0] = np.nan\n",
    "        shflux_tmp = NDinterp(shflux_tmp)\n",
    "        \n",
    "        ssflux_tmp[T_mask==0] = np.nan\n",
    "        ssflux_tmp = NDinterp(ssflux_tmp)\n",
    "\n",
    "        #resample to roms grid points\n",
    "        shflux_tmp = kd_tree.get_sample_from_neighbour_info('custom', R_def.shape, shflux_tmp,\\\n",
    "                                             valid_input_index_T2R,\\\n",
    "                                             valid_output_index_T2R,index_array_T2R,distance_array_T2R,wf_T2R)\n",
    "\n",
    "        ssflux_tmp = kd_tree.get_sample_from_neighbour_info('custom', R_def.shape, ssflux_tmp,\\\n",
    "                                             valid_input_index_T2R,\\\n",
    "                                             valid_output_index_T2R,index_array_T2R,distance_array_T2R,wf_T2R)\n",
    "        \n",
    "        #correct large summer heat flux values and save to dataset\n",
    "        shflux_tmp[shflux_tmp > 0.0]*=0.5\n",
    "        \n",
    "        ds.shflux[Tidx] = shflux_tmp\n",
    "        del shflux_tmp\n",
    "        \n",
    "        #convert to freshwater flux with convention positive up 'swf (E-P)',\n",
    "        #that means a positive freshwater flux value results in positive salt flux value\n",
    "        #and save to dataset\n",
    "        refSalt = 34.4\n",
    "\n",
    "        ds.swflux[Tidx] = ssflux_tmp/refSalt*100\n",
    "        del ssflux_tmp\n",
    "        \n",
    "        #select era-interim winds\n",
    "        uwnd = era_ds.u10[Eidx].values\n",
    "        vwnd = era_ds.v10[Eidx].values\n",
    "        \n",
    "        #rotate wind directions to roms grid\n",
    "        uv = (uwnd+1j*vwnd)*np.exp(1j*-(E_lon/180*np.pi))\n",
    "        uwnd = uv.real\n",
    "        vwnd = uv.imag\n",
    "\n",
    "        #resample to roms u and v grid and save to dataset\n",
    "        uwnd = kd_tree.get_sample_from_neighbour_info('custom', RU_def.shape, uwnd,\\\n",
    "                                             valid_input_index_E2RU,\\\n",
    "                                             valid_output_index_E2RU,index_array_E2RU,\n",
    "                                                      distance_array_E2RU,wf_E2R,fill_value=None)\n",
    "        \n",
    "        vwnd = kd_tree.get_sample_from_neighbour_info('custom', RV_def.shape, vwnd,\\\n",
    "                                             valid_input_index_E2RV,\\\n",
    "                                             valid_output_index_E2RV,index_array_E2RV,\n",
    "                                                      distance_array_E2RV,wf_E2R,fill_value=None)\n",
    "        \n",
    "        #uwnd = kd_tree.get_sample_from_neighbour_info('nn', RU_def.shape, uwnd,\\\n",
    "        #                                     valid_input_index_E2RU,\\\n",
    "        #                                     valid_output_index_E2RU,index_array_E2RU)\n",
    "        \n",
    "        #vwnd = kd_tree.get_sample_from_neighbour_info('nn', RV_def.shape, vwnd,\\\n",
    "        #                                     valid_input_index_E2RV,\\\n",
    "        #                                     valid_output_index_E2RV,index_array_E2RV)\n",
    "        \n",
    "        \n",
    "        \n",
    "        \n",
    "        #convert to stress\n",
    "        signu = np.sign(uwnd)\n",
    "        signv = np.sign(vwnd)\n",
    "\n",
    "        rhoAir = 1.3\n",
    "        Cd = 1.4e-3\n",
    "\n",
    "        taux = rhoAir*Cd*np.square(uwnd)*signu\n",
    "        tauy = rhoAir*Cd*np.square(vwnd)*signv\n",
    "        del uwnd, vwnd\n",
    "        \n",
    "        \n",
    "        #smooth with gaussian filter and put in dataset\n",
    "        #taux_smooth= gaussian_filter(taux,gauss_smooth)\n",
    "        #tauy_smooth= gaussian_filter(tauy,gauss_smooth)\n",
    "        \n",
    "        #fac = taux.max()/taux_smooth.max()\n",
    "        \n",
    "        ds.sustr[Tidx]= taux#taux_smooth*fac\n",
    "        ds.svstr[Tidx]= tauy#tauy_smooth*fac\n",
    "        \n",
    "        \n",
    "        del taux, tauy\n",
    "        \n",
    "    #add attributes to data set and data arrays\n",
    "    ds.attrs={'title':'waom surface heat/fresh water fluxes and wind stress',\n",
    "                          'date':str(datetime.date.today()),\n",
    "                          'tamura_file':T_data_path,\n",
    "                          'era-interim file':era_path,\n",
    "                          'grid file':R_grid_path,\n",
    "                          'type':'ROMS forcing file'}\n",
    "    ds.shflux.attrs = {'long_name': 'surface net heat flux', 'units': 'Watts meter-2'}\n",
    "    ds.swflux.attrs = {'long_name': 'surface freshwater flux (E-P)',\n",
    "                       'negative': 'net precipitation',\n",
    "                       'positive': 'net evaporation',\n",
    "                       'units': 'centimetre day-1'}\n",
    "    ds.sustr.attrs = {'long_name': 'surface u-momentum stress', 'units': 'Newton meter-2'}\n",
    "    ds.svstr.attrs = {'long_name': 'surface u-momentum stress', 'units': 'Newton meter-2'}\n",
    "    ds.sms_time.attrs = {'cycle_length': days,'long_name': 'surface momentum stress time','units': 'day'}\n",
    "    ds.shf_time.attrs = {'cycle_length': days, 'long_name': 'surface heat flux time', 'units': 'day'}\n",
    "    ds.swf_time.attrs = {'cycle_length': days,'long_name': 'surface freshwater flux time','units': 'day'}\n",
    "    \n",
    "    #save month as netcdf files\n",
    "    for var,dim in zip(['shflux','swflux','sustr','svstr'],['shf_time','swf_time','sms_time','sms_time']):\n",
    "        out_path = os.path.join(out_dir,run+'_'+var+'_'+month_nb+'.nc')\n",
    "        print(\"Saving month to \"+out_path)\n",
    "        ds[var].to_netcdf(out_path,'w',unlimited_dims=dim)\n",
    "    del ds\n",
    "    \n",
    "    #update the day of the year value for next month\n",
    "    dayOfYear += days"
   ]
  },
  {
   "cell_type": "code",
   "execution_count": 124,
   "metadata": {
    "scrolled": true
   },
   "outputs": [],
   "source": [
    "for var,dim in zip(['shflux','swflux','sustr','svstr'],['shf_time','swf_time','sms_time','sms_time']):\n",
    "    ds = xr.open_mfdataset(os.path.join(out_dir,run+'_'+var+'_??.nc'))\n",
    "    ds[dim]\n",
    "    ds[dim].attrs['cycle_length'] = float(365)\n",
    "    out_path = os.path.join(os.environ.get('prodir'),run+'_'+var+'.nc')\n",
    "    ds.to_netcdf(out_path,'w')"
   ]
  },
  {
   "cell_type": "code",
   "execution_count": null,
   "metadata": {},
   "outputs": [],
   "source": []
  }
 ],
 "metadata": {
  "kernelspec": {
   "display_name": "Python 3",
   "language": "python",
   "name": "python3"
  },
  "language_info": {
   "codemirror_mode": {
    "name": "ipython",
    "version": 3
   },
   "file_extension": ".py",
   "mimetype": "text/x-python",
   "name": "python",
   "nbconvert_exporter": "python",
   "pygments_lexer": "ipython3",
   "version": "3.6.3"
  }
 },
 "nbformat": 4,
 "nbformat_minor": 2
}

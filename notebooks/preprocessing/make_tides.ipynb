{
 "cells": [
  {
   "cell_type": "code",
   "execution_count": 1,
   "metadata": {},
   "outputs": [],
   "source": [
    "import numpy as np \n",
    "import os\n",
    "import sys\n",
    "import xarray as xr\n",
    "import matplotlib.pyplot as plt\n",
    "from scipy.ndimage.filters import gaussian_filter\n",
    "from pyresample import kd_tree, geometry\n",
    "import scipy.io as sio\n",
    "src_dir = os.environ.get('srcdir')\n",
    "sys.path.append(src_dir)\n",
    "from features.mask_roms_uvp import uvp_masks"
   ]
  },
  {
   "cell_type": "code",
   "execution_count": 2,
   "metadata": {},
   "outputs": [
    {
     "name": "stdout",
     "output_type": "stream",
     "text": [
      "load  /home/ubuntu/bigStick/tidal_melting/data/preprocessing/interim/waom10_grd_raw.nc\n"
     ]
    }
   ],
   "source": [
    "#get roms grid\n",
    "R_grid_path = os.path.join(os.environ.get('intdir'),'waom10_grd_raw.nc')\n",
    "print('load ',R_grid_path)\n",
    "R_grid = xr.open_dataset(R_grid_path)\n",
    "\n",
    "out_path = os.path.join(os.environ.get('intdir'),'waom01_grd_patched.nc')"
   ]
  },
  {
   "cell_type": "code",
   "execution_count": 3,
   "metadata": {},
   "outputs": [
    {
     "name": "stdout",
     "output_type": "stream",
     "text": [
      "load  /home/ubuntu/bigStick/tidal_melting/data/preprocessing/external/gwyther/tisom008_grd.nc\n"
     ]
    }
   ],
   "source": [
    "#get TISOM patch\n",
    "T_grid_path = os.path.join(os.environ.get('extdir'),'gwyther','tisom008_grd.nc')\n",
    "print('load ',T_grid_path)\n",
    "T_grid = xr.open_dataset(T_grid_path)"
   ]
  },
  {
   "cell_type": "code",
   "execution_count": 4,
   "metadata": {},
   "outputs": [
    {
     "name": "stdout",
     "output_type": "stream",
     "text": [
      "load  /home/ubuntu/bigStick/tidal_melting/data/preprocessing/external/millan/Bathymetry_ASE_Millan_et_al_2017.nc\n"
     ]
    }
   ],
   "source": [
    "amundsen_fix_path = os.path.join(os.environ.get('extdir'),'millan','Bathymetry_ASE_Millan_et_al_2017.nc')\n",
    "print('load ',amundsen_fix_path)\n",
    "amu_fix = xr.open_dataset(amundsen_fix_path)\n",
    "\n",
    "amundsen_fix_latlon_path = os.path.join(os.environ.get('extdir'),'millan','lon_lat_romain_grid.mat')"
   ]
  },
  {
   "cell_type": "code",
   "execution_count": 5,
   "metadata": {},
   "outputs": [
    {
     "name": "stdout",
     "output_type": "stream",
     "text": [
      "resample TISOM\n"
     ]
    },
    {
     "ename": "NameError",
     "evalue": "name 'T_grid_sel' is not defined",
     "output_type": "error",
     "traceback": [
      "\u001b[0;31m---------------------------------------------------------------------------\u001b[0m",
      "\u001b[0;31mNameError\u001b[0m                                 Traceback (most recent call last)",
      "\u001b[0;32m<ipython-input-5-9563d65d6fd6>\u001b[0m in \u001b[0;36m<module>\u001b[0;34m()\u001b[0m\n\u001b[1;32m      1\u001b[0m \u001b[0mprint\u001b[0m\u001b[0;34m(\u001b[0m\u001b[0;34m'resample TISOM'\u001b[0m\u001b[0;34m)\u001b[0m\u001b[0;34m\u001b[0m\u001b[0m\n\u001b[0;32m----> 2\u001b[0;31m \u001b[0mT_def\u001b[0m \u001b[0;34m=\u001b[0m \u001b[0mgeometry\u001b[0m\u001b[0;34m.\u001b[0m\u001b[0mSwathDefinition\u001b[0m\u001b[0;34m(\u001b[0m\u001b[0mlons\u001b[0m\u001b[0;34m=\u001b[0m\u001b[0mT_grid_sel\u001b[0m\u001b[0;34m.\u001b[0m\u001b[0mlon_rho\u001b[0m\u001b[0;34m.\u001b[0m\u001b[0mvalues\u001b[0m\u001b[0;34m,\u001b[0m\u001b[0mlats\u001b[0m\u001b[0;34m=\u001b[0m\u001b[0mT_grid_sel\u001b[0m\u001b[0;34m.\u001b[0m\u001b[0mlat_rho\u001b[0m\u001b[0;34m.\u001b[0m\u001b[0mvalues\u001b[0m\u001b[0;34m)\u001b[0m\u001b[0;34m\u001b[0m\u001b[0m\n\u001b[0m\u001b[1;32m      3\u001b[0m \u001b[0mR_def\u001b[0m \u001b[0;34m=\u001b[0m \u001b[0mgeometry\u001b[0m\u001b[0;34m.\u001b[0m\u001b[0mSwathDefinition\u001b[0m\u001b[0;34m(\u001b[0m\u001b[0mlons\u001b[0m\u001b[0;34m=\u001b[0m\u001b[0mR_grid\u001b[0m\u001b[0;34m.\u001b[0m\u001b[0mlon_rho\u001b[0m\u001b[0;34m.\u001b[0m\u001b[0mvalues\u001b[0m\u001b[0;34m,\u001b[0m\u001b[0mlats\u001b[0m\u001b[0;34m=\u001b[0m\u001b[0mR_grid\u001b[0m\u001b[0;34m.\u001b[0m\u001b[0mlat_rho\u001b[0m\u001b[0;34m.\u001b[0m\u001b[0mvalues\u001b[0m\u001b[0;34m)\u001b[0m\u001b[0;34m\u001b[0m\u001b[0m\n",
      "\u001b[0;31mNameError\u001b[0m: name 'T_grid_sel' is not defined"
     ]
    }
   ],
   "source": [
    "print('resample TISOM')\n",
    "T_def = geometry.SwathDefinition(lons=T_grid_sel.lon_rho.values,lats=T_grid_sel.lat_rho.values)\n",
    "R_def = geometry.SwathDefinition(lons=R_grid.lon_rho.values,lats=R_grid.lat_rho.values)"
   ]
  },
  {
   "cell_type": "code",
   "execution_count": 6,
   "metadata": {
    "scrolled": true
   },
   "outputs": [
    {
     "ename": "NameError",
     "evalue": "name 'T_def' is not defined",
     "output_type": "error",
     "traceback": [
      "\u001b[0;31m---------------------------------------------------------------------------\u001b[0m",
      "\u001b[0;31mNameError\u001b[0m                                 Traceback (most recent call last)",
      "\u001b[0;32m<ipython-input-6-f91ec729762a>\u001b[0m in \u001b[0;36m<module>\u001b[0;34m()\u001b[0m\n\u001b[1;32m      2\u001b[0m \u001b[0mT_res\u001b[0m \u001b[0;34m=\u001b[0m \u001b[0;34m{\u001b[0m\u001b[0;34m}\u001b[0m\u001b[0;34m\u001b[0m\u001b[0m\n\u001b[1;32m      3\u001b[0m \u001b[0;32mfor\u001b[0m \u001b[0mvar\u001b[0m \u001b[0;32min\u001b[0m \u001b[0;34m[\u001b[0m\u001b[0;34m'h'\u001b[0m\u001b[0;34m,\u001b[0m\u001b[0;34m'zice'\u001b[0m\u001b[0;34m,\u001b[0m\u001b[0;34m'mask_rho'\u001b[0m\u001b[0;34m]\u001b[0m\u001b[0;34m:\u001b[0m\u001b[0;31m#,'mask_u','mask_v','mask_psi']:\u001b[0m\u001b[0;34m\u001b[0m\u001b[0m\n\u001b[0;32m----> 4\u001b[0;31m     \u001b[0mT_res\u001b[0m\u001b[0;34m[\u001b[0m\u001b[0mvar\u001b[0m\u001b[0;34m]\u001b[0m \u001b[0;34m=\u001b[0m \u001b[0mkd_tree\u001b[0m\u001b[0;34m.\u001b[0m\u001b[0mresample_nearest\u001b[0m\u001b[0;34m(\u001b[0m\u001b[0mT_def\u001b[0m\u001b[0;34m,\u001b[0m\u001b[0mT_grid_sel\u001b[0m\u001b[0;34m[\u001b[0m\u001b[0mvar\u001b[0m\u001b[0;34m]\u001b[0m\u001b[0;34m.\u001b[0m\u001b[0mvalues\u001b[0m\u001b[0;34m,\u001b[0m\u001b[0mR_def\u001b[0m\u001b[0;34m,\u001b[0m\u001b[0;36m10000\u001b[0m\u001b[0;34m,\u001b[0m\u001b[0mfill_value\u001b[0m\u001b[0;34m=\u001b[0m\u001b[0;32mNone\u001b[0m\u001b[0;34m,\u001b[0m\u001b[0mnprocs\u001b[0m\u001b[0;34m=\u001b[0m\u001b[0;36m16\u001b[0m\u001b[0;34m)\u001b[0m\u001b[0;34m\u001b[0m\u001b[0m\n\u001b[0m",
      "\u001b[0;31mNameError\u001b[0m: name 'T_def' is not defined"
     ]
    }
   ],
   "source": [
    "#resample tisom\n",
    "T_res = {}\n",
    "for var in ['h','zice','mask_rho']:#,'mask_u','mask_v','mask_psi']:\n",
    "    T_res[var] = kd_tree.resample_nearest(T_def,T_grid_sel[var].values,R_def,10000,fill_value=None,nprocs=16)"
   ]
  },
  {
   "cell_type": "code",
   "execution_count": 7,
   "metadata": {},
   "outputs": [
    {
     "ename": "NameError",
     "evalue": "name 'T_grid_sel' is not defined",
     "output_type": "error",
     "traceback": [
      "\u001b[0;31m---------------------------------------------------------------------------\u001b[0m",
      "\u001b[0;31mNameError\u001b[0m                                 Traceback (most recent call last)",
      "\u001b[0;32m<ipython-input-7-3d187d35b26d>\u001b[0m in \u001b[0;36m<module>\u001b[0;34m()\u001b[0m\n\u001b[1;32m      1\u001b[0m \u001b[0;31m#resample boundary lats and lon for later smoothing\u001b[0m\u001b[0;34m\u001b[0m\u001b[0;34m\u001b[0m\u001b[0m\n\u001b[0;32m----> 2\u001b[0;31m \u001b[0mT_def\u001b[0m \u001b[0;34m=\u001b[0m \u001b[0mgeometry\u001b[0m\u001b[0;34m.\u001b[0m\u001b[0mSwathDefinition\u001b[0m\u001b[0;34m(\u001b[0m\u001b[0mlons\u001b[0m\u001b[0;34m=\u001b[0m\u001b[0mT_grid_sel\u001b[0m\u001b[0;34m.\u001b[0m\u001b[0mlon_rho\u001b[0m\u001b[0;34m[\u001b[0m\u001b[0;34m:\u001b[0m\u001b[0;34m,\u001b[0m\u001b[0;34m[\u001b[0m\u001b[0;36m0\u001b[0m\u001b[0;34m,\u001b[0m\u001b[0;34m-\u001b[0m\u001b[0;36m1\u001b[0m\u001b[0;34m]\u001b[0m\u001b[0;34m]\u001b[0m\u001b[0;34m.\u001b[0m\u001b[0mvalues\u001b[0m\u001b[0;34m,\u001b[0m\u001b[0mlats\u001b[0m\u001b[0;34m=\u001b[0m\u001b[0mT_grid_sel\u001b[0m\u001b[0;34m.\u001b[0m\u001b[0mlat_rho\u001b[0m\u001b[0;34m[\u001b[0m\u001b[0;34m:\u001b[0m\u001b[0;34m,\u001b[0m\u001b[0;34m[\u001b[0m\u001b[0;36m0\u001b[0m\u001b[0;34m,\u001b[0m\u001b[0;34m-\u001b[0m\u001b[0;36m1\u001b[0m\u001b[0;34m]\u001b[0m\u001b[0;34m]\u001b[0m\u001b[0;34m.\u001b[0m\u001b[0mvalues\u001b[0m\u001b[0;34m)\u001b[0m\u001b[0;34m\u001b[0m\u001b[0m\n\u001b[0m\u001b[1;32m      3\u001b[0m \u001b[0mT_res\u001b[0m\u001b[0;34m[\u001b[0m\u001b[0;34m'lon_we'\u001b[0m\u001b[0;34m]\u001b[0m \u001b[0;34m=\u001b[0m \u001b[0mkd_tree\u001b[0m\u001b[0;34m.\u001b[0m\u001b[0mresample_nearest\u001b[0m\u001b[0;34m(\u001b[0m\u001b[0mT_def\u001b[0m\u001b[0;34m,\u001b[0m\u001b[0mT_grid_sel\u001b[0m\u001b[0;34m.\u001b[0m\u001b[0mlon_rho\u001b[0m\u001b[0;34m[\u001b[0m\u001b[0;34m:\u001b[0m\u001b[0;34m,\u001b[0m\u001b[0;34m[\u001b[0m\u001b[0;36m0\u001b[0m\u001b[0;34m,\u001b[0m\u001b[0;34m-\u001b[0m\u001b[0;36m1\u001b[0m\u001b[0;34m]\u001b[0m\u001b[0;34m]\u001b[0m\u001b[0;34m.\u001b[0m\u001b[0mvalues\u001b[0m\u001b[0;34m,\u001b[0m\u001b[0mR_def\u001b[0m\u001b[0;34m,\u001b[0m\u001b[0;36m10000\u001b[0m\u001b[0;34m,\u001b[0m\u001b[0mfill_value\u001b[0m\u001b[0;34m=\u001b[0m\u001b[0;32mNone\u001b[0m\u001b[0;34m,\u001b[0m\u001b[0mnprocs\u001b[0m\u001b[0;34m=\u001b[0m\u001b[0;36m16\u001b[0m\u001b[0;34m)\u001b[0m\u001b[0;34m\u001b[0m\u001b[0m\n\u001b[1;32m      4\u001b[0m \u001b[0;34m\u001b[0m\u001b[0m\n\u001b[1;32m      5\u001b[0m \u001b[0mT_def\u001b[0m \u001b[0;34m=\u001b[0m \u001b[0mgeometry\u001b[0m\u001b[0;34m.\u001b[0m\u001b[0mSwathDefinition\u001b[0m\u001b[0;34m(\u001b[0m\u001b[0mlons\u001b[0m\u001b[0;34m=\u001b[0m\u001b[0mT_grid_sel\u001b[0m\u001b[0;34m.\u001b[0m\u001b[0mlon_rho\u001b[0m\u001b[0;34m[\u001b[0m\u001b[0;34m[\u001b[0m\u001b[0;36m0\u001b[0m\u001b[0;34m,\u001b[0m\u001b[0;34m-\u001b[0m\u001b[0;36m1\u001b[0m\u001b[0;34m]\u001b[0m\u001b[0;34m]\u001b[0m\u001b[0;34m.\u001b[0m\u001b[0mvalues\u001b[0m\u001b[0;34m,\u001b[0m\u001b[0mlats\u001b[0m\u001b[0;34m=\u001b[0m\u001b[0mT_grid_sel\u001b[0m\u001b[0;34m.\u001b[0m\u001b[0mlat_rho\u001b[0m\u001b[0;34m[\u001b[0m\u001b[0;34m[\u001b[0m\u001b[0;36m0\u001b[0m\u001b[0;34m,\u001b[0m\u001b[0;34m-\u001b[0m\u001b[0;36m1\u001b[0m\u001b[0;34m]\u001b[0m\u001b[0;34m]\u001b[0m\u001b[0;34m.\u001b[0m\u001b[0mvalues\u001b[0m\u001b[0;34m)\u001b[0m\u001b[0;34m\u001b[0m\u001b[0m\n",
      "\u001b[0;31mNameError\u001b[0m: name 'T_grid_sel' is not defined"
     ]
    }
   ],
   "source": [
    "#resample boundary lats and lon for later smoothing\n",
    "T_def = geometry.SwathDefinition(lons=T_grid_sel.lon_rho[:,[0,-1]].values,lats=T_grid_sel.lat_rho[:,[0,-1]].values)\n",
    "T_res['lon_we'] = kd_tree.resample_nearest(T_def,T_grid_sel.lon_rho[:,[0,-1]].values,R_def,10000,fill_value=None,nprocs=16)\n",
    "\n",
    "T_def = geometry.SwathDefinition(lons=T_grid_sel.lon_rho[[0,-1]].values,lats=T_grid_sel.lat_rho[[0,-1]].values)\n",
    "T_res['lon_sn'] = kd_tree.resample_nearest(T_def,T_grid_sel.lon_rho[[0,-1]].values,R_def,10000,fill_value=None,nprocs=16)"
   ]
  },
  {
   "cell_type": "code",
   "execution_count": 93,
   "metadata": {},
   "outputs": [],
   "source": [
    "from scipy.interpolate import LinearNDInterpolator\n",
    "\n",
    "def NDinterp(data):\n",
    "\n",
    "    valid_mask = ~np.isnan(data)\n",
    "    coords = np.array(np.nonzero(valid_mask)).T\n",
    "    values = data[valid_mask]\n",
    "\n",
    "    it = LinearNDInterpolator(coords,values)\n",
    "\n",
    "    filled = it(list(np.ndindex(data.shape))).reshape(data.shape)\n",
    "\n",
    "    return filled"
   ]
  },
  {
   "cell_type": "code",
   "execution_count": 94,
   "metadata": {},
   "outputs": [
    {
     "name": "stdout",
     "output_type": "stream",
     "text": [
      "\n",
      "\n",
      "\n"
     ]
    }
   ],
   "source": [
    "#add tisom in waom grid\n",
    "R_new = R_grid.copy()\n",
    "for var in ['h','zice','mask_rho']:\n",
    "    print('')\n",
    "\n",
    "    R_new[var].values[~T_res[var].mask]=T_res[var].data[~T_res[var].mask]\n",
    "    R_new[var].values[~T_res['lon_sn'].mask]=np.nan\n",
    "    R_new[var].values[~T_res['lon_we'].mask]=np.nan\n",
    "    \n",
    "    R_new[var].values = NDinterp(R_new[var].values)\n",
    "    \n",
    "R_new.mask_rho.values[R_new.mask_rho.values<0.5]=0\n",
    "R_new.mask_rho.values[R_new.mask_rho.values>=0.5]=1"
   ]
  },
  {
   "cell_type": "code",
   "execution_count": 96,
   "metadata": {},
   "outputs": [],
   "source": [
    "#get amundsen patch and prepare lat lon coords\n",
    "print('resample amundsen')\n",
    "amu_fix_latlon = sio.loadmat(amundsen_fix_latlon_path)\n",
    "amu_lon = amu_fix_latlon['lone']\n",
    "amu_lat = amu_fix_latlon['late']\n",
    "amu_lon[amu_lon>180]-=360.0"
   ]
  },
  {
   "cell_type": "code",
   "execution_count": 97,
   "metadata": {
    "scrolled": true
   },
   "outputs": [],
   "source": [
    "A_res = {}\n",
    "A_def = geometry.SwathDefinition(lons=amu_lon,lats=amu_lat)\n",
    "R_def = geometry.SwathDefinition(lons=R_grid.lon_rho.values,lats=R_grid.lat_rho.values)\n",
    "A_res['h'] = kd_tree.resample_nearest(A_def,-amu_fix.BED.values,R_def,10000,fill_value=None,nprocs=16)"
   ]
  },
  {
   "cell_type": "code",
   "execution_count": 98,
   "metadata": {},
   "outputs": [],
   "source": [
    "#resample boundary lats and lon for later smoothing\n",
    "A_def = geometry.SwathDefinition(lons=amu_lon[:,[0,-1]],lats=amu_lat[:,[0,-1]])\n",
    "A_res['lon_we'] = kd_tree.resample_nearest(A_def,-amu_fix.BED.values[:,[0,-1]],R_def,10000,fill_value=None,nprocs=16)\n",
    "\n",
    "A_def = geometry.SwathDefinition(lons=amu_lon[[0,-1]],lats=amu_lat[[0,-1]])\n",
    "A_res['lon_sn'] = kd_tree.resample_nearest(A_def,-amu_fix.BED.values[[0,-1]],R_def,10000,fill_value=None,nprocs=16)"
   ]
  },
  {
   "cell_type": "code",
   "execution_count": 99,
   "metadata": {},
   "outputs": [],
   "source": [
    "R_new['h'].values[~A_res['h'].mask]=A_res['h'].data[~A_res['h'].mask]\n",
    "R_new['h'].values[~A_res['lon_sn'].mask]=np.nan\n",
    "R_new['h'].values[~A_res['lon_we'].mask]=np.nan\n",
    "\n",
    "R_new['h'].values = NDinterp(R_new['h'].values)\n",
    "\n",
    "#R_new.mask_rho.values[(R_new.h+R_new.zice).values<20.0]=0\n",
    "#R_new.mask_rho.values[(R_new.h+R_new.zice).values<20.0]=0"
   ]
  },
  {
   "cell_type": "code",
   "execution_count": 100,
   "metadata": {},
   "outputs": [],
   "source": [
    "bed = R_new.h.values.copy()\n",
    "ice = R_new.zice.values.copy()\n",
    "#set bed minimum depth to 10 cm\n",
    "bed[bed<0.1]= 0.1\n",
    "#set ice draft at these places to zero \n",
    "ice[bed<0.1] = 0.0\n",
    "\n",
    "#set water column thickness to a small positive value (ROMS don't like when bed = ice draft)\n",
    "wct = (bed+ice).copy()\n",
    "ice[wct==0] = -bed[wct==0] + 0.1\n",
    "\n",
    "R_new.h.values = bed.copy()\n",
    "R_new.zice.values = ice.copy()\n",
    "R_new.mask_rho.values[wct<20.0]=0"
   ]
  },
  {
   "cell_type": "code",
   "execution_count": 103,
   "metadata": {},
   "outputs": [],
   "source": [
    "R_new.mask_u.values,R_new.mask_v.values,R_new.mask_psi.values = uvp_masks(R_new.mask_rho.values)"
   ]
  },
  {
   "cell_type": "code",
   "execution_count": 105,
   "metadata": {},
   "outputs": [],
   "source": [
    "print('write to ',out_path)\n",
    "R_new.to_netcdf(out_path)"
   ]
  },
  {
   "cell_type": "raw",
   "metadata": {},
   "source": [
    "! jupyter nbconvert --to script include_bathy_patches.ipynb"
   ]
  }
 ],
 "metadata": {
  "kernelspec": {
   "display_name": "Python 3",
   "language": "python",
   "name": "python3"
  },
  "language_info": {
   "codemirror_mode": {
    "name": "ipython",
    "version": 3
   },
   "file_extension": ".py",
   "mimetype": "text/x-python",
   "name": "python",
   "nbconvert_exporter": "python",
   "pygments_lexer": "ipython3",
   "version": "3.6.3"
  }
 },
 "nbformat": 4,
 "nbformat_minor": 2
}

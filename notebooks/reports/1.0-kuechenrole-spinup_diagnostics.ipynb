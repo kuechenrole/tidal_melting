{
 "cells": [
  {
   "cell_type": "markdown",
   "metadata": {},
   "source": [
    "# Kinetic energy, ocean heat content and average salinity\n",
    "## Preprocessing\n",
    "Load data, get cartesian coordinates, calculate time dependent volumes of cells and interpolate velocities onto rho grid."
   ]
  },
  {
   "cell_type": "code",
   "execution_count": 8,
   "metadata": {},
   "outputs": [
    {
     "name": "stdout",
     "output_type": "stream",
     "text": [
      "The autoreload extension is already loaded. To reload it, use:\n",
      "  %reload_ext autoreload\n",
      "The memory_profiler extension is already loaded. To reload it, use:\n",
      "  %reload_ext memory_profiler\n"
     ]
    }
   ],
   "source": [
    "import xarray as xr\n",
    "import numpy as np\n",
    "import matplotlib.pyplot as plt\n",
    "\n",
    "# Load the \"autoreload\" extension\n",
    "%load_ext autoreload\n",
    "# always reload modules marked with \"%aimport\"\n",
    "%autoreload 1\n",
    "\n",
    "import os\n",
    "import sys\n",
    "\n",
    "# add the 'src' directory as one where we can import modules\n",
    "src_dir = os.path.join(os.environ.get('projdir'),'src')\n",
    "sys.path.append(src_dir)\n",
    "\n",
    "# import my methods, make sure they get reloded by each call\n",
    "from features.roms_ds import make_cartesian_grid_3D, make_uv_lonlat, make_4D_depth\n",
    "%aimport features.roms_ds\n",
    "\n",
    "%load_ext memory_profiler"
   ]
  },
  {
   "cell_type": "code",
   "execution_count": 7,
   "metadata": {
    "scrolled": true
   },
   "outputs": [
    {
     "name": "stdout",
     "output_type": "stream",
     "text": [
      "peak memory: 9946.59 MiB, increment: 0.03 MiB\n",
      "Load files:  /home/ubuntu/bigStick/tidal_melting/data/analysis/raw/waom10/ocean_avg_0001.nc\n",
      "calculate dx,dy,dz and dV\n",
      "interpolate velocities on rho points\n",
      "peak memory: 10844.07 MiB, increment: 0.00 MiB\n"
     ]
    }
   ],
   "source": [
    "%memit\n",
    "file_path = os.path.join(os.environ.get('rawdir'),'waom10','ocean_avg_000?.nc')\n",
    "\n",
    "print('Load files: ',file_path)\n",
    "ds = xr.open_mfdataset(file_path,data_vars=\"minimal\",chunks={'xi_rho':100,'eta_rho':100})\n",
    "\n",
    "print('calculate dx,dy,dz and dV')\n",
    "ds = make_cartesian_grid_3D(ds.isel(ocean_time=[0]))\n",
    "\n",
    "print('interpolate velocities on rho points')\n",
    "ds = make_uv_lonlat(ds)\n",
    "%memit"
   ]
  },
  {
   "cell_type": "markdown",
   "metadata": {},
   "source": [
    "Calculate 4D arrays of ocean heat content and kinetic energy."
   ]
  },
  {
   "cell_type": "code",
   "execution_count": 9,
   "metadata": {},
   "outputs": [
    {
     "name": "stdout",
     "output_type": "stream",
     "text": [
      "calculating ocean heat content of each cell at all times\n",
      "calculating kinetic energy of each cell at all times\n",
      "peak memory: 10845.04 MiB, increment: 0.00 MiB\n"
     ]
    }
   ],
   "source": [
    "Cp = 3974        # Specific heat of polar seawater (J/K/kg)\n",
    "C2K = 273.15     # Celsius to Kelvin conversion\n",
    "\n",
    "rho = ds.rho+ds.rho0\n",
    "\n",
    "print('calculating ocean heat content of each cell at all times')\n",
    "ohc = (ds.temp+C2K)*rho*Cp*ds.dV\n",
    "\n",
    "print('calculating kinetic energy of each cell at all times')\n",
    "ke = 0.5*rho*(ds.u_lonlat**2 + ds.v_lonlat**2)*ds.dV\n",
    "%memit"
   ]
  },
  {
   "cell_type": "code",
   "execution_count": 10,
   "metadata": {},
   "outputs": [
    {
     "name": "stdout",
     "output_type": "stream",
     "text": [
      "peak memory: 10845.04 MiB, increment: 0.00 MiB\n",
      "peak memory: 10845.08 MiB, increment: 0.04 MiB\n"
     ]
    }
   ],
   "source": [
    "%memit\n",
    "ds = ds.drop(['w','u','v','AKv','AKs','AKt','dx','dy','dz'])\n",
    "%memit"
   ]
  },
  {
   "cell_type": "markdown",
   "metadata": {},
   "source": [
    "##  ice shelf cavities\n",
    "The cavities are expected to spin up most quickly and are of greatest importance for us. "
   ]
  },
  {
   "cell_type": "code",
   "execution_count": 11,
   "metadata": {
    "scrolled": true
   },
   "outputs": [
    {
     "name": "stdout",
     "output_type": "stream",
     "text": [
      "peak memory: 10844.96 MiB, increment: 0.00 MiB\n"
     ]
    }
   ],
   "source": [
    "mask_cavity = ds.zice < 0.0\n",
    "weights_cavity = ds.dV.where(ds.zice < 0.0)*rho/(ds.dV.where(ds.zice < 0.0)*rho).sum(dim=['s_rho','xi_rho','eta_rho'])\n",
    "%memit"
   ]
  },
  {
   "cell_type": "code",
   "execution_count": 12,
   "metadata": {},
   "outputs": [],
   "source": [
    "def plot_spin(da,mask,title_str,weights=None,avg=False):\n",
    "    if avg:\n",
    "        timeseries = (da.where(mask) * weights).sum(dim=['s_rho','xi_rho','eta_rho'])\n",
    "    else:\n",
    "        timeseries =  da.where(mask).sum(dim=['s_rho','xi_rho','eta_rho'])\n",
    "        \n",
    "    plt.close()\n",
    "    plt.figure(figsize=(15,3))\n",
    "    ((timeseries-timeseries[0])/timeseries[0]*100).plot()\n",
    "    plt.title(title_str)\n",
    "    plt.ylabel('relative difference to initiation in %')\n",
    "    plt.show()"
   ]
  },
  {
   "cell_type": "code",
   "execution_count": 14,
   "metadata": {
    "scrolled": true
   },
   "outputs": [
    {
     "data": {
      "image/png": "[encoded data removed]",
      "text/plain": [
       "<matplotlib.figure.Figure at 0x7f9e9f2a1908>"
      ]
     },
     "metadata": {},
     "output_type": "display_data"
    },
    {
     "name": "stdout",
     "output_type": "stream",
     "text": [
      "peak memory: 10855.61 MiB, increment: 0.00 MiB\n",
      "CPU times: user 5.18 s, sys: 3.44 s, total: 8.61 s\n",
      "Wall time: 7.81 s\n"
     ]
    }
   ],
   "source": [
    "%%time\n",
    "plot_spin(ohc,mask_cavity,'OHC in ice shelf cavities')\n",
    "%memit"
   ]
  },
  {
   "cell_type": "code",
   "execution_count": null,
   "metadata": {},
   "outputs": [],
   "source": [
    "plot_spin(ke,mask_cavity,'KE in ice shelf cavities')\n",
    "%memit"
   ]
  },
  {
   "cell_type": "code",
   "execution_count": null,
   "metadata": {
    "scrolled": true
   },
   "outputs": [],
   "source": [
    "plot_spin(ds.salt,mask_cavity,'AVG SALT in ice shelf cavities',weights_cavity,avg=True)\n",
    "%memit"
   ]
  },
  {
   "cell_type": "markdown",
   "metadata": {},
   "source": [
    "##  on shelf ocean\n",
    "By selecting data above 1000m, south of 60S and under the cavity, I separate the for us interesting on shelf and slower spin up off shelf ocean. "
   ]
  },
  {
   "cell_type": "code",
   "execution_count": null,
   "metadata": {
    "scrolled": true
   },
   "outputs": [],
   "source": [
    "# add the depth of each cell at each time to the data set\n",
    "ds = make_4D_depth(ds)\n",
    "ds['depth'] = ds.depth.mean('ocean_time')\n",
    "#set up the mask (array of bolian values)\n",
    "mask_shelf= (ds.lat_rho < -60) & (ds.depth > -1000) | (ds.zice < 0.0)\n",
    "weights_shelf = ds.dV.where(mask_shelf)*rho/(ds.dV.where(mask_shelf)*rho).sum(dim=['s_rho','xi_rho','eta_rho'])\n",
    "%memit"
   ]
  },
  {
   "cell_type": "code",
   "execution_count": null,
   "metadata": {},
   "outputs": [],
   "source": [
    "#check up plots\n",
    "plt.close()\n",
    "weights.isel(s_rho = 0,ocean_time=0).plot()\n",
    "plt.show()"
   ]
  },
  {
   "cell_type": "code",
   "execution_count": null,
   "metadata": {
    "scrolled": false
   },
   "outputs": [],
   "source": [
    "plot_spin(ohc,mask_shelf,'OHC on shelf')\n",
    "%memit"
   ]
  },
  {
   "cell_type": "code",
   "execution_count": null,
   "metadata": {},
   "outputs": [],
   "source": [
    "plot_spin(ke,mask_shelf,'KE on shelf')\n",
    "%memit"
   ]
  },
  {
   "cell_type": "code",
   "execution_count": null,
   "metadata": {
    "scrolled": false
   },
   "outputs": [],
   "source": [
    "plot_spin(ds.salt,mask_shelf,'AVG SALT on shelf',weights_shelf,avg=True)\n",
    "%memit"
   ]
  },
  {
   "cell_type": "markdown",
   "metadata": {},
   "source": [
    "##  off shelf  and deep ocean"
   ]
  },
  {
   "cell_type": "code",
   "execution_count": null,
   "metadata": {
    "scrolled": true
   },
   "outputs": [],
   "source": [
    "mask_deep = ~mask_shelf\n",
    "weights_deep = ds.dV.where(mask_deep)*rho/(ds.dV.where(mask_deep)*rho).sum(dim=['s_rho','xi_rho','eta_rho'])\n",
    "%memit"
   ]
  },
  {
   "cell_type": "code",
   "execution_count": null,
   "metadata": {},
   "outputs": [],
   "source": [
    "#check up plots\n",
    "plt.close()\n",
    "weights.isel(s_rho = 0,ocean_time=0).plot()\n",
    "plt.show()"
   ]
  },
  {
   "cell_type": "code",
   "execution_count": null,
   "metadata": {
    "scrolled": false
   },
   "outputs": [],
   "source": [
    "plot_spin(ohc,mask_shelf,'OHC of shelf')\n",
    "%memit"
   ]
  },
  {
   "cell_type": "code",
   "execution_count": null,
   "metadata": {},
   "outputs": [],
   "source": [
    "plot_spin(ke,mask_shelf,'KE of shelf')\n",
    "%memit"
   ]
  },
  {
   "cell_type": "code",
   "execution_count": null,
   "metadata": {
    "scrolled": false
   },
   "outputs": [],
   "source": [
    "plot_spin(ds.salt,mask_shelf,'AVG of shelf',weights_shelf,avg=True)\n",
    "%memit"
   ]
  }
 ],
 "metadata": {
  "kernelspec": {
   "display_name": "Python 3",
   "language": "python",
   "name": "python3"
  },
  "language_info": {
   "codemirror_mode": {
    "name": "ipython",
    "version": 3
   },
   "file_extension": ".py",
   "mimetype": "text/x-python",
   "name": "python",
   "nbconvert_exporter": "python",
   "pygments_lexer": "ipython3",
   "version": "3.6.3"
  }
 },
 "nbformat": 4,
 "nbformat_minor": 2
}

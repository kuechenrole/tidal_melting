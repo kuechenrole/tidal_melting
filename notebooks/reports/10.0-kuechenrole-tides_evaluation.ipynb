{
 "cells": [
  {
   "cell_type": "code",
   "execution_count": 8,
   "metadata": {
    "scrolled": true
   },
   "outputs": [
    {
     "name": "stdout",
     "output_type": "stream",
     "text": [
      "/home/ubuntu/bigStick/tidal_melting/src\n",
      "The autoreload extension is already loaded. To reload it, use:\n",
      "  %reload_ext autoreload\n"
     ]
    }
   ],
   "source": [
    "import os\n",
    "import sys\n",
    "import xarray as xr\n",
    "import datetime\n",
    "from dotenv import load_dotenv, find_dotenv\n",
    "\n",
    "# find .env automagically by walking up directories until it's found\n",
    "dotenv_path = find_dotenv()\n",
    "\n",
    "# load up the entries as environment variables\n",
    "load_dotenv(dotenv_path)\n",
    "\n",
    "src_dir = os.environ.get('srcdir')\n",
    "print(src_dir)\n",
    "\n",
    "sys.path.append(src_dir)\n",
    "\n",
    "# always reload modules marked with \"%aimport\"\n",
    "%load_ext autoreload\n",
    "%autoreload 1\n",
    "\n",
    "%aimport features.compare_tide\n",
    "from features.compare_tide import compare_tide"
   ]
  },
  {
   "cell_type": "code",
   "execution_count": 15,
   "metadata": {},
   "outputs": [
    {
     "name": "stdout",
     "output_type": "stream",
     "text": [
      " Station:  20100- Davis\n",
      "Amp(amp_err)[m]:  atg      roms  || phase(phase_err)[deg]:  atg       roms\n",
      "M2 :             0.20   0.42(0.02)                       208.51   115.34(2.31)\n",
      "O1 :             0.29   0.19(0.00)                       269.02   13.27(1.43)\n",
      " Station:  c16  (gravity measurements on the RIS)\n",
      "Amp(amp_err)[m]:  atg      roms  || phase(phase_err)[deg]:  atg       roms\n",
      "M2 :             0.03   0.11(0.01)                       311.51   228.08(4.66)\n",
      "O1 :             0.26   0.16(0.00)                       190.82   277.70(1.49)\n"
     ]
    }
   ],
   "source": [
    "atg_path = os.path.join(os.environ.get('projdir'),'data','analysis','external','atg','ATG_ocean_height_2010_0908.mat')\n",
    "his = os.path.join(os.environ.get('rawdir'),'waom10_Cd','ocean_his_x10Cd_0006.nc')\n",
    "\n",
    "zeta = xr.open_dataset(his).zeta\n",
    "\n",
    "station_id = [24,30,1]\n",
    "const_list = ['M2','O1']\n",
    "stime=datetime.datetime(2007,1,1)\n",
    "\n",
    "compare_tide(atg_path,zeta)"
   ]
  },
  {
   "cell_type": "code",
   "execution_count": null,
   "metadata": {},
   "outputs": [],
   "source": []
  }
 ],
 "metadata": {
  "kernelspec": {
   "display_name": "Python 3",
   "language": "python",
   "name": "python3"
  },
  "language_info": {
   "codemirror_mode": {
    "name": "ipython",
    "version": 3
   },
   "file_extension": ".py",
   "mimetype": "text/x-python",
   "name": "python",
   "nbconvert_exporter": "python",
   "pygments_lexer": "ipython3",
   "version": "3.6.3"
  }
 },
 "nbformat": 4,
 "nbformat_minor": 2
}
